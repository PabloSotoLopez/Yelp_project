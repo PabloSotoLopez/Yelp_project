{
 "cells": [
  {
   "cell_type": "markdown",
   "metadata": {
    "id": "fkzr6Wz2fa09"
   },
   "source": [
    "# Models.\n",
    "\n"
   ]
  },
  {
   "cell_type": "code",
   "execution_count": null,
   "metadata": {
    "id": "p6unQXKoXFxB"
   },
   "outputs": [],
   "source": [
    "import pandas as pd\n",
    "import numpy as np\n",
    "import json\n",
    "import os\n",
    "import re\n",
    "import matplotlib.pyplot as plt\n",
    "import seaborn as sns\n",
    "import gc\n",
    "\n",
    "\n",
    "from sklearn.ensemble import RandomForestClassifier\n",
    "from sklearn.feature_selection import SelectFromModel\n",
    "from sklearn.model_selection import train_test_split\n",
    "\n",
    "from sklearn.ensemble import RandomForestClassifier, GradientBoostingClassifier\n",
    "from sklearn import metrics\n",
    "from sklearn.metrics import plot_confusion_matrix, roc_curve, roc_auc_score\n",
    "from sklearn.linear_model import Lasso, LogisticRegression\n",
    "from sklearn.feature_selection import SelectFromModel, RFE\n",
    "from sklearn.preprocessing import StandardScaler\n",
    "from sklearn.tree import DecisionTreeClassifier\n",
    "import datetime"
   ]
  },
  {
   "cell_type": "code",
   "execution_count": null,
   "metadata": {
    "colab": {
     "base_uri": "https://localhost:8080/"
    },
    "id": "XHtQ0zhAYj0B",
    "outputId": "ed47d9cc-0f94-4777-8a3f-a2ce32c56dbd"
   },
   "outputs": [
    {
     "name": "stdout",
     "output_type": "stream",
     "text": [
      "Trabajando con 27.33 gigas de RAM.\n"
     ]
    }
   ],
   "source": [
    "from psutil import virtual_memory\n",
    "print(f'Working with {round(virtual_memory().total / 1e9,2)} gigas of RAM.')"
   ]
  },
  {
   "cell_type": "code",
   "execution_count": null,
   "metadata": {
    "colab": {
     "base_uri": "https://localhost:8080/"
    },
    "id": "GkWL7UeuYj3G",
    "outputId": "a459ce8e-d2c4-470f-9909-ec3d73676816"
   },
   "outputs": [
    {
     "name": "stdout",
     "output_type": "stream",
     "text": [
      "Drive already mounted at /content/drive; to attempt to forcibly remount, call drive.mount(\"/content/drive\", force_remount=True).\n"
     ]
    }
   ],
   "source": [
    "from google.colab import drive\n",
    "drive.mount('/content/drive')\n"
   ]
  },
  {
   "cell_type": "code",
   "execution_count": null,
   "metadata": {
    "id": "aaIPqYOCpHH-"
   },
   "outputs": [],
   "source": [
    "os.chdir('/content/drive/MyDrive/yelp/notebooks')"
   ]
  },
  {
   "cell_type": "code",
   "execution_count": null,
   "metadata": {
    "id": "zhkDnDFtYj6S"
   },
   "outputs": [],
   "source": [
    "# Read table for models\n",
    "restaurants = pd.read_parquet(r'../data/restaurants/restaurants_data_models.parquet')"
   ]
  },
  {
   "cell_type": "code",
   "execution_count": null,
   "metadata": {
    "colab": {
     "base_uri": "https://localhost:8080/"
    },
    "id": "B1WZCi-gJJmS",
    "outputId": "1c52afe1-7c0a-4cc8-ae10-7ce5686b7044"
   },
   "outputs": [
    {
     "data": {
      "text/plain": [
       "Index(['metro_area', 'business_id', 'stars', 'name', 'address', 'city',\n",
       "       'state', 'postal_code', 'latitude', 'longitude', 'Alcohol', 'DriveThru',\n",
       "       'RestaurantsDelivery', 'RestaurantsPriceRange2', 'rew_count_2016',\n",
       "       'vander_comp_mean', 'date_min', 'cat_value_mean', 'weekend_hours',\n",
       "       'lab_day_hours'],\n",
       "      dtype='object')"
      ]
     },
     "execution_count": 17,
     "metadata": {},
     "output_type": "execute_result"
    }
   ],
   "source": [
    "restaurants.columns"
   ]
  },
  {
   "cell_type": "code",
   "execution_count": null,
   "metadata": {
    "id": "HorH-oMsCh17"
   },
   "outputs": [],
   "source": [
    "# Assign category to the only column needed\n",
    "restaurants['Alcohol'] = restaurants['Alcohol'].astype('category')\n",
    "restaurants['RestaurantsPriceRange2'] = restaurants['RestaurantsPriceRange2'].astype('category')"
   ]
  },
  {
   "cell_type": "code",
   "execution_count": null,
   "metadata": {
    "colab": {
     "base_uri": "https://localhost:8080/"
    },
    "id": "2cGH-3gwzmec",
    "outputId": "d94d156b-a9bb-4034-91e1-d8cbba2825c5"
   },
   "outputs": [
    {
     "data": {
      "text/plain": [
       "Index(['metro_area', 'business_id', 'stars', 'name', 'address', 'city',\n",
       "       'state', 'postal_code', 'latitude', 'longitude', 'Alcohol', 'DriveThru',\n",
       "       'RestaurantsDelivery', 'RestaurantsPriceRange2', 'rew_count_2016',\n",
       "       'vander_comp_mean', 'date_min', 'cat_value_mean', 'weekend_hours',\n",
       "       'lab_day_hours'],\n",
       "      dtype='object')"
      ]
     },
     "execution_count": 12,
     "metadata": {},
     "output_type": "execute_result"
    }
   ],
   "source": [
    "restaurants.columns"
   ]
  },
  {
   "cell_type": "code",
   "execution_count": null,
   "metadata": {
    "id": "-iUYBmEM2wS6"
   },
   "outputs": [],
   "source": [
    "# Select the features for models.\n",
    "restaurant_model=restaurants[['stars','Alcohol', 'DriveThru', 'RestaurantsDelivery', 'RestaurantsPriceRange2','rew_count_2016','vander_comp_mean','date_min',\n",
    " 'cat_value_mean', 'weekend_hours', 'lab_day_hours']]"
   ]
  },
  {
   "cell_type": "code",
   "execution_count": null,
   "metadata": {
    "colab": {
     "base_uri": "https://localhost:8080/"
    },
    "id": "o012oU0a0I2S",
    "outputId": "d9b6594a-7802-4c99-8e82-ccd154264f67"
   },
   "outputs": [
    {
     "data": {
      "text/plain": [
       "stars                     category\n",
       "Alcohol                   category\n",
       "DriveThru                    int64\n",
       "RestaurantsDelivery          int64\n",
       "RestaurantsPriceRange2    category\n",
       "rew_count_2016               int64\n",
       "vander_comp_mean           float64\n",
       "date_min                     int64\n",
       "cat_value_mean             float64\n",
       "weekend_hours                int64\n",
       "lab_day_hours                int64\n",
       "dtype: object"
      ]
     },
     "execution_count": 20,
     "metadata": {},
     "output_type": "execute_result"
    }
   ],
   "source": [
    "restaurant_model.dtypes"
   ]
  },
  {
   "cell_type": "code",
   "execution_count": null,
   "metadata": {
    "id": "-GXruQKx22pE"
   },
   "outputs": [],
   "source": [
    "# Generate the sat of characteristics and label.\n",
    "X = restaurant_model.drop(['stars'],axis=1)\n",
    "y = restaurant_model['stars']"
   ]
  },
  {
   "cell_type": "code",
   "execution_count": null,
   "metadata": {
    "id": "y7TB_mDO4NPO"
   },
   "outputs": [],
   "source": [
    "# Divided into train and test stratifying by label.\n",
    "X_train, X_test, y_train, y_test = train_test_split(X, y, test_size=0.20, random_state = 42, stratify = y)"
   ]
  },
  {
   "cell_type": "code",
   "execution_count": null,
   "metadata": {
    "colab": {
     "base_uri": "https://localhost:8080/"
    },
    "id": "bExGEaVOsaUN",
    "outputId": "5844440a-f651-43c5-fbfe-472dfad24782"
   },
   "outputs": [
    {
     "name": "stdout",
     "output_type": "stream",
     "text": [
      "Looking in indexes: https://pypi.org/simple, https://us-python.pkg.dev/colab-wheels/public/simple/\n",
      "Collecting category_encoders\n",
      "  Downloading category_encoders-2.5.1.post0-py2.py3-none-any.whl (72 kB)\n",
      "\u001b[2K     \u001b[90m━━━━━━━━━━━━━━━━━━━━━━━━━━━━━━━━━━━━━━━━\u001b[0m \u001b[32m72.4/72.4 KB\u001b[0m \u001b[31m3.3 MB/s\u001b[0m eta \u001b[36m0:00:00\u001b[0m\n",
      "\u001b[?25hRequirement already satisfied: numpy>=1.14.0 in /usr/local/lib/python3.8/dist-packages (from category_encoders) (1.21.6)\n",
      "Requirement already satisfied: statsmodels>=0.9.0 in /usr/local/lib/python3.8/dist-packages (from category_encoders) (0.12.2)\n",
      "Requirement already satisfied: scipy>=1.0.0 in /usr/local/lib/python3.8/dist-packages (from category_encoders) (1.7.3)\n",
      "Requirement already satisfied: patsy>=0.5.1 in /usr/local/lib/python3.8/dist-packages (from category_encoders) (0.5.3)\n",
      "Requirement already satisfied: pandas>=1.0.5 in /usr/local/lib/python3.8/dist-packages (from category_encoders) (1.3.5)\n",
      "Requirement already satisfied: scikit-learn>=0.20.0 in /usr/local/lib/python3.8/dist-packages (from category_encoders) (1.0.2)\n",
      "Requirement already satisfied: pytz>=2017.3 in /usr/local/lib/python3.8/dist-packages (from pandas>=1.0.5->category_encoders) (2022.7)\n",
      "Requirement already satisfied: python-dateutil>=2.7.3 in /usr/local/lib/python3.8/dist-packages (from pandas>=1.0.5->category_encoders) (2.8.2)\n",
      "Requirement already satisfied: six in /usr/local/lib/python3.8/dist-packages (from patsy>=0.5.1->category_encoders) (1.15.0)\n",
      "Requirement already satisfied: threadpoolctl>=2.0.0 in /usr/local/lib/python3.8/dist-packages (from scikit-learn>=0.20.0->category_encoders) (3.1.0)\n",
      "Requirement already satisfied: joblib>=0.11 in /usr/local/lib/python3.8/dist-packages (from scikit-learn>=0.20.0->category_encoders) (1.2.0)\n",
      "Installing collected packages: category_encoders\n",
      "Successfully installed category_encoders-2.5.1.post0\n"
     ]
    }
   ],
   "source": [
    "# Install a library for categorical variable management.\n",
    "!pip install category_encoders\n",
    "import category_encoders as ce\n",
    "from sklearn.preprocessing import OneHotEncoder"
   ]
  },
  {
   "cell_type": "code",
   "execution_count": null,
   "metadata": {
    "id": "3j8BIkSFs-2B"
   },
   "outputs": [],
   "source": [
    "# Onehotencoder transformation for Alcohol.\n",
    "\n",
    "list_columns_cat = ['Alcohol','RestaurantsPriceRange2']\n",
    "list_other = list(set(restaurant_model.columns) - set(list_columns_cat))\n",
    "one = ce.OneHotEncoder(cols=list_columns_cat)\n",
    "model = one.fit(X_train, y_train)"
   ]
  },
  {
   "cell_type": "code",
   "execution_count": null,
   "metadata": {
    "colab": {
     "base_uri": "https://localhost:8080/"
    },
    "id": "HETy0iLEtCEd",
    "outputId": "b931393f-4a8f-44cb-896c-4c4a57ac15c9"
   },
   "outputs": [
    {
     "data": {
      "text/plain": [
       "17"
      ]
     },
     "execution_count": 25,
     "metadata": {},
     "output_type": "execute_result"
    }
   ],
   "source": [
    "X_train_one = model.transform(X_train, y_train)\n",
    "X_test_one = model.transform(X_test, y_test)\n",
    "len(list(X_train_one.columns))"
   ]
  },
  {
   "cell_type": "code",
   "execution_count": null,
   "metadata": {
    "colab": {
     "base_uri": "https://localhost:8080/",
     "height": 488
    },
    "id": "Vz_QhgsCtEWc",
    "outputId": "7e052df0-2bdd-4f18-c0d5-35f6a100aaee"
   },
   "outputs": [
    {
     "data": {
      "text/html": [
       "\n",
       "  <div id=\"df-d44aba19-fc31-444b-9924-d748c548a079\">\n",
       "    <div class=\"colab-df-container\">\n",
       "      <div>\n",
       "<style scoped>\n",
       "    .dataframe tbody tr th:only-of-type {\n",
       "        vertical-align: middle;\n",
       "    }\n",
       "\n",
       "    .dataframe tbody tr th {\n",
       "        vertical-align: top;\n",
       "    }\n",
       "\n",
       "    .dataframe thead th {\n",
       "        text-align: right;\n",
       "    }\n",
       "</style>\n",
       "<table border=\"1\" class=\"dataframe\">\n",
       "  <thead>\n",
       "    <tr style=\"text-align: right;\">\n",
       "      <th></th>\n",
       "      <th>Alcohol_1</th>\n",
       "      <th>Alcohol_2</th>\n",
       "      <th>Alcohol_3</th>\n",
       "      <th>Alcohol_4</th>\n",
       "      <th>DriveThru</th>\n",
       "      <th>RestaurantsDelivery</th>\n",
       "      <th>RestaurantsPriceRange2_1</th>\n",
       "      <th>RestaurantsPriceRange2_2</th>\n",
       "      <th>RestaurantsPriceRange2_3</th>\n",
       "      <th>RestaurantsPriceRange2_4</th>\n",
       "      <th>RestaurantsPriceRange2_5</th>\n",
       "      <th>rew_count_2016</th>\n",
       "      <th>vander_comp_mean</th>\n",
       "      <th>date_min</th>\n",
       "      <th>cat_value_mean</th>\n",
       "      <th>weekend_hours</th>\n",
       "      <th>lab_day_hours</th>\n",
       "    </tr>\n",
       "  </thead>\n",
       "  <tbody>\n",
       "    <tr>\n",
       "      <th>16890</th>\n",
       "      <td>1</td>\n",
       "      <td>0</td>\n",
       "      <td>0</td>\n",
       "      <td>0</td>\n",
       "      <td>0</td>\n",
       "      <td>0</td>\n",
       "      <td>1</td>\n",
       "      <td>0</td>\n",
       "      <td>0</td>\n",
       "      <td>0</td>\n",
       "      <td>0</td>\n",
       "      <td>11</td>\n",
       "      <td>0.907755</td>\n",
       "      <td>2016</td>\n",
       "      <td>49.818182</td>\n",
       "      <td>14</td>\n",
       "      <td>35</td>\n",
       "    </tr>\n",
       "    <tr>\n",
       "      <th>915</th>\n",
       "      <td>0</td>\n",
       "      <td>1</td>\n",
       "      <td>0</td>\n",
       "      <td>0</td>\n",
       "      <td>0</td>\n",
       "      <td>0</td>\n",
       "      <td>0</td>\n",
       "      <td>1</td>\n",
       "      <td>0</td>\n",
       "      <td>0</td>\n",
       "      <td>0</td>\n",
       "      <td>57</td>\n",
       "      <td>0.560495</td>\n",
       "      <td>2016</td>\n",
       "      <td>53.818182</td>\n",
       "      <td>26</td>\n",
       "      <td>55</td>\n",
       "    </tr>\n",
       "    <tr>\n",
       "      <th>17625</th>\n",
       "      <td>0</td>\n",
       "      <td>0</td>\n",
       "      <td>1</td>\n",
       "      <td>0</td>\n",
       "      <td>0</td>\n",
       "      <td>0</td>\n",
       "      <td>1</td>\n",
       "      <td>0</td>\n",
       "      <td>0</td>\n",
       "      <td>0</td>\n",
       "      <td>0</td>\n",
       "      <td>9</td>\n",
       "      <td>0.261233</td>\n",
       "      <td>2016</td>\n",
       "      <td>4.454545</td>\n",
       "      <td>24</td>\n",
       "      <td>56</td>\n",
       "    </tr>\n",
       "    <tr>\n",
       "      <th>971</th>\n",
       "      <td>1</td>\n",
       "      <td>0</td>\n",
       "      <td>0</td>\n",
       "      <td>0</td>\n",
       "      <td>0</td>\n",
       "      <td>1</td>\n",
       "      <td>0</td>\n",
       "      <td>1</td>\n",
       "      <td>0</td>\n",
       "      <td>0</td>\n",
       "      <td>0</td>\n",
       "      <td>27</td>\n",
       "      <td>0.287741</td>\n",
       "      <td>2016</td>\n",
       "      <td>3.636364</td>\n",
       "      <td>26</td>\n",
       "      <td>52</td>\n",
       "    </tr>\n",
       "    <tr>\n",
       "      <th>25771</th>\n",
       "      <td>0</td>\n",
       "      <td>1</td>\n",
       "      <td>0</td>\n",
       "      <td>0</td>\n",
       "      <td>0</td>\n",
       "      <td>0</td>\n",
       "      <td>0</td>\n",
       "      <td>1</td>\n",
       "      <td>0</td>\n",
       "      <td>0</td>\n",
       "      <td>0</td>\n",
       "      <td>120</td>\n",
       "      <td>0.819543</td>\n",
       "      <td>2016</td>\n",
       "      <td>9.363636</td>\n",
       "      <td>20</td>\n",
       "      <td>35</td>\n",
       "    </tr>\n",
       "    <tr>\n",
       "      <th>...</th>\n",
       "      <td>...</td>\n",
       "      <td>...</td>\n",
       "      <td>...</td>\n",
       "      <td>...</td>\n",
       "      <td>...</td>\n",
       "      <td>...</td>\n",
       "      <td>...</td>\n",
       "      <td>...</td>\n",
       "      <td>...</td>\n",
       "      <td>...</td>\n",
       "      <td>...</td>\n",
       "      <td>...</td>\n",
       "      <td>...</td>\n",
       "      <td>...</td>\n",
       "      <td>...</td>\n",
       "      <td>...</td>\n",
       "      <td>...</td>\n",
       "    </tr>\n",
       "    <tr>\n",
       "      <th>28644</th>\n",
       "      <td>0</td>\n",
       "      <td>0</td>\n",
       "      <td>0</td>\n",
       "      <td>1</td>\n",
       "      <td>0</td>\n",
       "      <td>1</td>\n",
       "      <td>0</td>\n",
       "      <td>1</td>\n",
       "      <td>0</td>\n",
       "      <td>0</td>\n",
       "      <td>0</td>\n",
       "      <td>77</td>\n",
       "      <td>0.863705</td>\n",
       "      <td>2017</td>\n",
       "      <td>86.000000</td>\n",
       "      <td>20</td>\n",
       "      <td>18</td>\n",
       "    </tr>\n",
       "    <tr>\n",
       "      <th>20012</th>\n",
       "      <td>0</td>\n",
       "      <td>0</td>\n",
       "      <td>1</td>\n",
       "      <td>0</td>\n",
       "      <td>0</td>\n",
       "      <td>0</td>\n",
       "      <td>0</td>\n",
       "      <td>1</td>\n",
       "      <td>0</td>\n",
       "      <td>0</td>\n",
       "      <td>0</td>\n",
       "      <td>5</td>\n",
       "      <td>0.518020</td>\n",
       "      <td>2016</td>\n",
       "      <td>13.545455</td>\n",
       "      <td>0</td>\n",
       "      <td>45</td>\n",
       "    </tr>\n",
       "    <tr>\n",
       "      <th>8319</th>\n",
       "      <td>1</td>\n",
       "      <td>0</td>\n",
       "      <td>0</td>\n",
       "      <td>0</td>\n",
       "      <td>0</td>\n",
       "      <td>1</td>\n",
       "      <td>1</td>\n",
       "      <td>0</td>\n",
       "      <td>0</td>\n",
       "      <td>0</td>\n",
       "      <td>0</td>\n",
       "      <td>26</td>\n",
       "      <td>0.068188</td>\n",
       "      <td>2019</td>\n",
       "      <td>21.636364</td>\n",
       "      <td>0</td>\n",
       "      <td>0</td>\n",
       "    </tr>\n",
       "    <tr>\n",
       "      <th>4031</th>\n",
       "      <td>0</td>\n",
       "      <td>0</td>\n",
       "      <td>1</td>\n",
       "      <td>0</td>\n",
       "      <td>0</td>\n",
       "      <td>0</td>\n",
       "      <td>0</td>\n",
       "      <td>0</td>\n",
       "      <td>1</td>\n",
       "      <td>0</td>\n",
       "      <td>0</td>\n",
       "      <td>25</td>\n",
       "      <td>0.626612</td>\n",
       "      <td>2016</td>\n",
       "      <td>2.090909</td>\n",
       "      <td>14</td>\n",
       "      <td>35</td>\n",
       "    </tr>\n",
       "    <tr>\n",
       "      <th>15835</th>\n",
       "      <td>0</td>\n",
       "      <td>1</td>\n",
       "      <td>0</td>\n",
       "      <td>0</td>\n",
       "      <td>0</td>\n",
       "      <td>0</td>\n",
       "      <td>0</td>\n",
       "      <td>1</td>\n",
       "      <td>0</td>\n",
       "      <td>0</td>\n",
       "      <td>0</td>\n",
       "      <td>112</td>\n",
       "      <td>0.775934</td>\n",
       "      <td>2016</td>\n",
       "      <td>7.909091</td>\n",
       "      <td>28</td>\n",
       "      <td>70</td>\n",
       "    </tr>\n",
       "  </tbody>\n",
       "</table>\n",
       "<p>26807 rows × 17 columns</p>\n",
       "</div>\n",
       "      <button class=\"colab-df-convert\" onclick=\"convertToInteractive('df-d44aba19-fc31-444b-9924-d748c548a079')\"\n",
       "              title=\"Convert this dataframe to an interactive table.\"\n",
       "              style=\"display:none;\">\n",
       "        \n",
       "  <svg xmlns=\"http://www.w3.org/2000/svg\" height=\"24px\"viewBox=\"0 0 24 24\"\n",
       "       width=\"24px\">\n",
       "    <path d=\"M0 0h24v24H0V0z\" fill=\"none\"/>\n",
       "    <path d=\"M18.56 5.44l.94 2.06.94-2.06 2.06-.94-2.06-.94-.94-2.06-.94 2.06-2.06.94zm-11 1L8.5 8.5l.94-2.06 2.06-.94-2.06-.94L8.5 2.5l-.94 2.06-2.06.94zm10 10l.94 2.06.94-2.06 2.06-.94-2.06-.94-.94-2.06-.94 2.06-2.06.94z\"/><path d=\"M17.41 7.96l-1.37-1.37c-.4-.4-.92-.59-1.43-.59-.52 0-1.04.2-1.43.59L10.3 9.45l-7.72 7.72c-.78.78-.78 2.05 0 2.83L4 21.41c.39.39.9.59 1.41.59.51 0 1.02-.2 1.41-.59l7.78-7.78 2.81-2.81c.8-.78.8-2.07 0-2.86zM5.41 20L4 18.59l7.72-7.72 1.47 1.35L5.41 20z\"/>\n",
       "  </svg>\n",
       "      </button>\n",
       "      \n",
       "  <style>\n",
       "    .colab-df-container {\n",
       "      display:flex;\n",
       "      flex-wrap:wrap;\n",
       "      gap: 12px;\n",
       "    }\n",
       "\n",
       "    .colab-df-convert {\n",
       "      background-color: #E8F0FE;\n",
       "      border: none;\n",
       "      border-radius: 50%;\n",
       "      cursor: pointer;\n",
       "      display: none;\n",
       "      fill: #1967D2;\n",
       "      height: 32px;\n",
       "      padding: 0 0 0 0;\n",
       "      width: 32px;\n",
       "    }\n",
       "\n",
       "    .colab-df-convert:hover {\n",
       "      background-color: #E2EBFA;\n",
       "      box-shadow: 0px 1px 2px rgba(60, 64, 67, 0.3), 0px 1px 3px 1px rgba(60, 64, 67, 0.15);\n",
       "      fill: #174EA6;\n",
       "    }\n",
       "\n",
       "    [theme=dark] .colab-df-convert {\n",
       "      background-color: #3B4455;\n",
       "      fill: #D2E3FC;\n",
       "    }\n",
       "\n",
       "    [theme=dark] .colab-df-convert:hover {\n",
       "      background-color: #434B5C;\n",
       "      box-shadow: 0px 1px 3px 1px rgba(0, 0, 0, 0.15);\n",
       "      filter: drop-shadow(0px 1px 2px rgba(0, 0, 0, 0.3));\n",
       "      fill: #FFFFFF;\n",
       "    }\n",
       "  </style>\n",
       "\n",
       "      <script>\n",
       "        const buttonEl =\n",
       "          document.querySelector('#df-d44aba19-fc31-444b-9924-d748c548a079 button.colab-df-convert');\n",
       "        buttonEl.style.display =\n",
       "          google.colab.kernel.accessAllowed ? 'block' : 'none';\n",
       "\n",
       "        async function convertToInteractive(key) {\n",
       "          const element = document.querySelector('#df-d44aba19-fc31-444b-9924-d748c548a079');\n",
       "          const dataTable =\n",
       "            await google.colab.kernel.invokeFunction('convertToInteractive',\n",
       "                                                     [key], {});\n",
       "          if (!dataTable) return;\n",
       "\n",
       "          const docLinkHtml = 'Like what you see? Visit the ' +\n",
       "            '<a target=\"_blank\" href=https://colab.research.google.com/notebooks/data_table.ipynb>data table notebook</a>'\n",
       "            + ' to learn more about interactive tables.';\n",
       "          element.innerHTML = '';\n",
       "          dataTable['output_type'] = 'display_data';\n",
       "          await google.colab.output.renderOutput(dataTable, element);\n",
       "          const docLink = document.createElement('div');\n",
       "          docLink.innerHTML = docLinkHtml;\n",
       "          element.appendChild(docLink);\n",
       "        }\n",
       "      </script>\n",
       "    </div>\n",
       "  </div>\n",
       "  "
      ],
      "text/plain": [
       "       Alcohol_1  Alcohol_2  Alcohol_3  Alcohol_4  DriveThru  \\\n",
       "16890          1          0          0          0          0   \n",
       "915            0          1          0          0          0   \n",
       "17625          0          0          1          0          0   \n",
       "971            1          0          0          0          0   \n",
       "25771          0          1          0          0          0   \n",
       "...          ...        ...        ...        ...        ...   \n",
       "28644          0          0          0          1          0   \n",
       "20012          0          0          1          0          0   \n",
       "8319           1          0          0          0          0   \n",
       "4031           0          0          1          0          0   \n",
       "15835          0          1          0          0          0   \n",
       "\n",
       "       RestaurantsDelivery  RestaurantsPriceRange2_1  \\\n",
       "16890                    0                         1   \n",
       "915                      0                         0   \n",
       "17625                    0                         1   \n",
       "971                      1                         0   \n",
       "25771                    0                         0   \n",
       "...                    ...                       ...   \n",
       "28644                    1                         0   \n",
       "20012                    0                         0   \n",
       "8319                     1                         1   \n",
       "4031                     0                         0   \n",
       "15835                    0                         0   \n",
       "\n",
       "       RestaurantsPriceRange2_2  RestaurantsPriceRange2_3  \\\n",
       "16890                         0                         0   \n",
       "915                           1                         0   \n",
       "17625                         0                         0   \n",
       "971                           1                         0   \n",
       "25771                         1                         0   \n",
       "...                         ...                       ...   \n",
       "28644                         1                         0   \n",
       "20012                         1                         0   \n",
       "8319                          0                         0   \n",
       "4031                          0                         1   \n",
       "15835                         1                         0   \n",
       "\n",
       "       RestaurantsPriceRange2_4  RestaurantsPriceRange2_5  rew_count_2016  \\\n",
       "16890                         0                         0              11   \n",
       "915                           0                         0              57   \n",
       "17625                         0                         0               9   \n",
       "971                           0                         0              27   \n",
       "25771                         0                         0             120   \n",
       "...                         ...                       ...             ...   \n",
       "28644                         0                         0              77   \n",
       "20012                         0                         0               5   \n",
       "8319                          0                         0              26   \n",
       "4031                          0                         0              25   \n",
       "15835                         0                         0             112   \n",
       "\n",
       "       vander_comp_mean  date_min  cat_value_mean  weekend_hours  \\\n",
       "16890          0.907755      2016       49.818182             14   \n",
       "915            0.560495      2016       53.818182             26   \n",
       "17625          0.261233      2016        4.454545             24   \n",
       "971            0.287741      2016        3.636364             26   \n",
       "25771          0.819543      2016        9.363636             20   \n",
       "...                 ...       ...             ...            ...   \n",
       "28644          0.863705      2017       86.000000             20   \n",
       "20012          0.518020      2016       13.545455              0   \n",
       "8319           0.068188      2019       21.636364              0   \n",
       "4031           0.626612      2016        2.090909             14   \n",
       "15835          0.775934      2016        7.909091             28   \n",
       "\n",
       "       lab_day_hours  \n",
       "16890             35  \n",
       "915               55  \n",
       "17625             56  \n",
       "971               52  \n",
       "25771             35  \n",
       "...              ...  \n",
       "28644             18  \n",
       "20012             45  \n",
       "8319               0  \n",
       "4031              35  \n",
       "15835             70  \n",
       "\n",
       "[26807 rows x 17 columns]"
      ]
     },
     "execution_count": 26,
     "metadata": {},
     "output_type": "execute_result"
    }
   ],
   "source": [
    "X_train_one"
   ]
  },
  {
   "cell_type": "code",
   "execution_count": null,
   "metadata": {
    "id": "jB6e7-7-2MX4"
   },
   "outputs": [],
   "source": [
    "# Standardise all variables, mean 0, standard deviation 1.\n",
    "\n",
    "scaler = StandardScaler()\n",
    "model_scaled = scaler.fit(X_train_one)\n",
    "X_train_scaled = pd.DataFrame(scaler.transform(X_train_one), columns = X_train_one.columns, index = X_train.index)\n",
    "X_test_scaled = pd.DataFrame(scaler.transform(X_test_one), columns = X_test_one.columns, index = X_test.index)"
   ]
  },
  {
   "cell_type": "code",
   "execution_count": null,
   "metadata": {
    "id": "_8yisfB4Bcs7"
   },
   "outputs": [],
   "source": [
    "#Transform Min Max with ranges 0-1, in order to be able to use Naive Bayes.\n",
    "from sklearn.preprocessing import MinMaxScaler\n",
    "scaler_minmax = MinMaxScaler(feature_range=(0,1))\n",
    "model_minmax = scaler_minmax.fit(X_train_one)\n",
    "X_train_minmax = pd.DataFrame(scaler_minmax.transform(X_train_one), columns = X_train_one.columns, index = X_train.index)\n",
    "X_test_minmax = pd.DataFrame(scaler_minmax.transform(X_test_one), columns = X_test_one.columns, index = X_test.index)"
   ]
  },
  {
   "cell_type": "markdown",
   "metadata": {
    "id": "FM6McbFdNT-F"
   },
   "source": [
    "1) Naive Bayes:\n",
    "It is a simple method we start by trying to apply this model to our data. It is generated very quickly and we get an accurancy of 0.62.\n",
    "It classifies better the higher classes, having a lower accuracy in the negative class. \n",
    "The f-1, are not good, we start from a 0.5 for the negative class, up to a 0.72 in the positive class.\n",
    "It serves as a base but we must try other models."
   ]
  },
  {
   "cell_type": "code",
   "execution_count": null,
   "metadata": {
    "colab": {
     "base_uri": "https://localhost:8080/"
    },
    "id": "2drc7iOtEVqo",
    "outputId": "f751b51b-0b30-49c9-fa9a-0d9852954548"
   },
   "outputs": [
    {
     "data": {
      "text/plain": [
       "MultinomialNB()"
      ]
     },
     "execution_count": 29,
     "metadata": {},
     "output_type": "execute_result"
    }
   ],
   "source": [
    "from sklearn.naive_bayes import MultinomialNB\n",
    "clf = MultinomialNB()\n",
    "clf.fit(X_train_minmax, y_train)"
   ]
  },
  {
   "cell_type": "code",
   "execution_count": null,
   "metadata": {
    "colab": {
     "base_uri": "https://localhost:8080/"
    },
    "id": "sNw1y_PjEVub",
    "outputId": "b1c525ce-b574-4f94-c20f-bf1102f870a4"
   },
   "outputs": [
    {
     "name": "stdout",
     "output_type": "stream",
     "text": [
      "56.84870188003581\n",
      "[[ 253  313   97]\n",
      " [ 229 1509 1115]\n",
      " [  43 1095 2048]]\n",
      "              precision    recall  f1-score   support\n",
      "\n",
      "    negativo       0.48      0.38      0.43       663\n",
      "      neutro       0.52      0.53      0.52      2853\n",
      "    positivo       0.63      0.64      0.64      3186\n",
      "\n",
      "    accuracy                           0.57      6702\n",
      "   macro avg       0.54      0.52      0.53      6702\n",
      "weighted avg       0.57      0.57      0.57      6702\n",
      "\n"
     ]
    }
   ],
   "source": [
    "from sklearn.metrics import classification_report, confusion_matrix\n",
    "# predicts test type\n",
    "predictions = clf.predict(X_test_minmax)\n",
    "\n",
    "# Evaluate predictions\n",
    "print(clf.score(X_test_minmax, y_test) * 100)\n",
    "print(confusion_matrix(y_test, predictions))\n",
    "print(classification_report(y_test, clf.predict(X_test_minmax)))"
   ]
  },
  {
   "cell_type": "markdown",
   "metadata": {
    "id": "GI6-tc9lPKph"
   },
   "source": [
    "Logistic regression:\n",
    "\n",
    "Applying logistic regression, we make a significant jump in accuracy. We raise the accuracy to 83 % and the F-1 to 83 %.\n",
    "It is still better at predicting the higher classes, but quite balanced.\n"
   ]
  },
  {
   "cell_type": "code",
   "execution_count": null,
   "metadata": {
    "colab": {
     "base_uri": "https://localhost:8080/"
    },
    "id": "BwOBagx0EV2L",
    "outputId": "2675c06d-b809-4958-878a-9e2313092133"
   },
   "outputs": [
    {
     "data": {
      "text/plain": [
       "LogisticRegression()"
      ]
     },
     "execution_count": 31,
     "metadata": {},
     "output_type": "execute_result"
    }
   ],
   "source": [
    "log_clf = LogisticRegression()\n",
    "log_clf.fit(X_train_scaled , y_train )"
   ]
  },
  {
   "cell_type": "code",
   "execution_count": null,
   "metadata": {
    "colab": {
     "base_uri": "https://localhost:8080/"
    },
    "id": "2ut322-23TYr",
    "outputId": "bc87cb2a-d204-49fa-9b52-ccb5b1fe61d6"
   },
   "outputs": [
    {
     "name": "stdout",
     "output_type": "stream",
     "text": [
      "83.00507311250374\n",
      "[[ 478  184    1]\n",
      " [ 111 2262  480]\n",
      " [   0  363 2823]]\n",
      "              precision    recall  f1-score   support\n",
      "\n",
      "    negativo       0.81      0.72      0.76       663\n",
      "      neutro       0.81      0.79      0.80      2853\n",
      "    positivo       0.85      0.89      0.87      3186\n",
      "\n",
      "    accuracy                           0.83      6702\n",
      "   macro avg       0.82      0.80      0.81      6702\n",
      "weighted avg       0.83      0.83      0.83      6702\n",
      "\n"
     ]
    }
   ],
   "source": [
    "from sklearn.metrics import classification_report, confusion_matrix\n",
    "# Predicts test\n",
    "predictions = log_clf.predict(X_test_scaled)\n",
    "\n",
    "# Evaluate predictions\n",
    "print(log_clf.score(X_test_scaled, y_test) * 100)\n",
    "print(confusion_matrix(y_test, predictions))\n",
    "print(classification_report(y_test, log_clf.predict(X_test_scaled)))"
   ]
  },
  {
   "cell_type": "markdown",
   "metadata": {
    "id": "epevDEfZP4bI"
   },
   "source": [
    "Random Forrest:\n",
    "We generated a Random Forrest model and tried to optimise the hyperparameters.\n",
    "\n",
    "The results were similar to those of the logistic regression. The results could be described as good."
   ]
  },
  {
   "cell_type": "code",
   "execution_count": null,
   "metadata": {
    "colab": {
     "base_uri": "https://localhost:8080/"
    },
    "id": "V0c6Hfou2vxU",
    "outputId": "c1969761-b451-4a47-8aa1-f89c0ce4e574"
   },
   "outputs": [
    {
     "data": {
      "text/plain": [
       "RandomForestClassifier()"
      ]
     },
     "execution_count": 23,
     "metadata": {},
     "output_type": "execute_result"
    }
   ],
   "source": [
    "\n",
    "RF = RandomForestClassifier()\n",
    "\n",
    "# model is trained with the training dataset\n",
    "RF.fit(X_train_scaled, y_train)"
   ]
  },
  {
   "cell_type": "code",
   "execution_count": null,
   "metadata": {
    "colab": {
     "base_uri": "https://localhost:8080/"
    },
    "id": "XsitnlCg2_H4",
    "outputId": "dcd472ef-fed7-40f1-8eb3-7d2388fe7630"
   },
   "outputs": [
    {
     "name": "stdout",
     "output_type": "stream",
     "text": [
      "83.00507311250374\n",
      "[[ 476  186    1]\n",
      " [ 119 2298  436]\n",
      " [   0  397 2789]]\n",
      "              precision    recall  f1-score   support\n",
      "\n",
      "    negativo       0.80      0.72      0.76       663\n",
      "      neutro       0.80      0.81      0.80      2853\n",
      "    positivo       0.86      0.88      0.87      3186\n",
      "\n",
      "    accuracy                           0.83      6702\n",
      "   macro avg       0.82      0.80      0.81      6702\n",
      "weighted avg       0.83      0.83      0.83      6702\n",
      "\n"
     ]
    }
   ],
   "source": [
    "from sklearn.metrics import classification_report, confusion_matrix\n",
    "# predicts test\n",
    "predictions = RF.predict(X_test_scaled)\n",
    "\n",
    "# Evaluate predictions\n",
    "print(RF.score(X_test_scaled, y_test) * 100)\n",
    "print(confusion_matrix(y_test, predictions))\n",
    "print(classification_report(y_test, RF.predict(X_test_scaled)))"
   ]
  },
  {
   "cell_type": "code",
   "execution_count": null,
   "metadata": {
    "colab": {
     "base_uri": "https://localhost:8080/"
    },
    "id": "OAxMe2ygtElq",
    "outputId": "836e07b8-94cc-4e66-f739-a58b2e567770"
   },
   "outputs": [
    {
     "name": "stdout",
     "output_type": "stream",
     "text": [
      "{'n_estimators': 50, 'max_features': 'log2', 'max_depth': 12, 'criterion': 'gini'}\n",
      "0.8322826607358582\n"
     ]
    }
   ],
   "source": [
    "RF = RandomForestClassifier()\n",
    "### Parameter Tunning Optimization\n",
    "\n",
    "param_grid = { \n",
    "    'n_estimators': [10,20,50,100,200,300], # poner tantos como se quiera probar\n",
    "    'max_features': ['auto', 'sqrt', 'log2'],\n",
    "    'max_depth' : [4,5,6,7,8,10,12,20],\n",
    "    'criterion' :['gini', 'entropy']}\n",
    "\n",
    "from sklearn.model_selection import GridSearchCV, RandomizedSearchCV\n",
    "\n",
    "CV = RandomizedSearchCV(RF, param_grid, cv=10, random_state=12345, n_jobs=2)\n",
    "                  \n",
    "CV.fit(X_train_one, y_train)  \n",
    "print(CV.best_params_)    \n",
    "print(CV.best_score_)"
   ]
  },
  {
   "cell_type": "code",
   "execution_count": null,
   "metadata": {
    "colab": {
     "base_uri": "https://localhost:8080/"
    },
    "id": "VDWPu2TmYUCT",
    "outputId": "97961fe1-045e-4d68-e57f-2beb745bc0d1"
   },
   "outputs": [
    {
     "data": {
      "text/plain": [
       "RandomForestClassifier(max_depth=12, max_features='log2', n_estimators=50)"
      ]
     },
     "execution_count": 34,
     "metadata": {},
     "output_type": "execute_result"
    }
   ],
   "source": [
    "\n",
    "RF = RandomForestClassifier(n_estimators = 50, max_features= 'log2', max_depth = 12, criterion='gini')\n",
    "\n",
    "# model is trained with the training dataset\n",
    "RF.fit(X_train_scaled, y_train)"
   ]
  },
  {
   "cell_type": "code",
   "execution_count": null,
   "metadata": {
    "colab": {
     "base_uri": "https://localhost:8080/"
    },
    "id": "G-9xf_5eYUFw",
    "outputId": "c712cfac-f7cc-4eb2-bc8a-52442c3a6641"
   },
   "outputs": [
    {
     "name": "stdout",
     "output_type": "stream",
     "text": [
      "82.99015219337511\n",
      "[[ 466  196    1]\n",
      " [  97 2324  432]\n",
      " [   0  414 2772]]\n",
      "              precision    recall  f1-score   support\n",
      "\n",
      "    negativo       0.83      0.70      0.76       663\n",
      "      neutro       0.79      0.81      0.80      2853\n",
      "    positivo       0.86      0.87      0.87      3186\n",
      "\n",
      "    accuracy                           0.83      6702\n",
      "   macro avg       0.83      0.80      0.81      6702\n",
      "weighted avg       0.83      0.83      0.83      6702\n",
      "\n"
     ]
    }
   ],
   "source": [
    "# predicts test\n",
    "predictions = RF.predict(X_test_scaled )\n",
    "\n",
    "# Evaluate predictions\n",
    "print(RF.score(X_test_scaled, y_test) * 100)\n",
    "print(confusion_matrix(y_test, predictions))\n",
    "print(classification_report(y_test, RF.predict(X_test_scaled)))"
   ]
  },
  {
   "cell_type": "markdown",
   "metadata": {
    "id": "Gfncav9sQS9x"
   },
   "source": [
    "## XGBoost \n",
    "XGBoost works by building decision trees iteratively. At each iteration, a new tree is added to the existing set of trees and the tree weights are adjusted to minimise error. Trees are built sequentially, meaning that each tree is built using the results of previous trees. This allows XGBoost to capture complex patterns in the data that may be difficult to detect using a single tree.\n",
    "\n",
    "One of the main advantages of XGBoost is its efficiency. It uses gradient boosting, allowing the algorithm to learn faster than other decision tree algorithms. "
   ]
  },
  {
   "cell_type": "markdown",
   "metadata": {
    "id": "-72IgXikQ846"
   },
   "source": [
    "We use Xgboost and perform hyperparameter optimisation, achieve 84% accuracy, and use this model as a definitive predictor of our restaurant classes. \n",
    "We apply undersampling to see if the results improve, if not, we discard it.\n",
    "\n"
   ]
  },
  {
   "cell_type": "code",
   "execution_count": null,
   "metadata": {
    "colab": {
     "base_uri": "https://localhost:8080/"
    },
    "id": "_440WAxpYUIl",
    "outputId": "8d2ed8ab-e1c7-4b48-e318-2c9a14b6592f"
   },
   "outputs": [
    {
     "data": {
      "text/plain": [
       "XGBClassifier(objective='multi:softprob')"
      ]
     },
     "execution_count": 36,
     "metadata": {},
     "output_type": "execute_result"
    }
   ],
   "source": [
    "from xgboost.sklearn import XGBClassifier\n",
    "#initial model\n",
    "xgb1 = XGBClassifier()\n",
    "xgb1.fit(X_train_scaled, y_train)"
   ]
  },
  {
   "cell_type": "code",
   "execution_count": null,
   "metadata": {
    "colab": {
     "base_uri": "https://localhost:8080/"
    },
    "id": "vwLW_UGp31eY",
    "outputId": "5dcfc278-bba8-4b85-fb36-586e8f3e9b18"
   },
   "outputs": [
    {
     "name": "stdout",
     "output_type": "stream",
     "text": [
      "83.07967770814683\n",
      "[[ 491  171    1]\n",
      " [ 124 2280  449]\n",
      " [   0  389 2797]]\n",
      "              precision    recall  f1-score   support\n",
      "\n",
      "    negativo       0.80      0.74      0.77       663\n",
      "      neutro       0.80      0.80      0.80      2853\n",
      "    positivo       0.86      0.88      0.87      3186\n",
      "\n",
      "    accuracy                           0.83      6702\n",
      "   macro avg       0.82      0.81      0.81      6702\n",
      "weighted avg       0.83      0.83      0.83      6702\n",
      "\n"
     ]
    }
   ],
   "source": [
    "predictions = xgb1.predict(X_test_scaled )\n",
    "\n",
    "# Evaluate predictions\n",
    "print(xgb1.score(X_test_scaled, y_test) * 100)\n",
    "print(confusion_matrix(y_test, predictions))\n",
    "print(classification_report(y_test, xgb1.predict(X_test_scaled)))"
   ]
  },
  {
   "cell_type": "code",
   "execution_count": null,
   "metadata": {
    "colab": {
     "base_uri": "https://localhost:8080/"
    },
    "id": "J-hBE37OtEuM",
    "outputId": "797b9559-b3ee-40de-e763-56bd0710216d"
   },
   "outputs": [
    {
     "name": "stdout",
     "output_type": "stream",
     "text": [
      "Fitting 5 folds for each of 25 candidates, totalling 125 fits\n"
     ]
    },
    {
     "data": {
      "text/plain": [
       "RandomizedSearchCV(cv=5, estimator=XGBClassifier(objective='multi:softprob'),\n",
       "                   n_iter=25, n_jobs=-1,\n",
       "                   param_distributions={'colsample_bytree': [0.3, 0.4, 0.5,\n",
       "                                                             0.7],\n",
       "                                        'gamma': [0.0, 0.1, 0.2, 0.3, 0.4],\n",
       "                                        'learning_rate': [0.05, 0.1, 0.15, 0.2,\n",
       "                                                          0.25, 0.3],\n",
       "                                        'max_depth': [3, 4, 5, 6, 8, 10, 12,\n",
       "                                                      15],\n",
       "                                        'min_child_weight': [1, 3, 5, 7]},\n",
       "                   scoring='accuracy', verbose=3)"
      ]
     },
     "execution_count": 38,
     "metadata": {},
     "output_type": "execute_result"
    }
   ],
   "source": [
    "from sklearn.model_selection import GridSearchCV, RandomizedSearchCV\n",
    "param_test1 = params = {\n",
    " 'learning_rate' : [0.05,0.10,0.15,0.20,0.25,0.30],\n",
    " 'max_depth' : [ 3, 4, 5, 6, 8, 10, 12, 15],\n",
    " 'min_child_weight' : [ 1, 3, 5, 7 ],\n",
    " 'gamma': [ 0.0, 0.1, 0.2 , 0.3, 0.4 ],\n",
    " 'colsample_bytree' : [ 0.3, 0.4, 0.5 , 0.7 ]\n",
    "}\n",
    "\n",
    "gsearch1 = RandomizedSearchCV(xgb1,param_distributions=param_test1,n_iter=25,scoring='accuracy',n_jobs=-1,cv=5,verbose=3)\n",
    "gsearch1.fit(X_train_scaled, y_train)"
   ]
  },
  {
   "cell_type": "code",
   "execution_count": null,
   "metadata": {
    "colab": {
     "base_uri": "https://localhost:8080/"
    },
    "id": "oexgmN9RtExR",
    "outputId": "b5ae7a93-ee42-403a-817c-813543ad4eed"
   },
   "outputs": [
    {
     "name": "stdout",
     "output_type": "stream",
     "text": [
      "{'min_child_weight': 1, 'max_depth': 4, 'learning_rate': 0.2, 'gamma': 0.1, 'colsample_bytree': 0.7}\n",
      "0.8353785587692789\n"
     ]
    }
   ],
   "source": [
    "\n",
    "print(gsearch1.best_params_)    \n",
    "print(gsearch1.best_score_)"
   ]
  },
  {
   "cell_type": "code",
   "execution_count": null,
   "metadata": {
    "colab": {
     "base_uri": "https://localhost:8080/"
    },
    "id": "jo8XCj60tE03",
    "outputId": "415ea328-9722-47d8-dbcc-1fb83a983bc1"
   },
   "outputs": [
    {
     "data": {
      "text/plain": [
       "XGBClassifier(colsample_bytree=0.7, gamma=0.1, learning_rate=0.2, max_depth=4,\n",
       "              objective='multi:softprob')"
      ]
     },
     "execution_count": 41,
     "metadata": {},
     "output_type": "execute_result"
    }
   ],
   "source": [
    "params=gsearch1.best_params_\n",
    "\n",
    "from xgboost.sklearn import XGBClassifier\n",
    "#initial model\n",
    "xgb1 = XGBClassifier(**params)\n",
    "xgb1.fit(X_train_scaled, y_train)"
   ]
  },
  {
   "cell_type": "code",
   "execution_count": null,
   "metadata": {
    "colab": {
     "base_uri": "https://localhost:8080/"
    },
    "id": "eRnzk6B15ATs",
    "outputId": "76389b76-5325-46f5-aceb-ab3da0c98cf2"
   },
   "outputs": [
    {
     "name": "stdout",
     "output_type": "stream",
     "text": [
      "83.09459862727545\n",
      "[[ 494  168    1]\n",
      " [ 116 2275  462]\n",
      " [   0  386 2800]]\n",
      "              precision    recall  f1-score   support\n",
      "\n",
      "    negativo       0.81      0.75      0.78       663\n",
      "      neutro       0.80      0.80      0.80      2853\n",
      "    positivo       0.86      0.88      0.87      3186\n",
      "\n",
      "    accuracy                           0.83      6702\n",
      "   macro avg       0.82      0.81      0.82      6702\n",
      "weighted avg       0.83      0.83      0.83      6702\n",
      "\n"
     ]
    }
   ],
   "source": [
    "predictions = xgb1.predict(X_test_scaled )\n",
    "\n",
    "# Evaluate predictions\n",
    "print(xgb1.score(X_test_scaled, y_test) * 100)\n",
    "print(confusion_matrix(y_test, predictions))\n",
    "print(classification_report(y_test, xgb1.predict(X_test_scaled)))"
   ]
  },
  {
   "cell_type": "code",
   "execution_count": null,
   "metadata": {
    "id": "Ecj5PdXA5J3U"
   },
   "outputs": [],
   "source": [
    "from imblearn.under_sampling import RandomUnderSampler\n",
    "rus = RandomUnderSampler(random_state=0)\n",
    "X_resampled, y_resampled = rus.fit_resample(X_train_scaled, y_train)"
   ]
  },
  {
   "cell_type": "code",
   "execution_count": null,
   "metadata": {
    "colab": {
     "base_uri": "https://localhost:8080/"
    },
    "id": "2lVxkl3l5J7J",
    "outputId": "b45169d7-6378-4f50-cb0d-c0c9052e75f8"
   },
   "outputs": [
    {
     "data": {
      "text/plain": [
       "XGBClassifier(colsample_bytree=0.7, gamma=0.1, learning_rate=0.2, max_depth=4,\n",
       "              objective='multi:softprob')"
      ]
     },
     "execution_count": 44,
     "metadata": {},
     "output_type": "execute_result"
    }
   ],
   "source": [
    "xgb1.fit(X_resampled, y_resampled )"
   ]
  },
  {
   "cell_type": "code",
   "execution_count": null,
   "metadata": {
    "colab": {
     "base_uri": "https://localhost:8080/"
    },
    "id": "SjplIhDL5neh",
    "outputId": "2a99d770-858d-41cf-c31d-6fda4111422e"
   },
   "outputs": [
    {
     "name": "stdout",
     "output_type": "stream",
     "text": [
      "80.90122351536854\n",
      "[[ 610   52    1]\n",
      " [ 368 2053  432]\n",
      " [   2  425 2759]]\n",
      "              precision    recall  f1-score   support\n",
      "\n",
      "    negativo       0.62      0.92      0.74       663\n",
      "      neutro       0.81      0.72      0.76      2853\n",
      "    positivo       0.86      0.87      0.87      3186\n",
      "\n",
      "    accuracy                           0.81      6702\n",
      "   macro avg       0.77      0.84      0.79      6702\n",
      "weighted avg       0.82      0.81      0.81      6702\n",
      "\n"
     ]
    }
   ],
   "source": [
    "predictions = xgb1.predict(X_test_scaled )\n",
    "\n",
    "# Evaluate predictions\n",
    "print(xgb1.score(X_test_scaled, y_test) * 100)\n",
    "print(confusion_matrix(y_test, predictions))\n",
    "print(classification_report(y_test, xgb1.predict(X_test_scaled)))"
   ]
  },
  {
   "cell_type": "code",
   "execution_count": null,
   "metadata": {
    "id": "JuEIJEpR5zN2"
   },
   "outputs": [],
   "source": [
    "from xgboost import plot_importance\n",
    "from matplotlib import pyplot"
   ]
  },
  {
   "cell_type": "markdown",
   "metadata": {
    "id": "wEL3-yb2Rmg4"
   },
   "source": [
    "### Importance of features:\n",
    "\n",
    "The anailis of sentiment of the reviews, the offer well explained and defined by the categories with which the restaurant is presented on yelp, and the number of reviews, are the characteristics that contribute most to discriminate the level of stars a customer gives a restaurant."
   ]
  },
  {
   "cell_type": "code",
   "execution_count": null,
   "metadata": {
    "colab": {
     "base_uri": "https://localhost:8080/",
     "height": 295
    },
    "id": "wPs3LLQD5zaI",
    "outputId": "08003dbb-41f9-4075-9acb-a7ace5b50686"
   },
   "outputs": [
    {
     "data": {
      "image/png": "[encoded data removed]",
      "text/plain": [
       "<Figure size 432x288 with 1 Axes>"
      ]
     },
     "metadata": {
      "needs_background": "light"
     },
     "output_type": "display_data"
    }
   ],
   "source": [
    "plot_importance(xgb1)\n",
    "pyplot.show()"
   ]
  },
  {
   "cell_type": "markdown",
   "metadata": {
    "id": "HlIWsai4SUPZ"
   },
   "source": [
    "## Interpretability: SHAP.\n",
    "SHAP is based on Shapley's theorem, which is used in game theory to measure the value of a player in a cooperative game. In the context of Machine Learning, SHAP uses Shapley's theorem to calculate the \"value\" of each feature in a model, i.e. how much each feature contributes to the model's predictions. It does this through the use of gradient boosting.\n"
   ]
  },
  {
   "cell_type": "code",
   "execution_count": null,
   "metadata": {
    "colab": {
     "base_uri": "https://localhost:8080/"
    },
    "id": "-1ZKrw0D7Tfo",
    "outputId": "e195cd8f-16f2-4f9b-9c43-cbcdbdee91c7"
   },
   "outputs": [
    {
     "name": "stdout",
     "output_type": "stream",
     "text": [
      "Looking in indexes: https://pypi.org/simple, https://us-python.pkg.dev/colab-wheels/public/simple/\n",
      "Collecting shap\n",
      "  Downloading shap-0.41.0-cp38-cp38-manylinux_2_12_x86_64.manylinux2010_x86_64.whl (575 kB)\n",
      "\u001b[2K     \u001b[90m━━━━━━━━━━━━━━━━━━━━━━━━━━━━━━━━━━━━━━\u001b[0m \u001b[32m575.9/575.9 KB\u001b[0m \u001b[31m11.9 MB/s\u001b[0m eta \u001b[36m0:00:00\u001b[0m\n",
      "\u001b[?25hRequirement already satisfied: pandas in /usr/local/lib/python3.8/dist-packages (from shap) (1.3.5)\n",
      "Requirement already satisfied: scikit-learn in /usr/local/lib/python3.8/dist-packages (from shap) (1.0.2)\n",
      "Collecting slicer==0.0.7\n",
      "  Downloading slicer-0.0.7-py3-none-any.whl (14 kB)\n",
      "Requirement already satisfied: cloudpickle in /usr/local/lib/python3.8/dist-packages (from shap) (1.5.0)\n",
      "Requirement already satisfied: tqdm>4.25.0 in /usr/local/lib/python3.8/dist-packages (from shap) (4.64.1)\n",
      "Requirement already satisfied: numpy in /usr/local/lib/python3.8/dist-packages (from shap) (1.21.6)\n",
      "Requirement already satisfied: packaging>20.9 in /usr/local/lib/python3.8/dist-packages (from shap) (21.3)\n",
      "Requirement already satisfied: numba in /usr/local/lib/python3.8/dist-packages (from shap) (0.56.4)\n",
      "Requirement already satisfied: scipy in /usr/local/lib/python3.8/dist-packages (from shap) (1.7.3)\n",
      "Requirement already satisfied: pyparsing!=3.0.5,>=2.0.2 in /usr/local/lib/python3.8/dist-packages (from packaging>20.9->shap) (3.0.9)\n",
      "Requirement already satisfied: setuptools in /usr/local/lib/python3.8/dist-packages (from numba->shap) (57.4.0)\n",
      "Requirement already satisfied: llvmlite<0.40,>=0.39.0dev0 in /usr/local/lib/python3.8/dist-packages (from numba->shap) (0.39.1)\n",
      "Requirement already satisfied: importlib-metadata in /usr/local/lib/python3.8/dist-packages (from numba->shap) (5.2.0)\n",
      "Requirement already satisfied: pytz>=2017.3 in /usr/local/lib/python3.8/dist-packages (from pandas->shap) (2022.7)\n",
      "Requirement already satisfied: python-dateutil>=2.7.3 in /usr/local/lib/python3.8/dist-packages (from pandas->shap) (2.8.2)\n",
      "Requirement already satisfied: joblib>=0.11 in /usr/local/lib/python3.8/dist-packages (from scikit-learn->shap) (1.2.0)\n",
      "Requirement already satisfied: threadpoolctl>=2.0.0 in /usr/local/lib/python3.8/dist-packages (from scikit-learn->shap) (3.1.0)\n",
      "Requirement already satisfied: six>=1.5 in /usr/local/lib/python3.8/dist-packages (from python-dateutil>=2.7.3->pandas->shap) (1.15.0)\n",
      "Requirement already satisfied: zipp>=0.5 in /usr/local/lib/python3.8/dist-packages (from importlib-metadata->numba->shap) (3.11.0)\n",
      "Installing collected packages: slicer, shap\n",
      "Successfully installed shap-0.41.0 slicer-0.0.7\n"
     ]
    }
   ],
   "source": [
    "! pip install shap"
   ]
  },
  {
   "cell_type": "code",
   "execution_count": null,
   "metadata": {
    "id": "-JKYG4AX7mAt"
   },
   "outputs": [],
   "source": [
    "import shap\n",
    "explainer = shap.TreeExplainer(xgb1)\n",
    "shap_values = explainer.shap_values(X_test_scaled)"
   ]
  },
  {
   "cell_type": "markdown",
   "metadata": {
    "id": "vfztUehyTAX8"
   },
   "source": [
    "In this graph we can see for each of the classes which characteristics contribute most to the prediction. It serves as a first approximation, but the individual class graphs will be more interesting."
   ]
  },
  {
   "cell_type": "code",
   "execution_count": null,
   "metadata": {
    "colab": {
     "base_uri": "https://localhost:8080/",
     "height": 607
    },
    "id": "iSOxzc9e7mEj",
    "outputId": "8f31163b-01ee-4b33-dcd9-1cec5c2933eb"
   },
   "outputs": [
    {
     "data": {
      "image/png": "[encoded data removed]",
      "text/plain": [
       "<Figure size 576x597.6 with 1 Axes>"
      ]
     },
     "metadata": {
      "needs_background": "light"
     },
     "output_type": "display_data"
    }
   ],
   "source": [
    "shap.summary_plot(shap_values, X_test_scaled, plot_type=\"bar\")"
   ]
  },
  {
   "cell_type": "markdown",
   "metadata": {
    "id": "PhjGO9hPTp37"
   },
   "source": [
    "### Class 0: Negative\n",
    "It is observed that negative sentiment analyses, and low values in their presentation to customers, contribute to the prediction in this category. Conversely, high sentiment analyses will lead to higher categories. Note that restaurants with DriveThru and long opening hours tend to be predicted in this negative class."
   ]
  },
  {
   "cell_type": "code",
   "execution_count": null,
   "metadata": {
    "colab": {
     "base_uri": "https://localhost:8080/",
     "height": 607
    },
    "id": "HjU_tXvX9Ba0",
    "outputId": "b20c11dd-1238-4ba0-edcf-50b476dfcabf"
   },
   "outputs": [
    {
     "data": {
      "image/png": "[encoded data removed]",
      "text/plain": [
       "<Figure size 576x597.6 with 2 Axes>"
      ]
     },
     "metadata": {
      "needs_background": "light"
     },
     "output_type": "display_data"
    }
   ],
   "source": [
    "shap.summary_plot(shap_values[0], X_test_scaled, plot_type=\"dot\")"
   ]
  },
  {
   "cell_type": "markdown",
   "metadata": {
    "id": "JzcoTXmKU-DX"
   },
   "source": [
    "### Category 1: Neutro.\n",
    "\n",
    "Reviews with mixed negative and positive feelings seem to determine membership in this class. A very clear mix of colours is observed on the far right of the columan vader. It seems that Alcohol_2 discriminates membership in this class and the presence of low numbers of reviews also tends to classify in this category."
   ]
  },
  {
   "cell_type": "code",
   "execution_count": null,
   "metadata": {
    "colab": {
     "base_uri": "https://localhost:8080/",
     "height": 607
    },
    "id": "tA88boj6CdPN",
    "outputId": "0865e795-9925-4d94-a620-54c02c3ff4e0"
   },
   "outputs": [
    {
     "data": {
      "image/png": "[encoded data removed]",
      "text/plain": [
       "<Figure size 576x597.6 with 2 Axes>"
      ]
     },
     "metadata": {
      "needs_background": "light"
     },
     "output_type": "display_data"
    }
   ],
   "source": [
    "shap.summary_plot(shap_values[1], X_test_scaled, plot_type=\"dot\")"
   ]
  },
  {
   "cell_type": "markdown",
   "metadata": {
    "id": "-j1CPE_5YUAf"
   },
   "source": [
    "### Class 3: Positive.\n",
    "When the sentiment analysis of reviews is positive, opening hours are not too high, and the business is presented in well-defined categories, restaurants score well."
   ]
  },
  {
   "cell_type": "code",
   "execution_count": null,
   "metadata": {
    "colab": {
     "base_uri": "https://localhost:8080/",
     "height": 607
    },
    "id": "iudxG8TkCl4o",
    "outputId": "17c234fe-aa58-426d-f3db-c2defbd648f8"
   },
   "outputs": [
    {
     "data": {
      "image/png": "[encoded data removed]",
      "text/plain": [
       "<Figure size 576x597.6 with 2 Axes>"
      ]
     },
     "metadata": {
      "needs_background": "light"
     },
     "output_type": "display_data"
    }
   ],
   "source": [
    "shap.summary_plot(shap_values[2], X_test_scaled, plot_type=\"dot\")"
   ]
  },
  {
   "cell_type": "markdown",
   "metadata": {
    "id": "Ct3K1dX4ZBjx"
   },
   "source": [
    "## Conclusion.\n",
    "\n",
    "In order to improve their businesses' ratings, restaurant managers should be concerned with:\n",
    "\n",
    "* Improve their presentation to the customer: A simple way to do this could be to complement the cards with which they are presented. As long as they respond to the reality of their offer. It has been shown that restaurants with very vague categories tend to be predicted as low class or neutral.\n",
    "\n",
    "* Encourage your customers to give their opinion on yelp: Restaurants with few reviews tend to belong to the negative categories. \n",
    "\n",
    "* Another basic but more complex one: It is essential to generate positive feelings among customers. Encourage a service culture that encourages customers to give their opinions."
   ]
  }
 ],
 "metadata": {
  "colab": {
   "machine_shape": "hm",
   "provenance": []
  },
  "gpuClass": "standard",
  "kernelspec": {
   "display_name": "Python 3 (ipykernel)",
   "language": "python",
   "name": "python3"
  },
  "language_info": {
   "codemirror_mode": {
    "name": "ipython",
    "version": 3
   },
   "file_extension": ".py",
   "mimetype": "text/x-python",
   "name": "python",
   "nbconvert_exporter": "python",
   "pygments_lexer": "ipython3",
   "version": "3.8.12"
  }
 },
 "nbformat": 4,
 "nbformat_minor": 4
}
