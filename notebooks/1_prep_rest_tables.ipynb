{
 "cells": [
  {
   "cell_type": "markdown",
   "metadata": {
    "id": "XRzuYaVPH7l3"
   },
   "source": [
    "# Preparation table of revisions, users for restaurants.\n",
    "In the review table, we will keep the restaurant reviews. We will use VADER to rate the sentiment reflected in each review for each restaurant, leading us to the base business table, summary statistics of the set of reviews. As we define our model, we will try to predict the stars awarded by a user, given the sentiment of the review he writes, the positioning of the business in terms of its characteristics and degree of specialization.\n",
    "\n",
    "Other tables such as users, tips and check-in are prepared in case other applications are developed.\n",
    "\n"
   ]
  },
  {
   "cell_type": "code",
   "execution_count": null,
   "metadata": {
    "id": "A-laKSMtAzoo"
   },
   "outputs": [],
   "source": [
    "import pandas as pd\n",
    "import numpy as np\n",
    "import json\n",
    "import os\n",
    "import re\n",
    "import matplotlib.pyplot as plt\n",
    "import seaborn as sns\n",
    "import gc\n",
    "import datetime\n"
   ]
  },
  {
   "cell_type": "code",
   "execution_count": null,
   "metadata": {
    "colab": {
     "base_uri": "https://localhost:8080/"
    },
    "id": "pD77rXYpPRP9",
    "outputId": "0e5d662d-7eee-4206-f0d9-ec7a2eaa6e64"
   },
   "outputs": [
    {
     "name": "stdout",
     "output_type": "stream",
     "text": [
      "Looking in indexes: https://pypi.org/simple, https://us-python.pkg.dev/colab-wheels/public/simple/\n",
      "Requirement already satisfied: nltk in /usr/local/lib/python3.8/dist-packages (3.7)\n",
      "Requirement already satisfied: regex>=2021.8.3 in /usr/local/lib/python3.8/dist-packages (from nltk) (2022.6.2)\n",
      "Requirement already satisfied: click in /usr/local/lib/python3.8/dist-packages (from nltk) (7.1.2)\n",
      "Requirement already satisfied: joblib in /usr/local/lib/python3.8/dist-packages (from nltk) (1.2.0)\n",
      "Requirement already satisfied: tqdm in /usr/local/lib/python3.8/dist-packages (from nltk) (4.64.1)\n"
     ]
    },
    {
     "name": "stderr",
     "output_type": "stream",
     "text": [
      "[nltk_data] Downloading package vader_lexicon to /root/nltk_data...\n"
     ]
    },
    {
     "data": {
      "text/plain": [
       "True"
      ]
     },
     "execution_count": 2,
     "metadata": {},
     "output_type": "execute_result"
    }
   ],
   "source": [
    "# Install and import nltk\n",
    "!pip install nltk\n",
    "import nltk\n",
    "\n",
    "# Download the lexicon\n",
    "nltk.download(\"vader_lexicon\")"
   ]
  },
  {
   "cell_type": "code",
   "execution_count": null,
   "metadata": {
    "colab": {
     "base_uri": "https://localhost:8080/"
    },
    "id": "v6DWYe3BBGkn",
    "outputId": "aa72ae3f-2ecc-43e1-905f-e9b21db3fb97"
   },
   "outputs": [
    {
     "name": "stdout",
     "output_type": "stream",
     "text": [
      "Working with 27.33 gigas of RAM.\n"
     ]
    }
   ],
   "source": [
    "from psutil import virtual_memory\n",
    "print(f'Working with {round(virtual_memory().total / 1e9,2)} gigas of RAM.')\n"
   ]
  },
  {
   "cell_type": "code",
   "execution_count": null,
   "metadata": {
    "colab": {
     "base_uri": "https://localhost:8080/"
    },
    "id": "KHZu1F-JBGnY",
    "outputId": "7d7bdc46-97e8-42a2-e1ba-39b48933cd87"
   },
   "outputs": [
    {
     "name": "stdout",
     "output_type": "stream",
     "text": [
      "Drive already mounted at /content/drive; to attempt to forcibly remount, call drive.mount(\"/content/drive\", force_remount=True).\n"
     ]
    }
   ],
   "source": [
    "from google.colab import drive\n",
    "drive.mount('/content/drive')\n"
   ]
  },
  {
   "cell_type": "code",
   "execution_count": null,
   "metadata": {
    "id": "Y5VgSBAf63up"
   },
   "outputs": [],
   "source": [
    "os.chdir('/content/drive/MyDrive/yelp/notebooks')"
   ]
  },
  {
   "cell_type": "code",
   "execution_count": null,
   "metadata": {
    "id": "_UmHgCFFDwwj"
   },
   "outputs": [],
   "source": [
    "# Read restaurant frame.\n",
    "data_bus = pd.read_parquet(r'../data/restaurants/restaurants_open_definitive.parquet')"
   ]
  },
  {
   "cell_type": "code",
   "execution_count": null,
   "metadata": {
    "colab": {
     "base_uri": "https://localhost:8080/"
    },
    "id": "NBV6zXNaDw0z",
    "outputId": "cafba852-8f2e-46c9-c73f-24cba8c403ed"
   },
   "outputs": [
    {
     "data": {
      "text/plain": [
       "Index(['business_id', 'name', 'address', 'city', 'state', 'postal_code',\n",
       "       'latitude', 'longitude', 'stars', 'review_count', 'is_open',\n",
       "       'metro_area', 'category_1', 'category_2', 'category_3', 'category_4',\n",
       "       'category_5', 'category_6', 'category_7', 'category_8', 'category_9',\n",
       "       'category_10', 'category_11', 'category_12', 'Alcohol', 'BikeParking',\n",
       "       'BusinessAcceptsBitcoin', 'BusinessAcceptsCreditCards',\n",
       "       'BusinessParking', 'ByAppointmentOnly', 'Caters', 'DogsAllowed',\n",
       "       'DriveThru', 'GoodForKids', 'HappyHour', 'HasTV', 'Music', 'NoiseLevel',\n",
       "       'OutdoorSeating', 'RestaurantsAttire', 'RestaurantsDelivery',\n",
       "       'RestaurantsGoodForGroups', 'RestaurantsPriceRange2',\n",
       "       'RestaurantsReservations', 'RestaurantsTableService',\n",
       "       'RestaurantsTakeOut', 'WheelchairAccessible', 'WiFi', 'romantic',\n",
       "       'intimate', 'touristy', 'hipster', 'divey', 'classy', 'trendy',\n",
       "       'upscale', 'casual', 'dessert', 'latenight', 'lunch', 'dinner',\n",
       "       'brunch', 'breakfast', 'Friday_work_hours', 'Monday_work_hours',\n",
       "       'Saturday_work_hours', 'Sunday_work_hours', 'Thursday_work_hours',\n",
       "       'Tuesday_work_hours', 'Wednesday_work_hours'],\n",
       "      dtype='object')"
      ]
     },
     "execution_count": 7,
     "metadata": {},
     "output_type": "execute_result"
    }
   ],
   "source": [
    "data_bus.columns"
   ]
  },
  {
   "cell_type": "code",
   "execution_count": null,
   "metadata": {
    "id": "q3NNjvxk2T8i"
   },
   "outputs": [],
   "source": [
    "categories_columns = ['category_1', 'category_2', 'category_3', 'category_4', 'category_5', \n",
    "                             'category_6', 'category_7', 'category_8', 'category_9', 'category_10','category_11','category_12']"
   ]
  },
  {
   "cell_type": "code",
   "execution_count": null,
   "metadata": {
    "colab": {
     "base_uri": "https://localhost:8080/",
     "height": 426
    },
    "id": "UE5lCA0H2wJN",
    "outputId": "a539a32f-73e1-474b-d412-ebd50aa2443f"
   },
   "outputs": [
    {
     "data": {
      "text/html": [
       "\n",
       "  <div id=\"df-e1bfc63d-245f-4480-ac87-456d4f2db416\">\n",
       "    <div class=\"colab-df-container\">\n",
       "      <div>\n",
       "<style scoped>\n",
       "    .dataframe tbody tr th:only-of-type {\n",
       "        vertical-align: middle;\n",
       "    }\n",
       "\n",
       "    .dataframe tbody tr th {\n",
       "        vertical-align: top;\n",
       "    }\n",
       "\n",
       "    .dataframe thead th {\n",
       "        text-align: right;\n",
       "    }\n",
       "</style>\n",
       "<table border=\"1\" class=\"dataframe\">\n",
       "  <thead>\n",
       "    <tr style=\"text-align: right;\">\n",
       "      <th></th>\n",
       "      <th>count</th>\n",
       "      <th>mean</th>\n",
       "      <th>std</th>\n",
       "      <th>min</th>\n",
       "      <th>25%</th>\n",
       "      <th>50%</th>\n",
       "      <th>75%</th>\n",
       "      <th>max</th>\n",
       "    </tr>\n",
       "  </thead>\n",
       "  <tbody>\n",
       "    <tr>\n",
       "      <th>category_1</th>\n",
       "      <td>34950.0</td>\n",
       "      <td>0.000000</td>\n",
       "      <td>0.000000</td>\n",
       "      <td>0.0</td>\n",
       "      <td>0.0</td>\n",
       "      <td>0.0</td>\n",
       "      <td>0.0</td>\n",
       "      <td>0.0</td>\n",
       "    </tr>\n",
       "    <tr>\n",
       "      <th>category_2</th>\n",
       "      <td>34950.0</td>\n",
       "      <td>35.823433</td>\n",
       "      <td>369.555899</td>\n",
       "      <td>1.0</td>\n",
       "      <td>1.0</td>\n",
       "      <td>11.0</td>\n",
       "      <td>16.0</td>\n",
       "      <td>9999.0</td>\n",
       "    </tr>\n",
       "    <tr>\n",
       "      <th>category_3</th>\n",
       "      <td>34950.0</td>\n",
       "      <td>1777.585408</td>\n",
       "      <td>3779.722522</td>\n",
       "      <td>2.0</td>\n",
       "      <td>11.0</td>\n",
       "      <td>18.0</td>\n",
       "      <td>100.0</td>\n",
       "      <td>9999.0</td>\n",
       "    </tr>\n",
       "    <tr>\n",
       "      <th>category_4</th>\n",
       "      <td>34950.0</td>\n",
       "      <td>3281.498169</td>\n",
       "      <td>4647.666497</td>\n",
       "      <td>3.0</td>\n",
       "      <td>18.0</td>\n",
       "      <td>69.0</td>\n",
       "      <td>9999.0</td>\n",
       "      <td>9999.0</td>\n",
       "    </tr>\n",
       "    <tr>\n",
       "      <th>category_5</th>\n",
       "      <td>34950.0</td>\n",
       "      <td>5016.915107</td>\n",
       "      <td>4951.275219</td>\n",
       "      <td>5.0</td>\n",
       "      <td>44.0</td>\n",
       "      <td>777.5</td>\n",
       "      <td>9999.0</td>\n",
       "      <td>9999.0</td>\n",
       "    </tr>\n",
       "    <tr>\n",
       "      <th>category_6</th>\n",
       "      <td>34950.0</td>\n",
       "      <td>6785.945980</td>\n",
       "      <td>4624.153258</td>\n",
       "      <td>8.0</td>\n",
       "      <td>167.0</td>\n",
       "      <td>9999.0</td>\n",
       "      <td>9999.0</td>\n",
       "      <td>9999.0</td>\n",
       "    </tr>\n",
       "    <tr>\n",
       "      <th>category_7</th>\n",
       "      <td>34950.0</td>\n",
       "      <td>8045.254278</td>\n",
       "      <td>3925.854118</td>\n",
       "      <td>11.0</td>\n",
       "      <td>9999.0</td>\n",
       "      <td>9999.0</td>\n",
       "      <td>9999.0</td>\n",
       "      <td>9999.0</td>\n",
       "    </tr>\n",
       "    <tr>\n",
       "      <th>category_8</th>\n",
       "      <td>34950.0</td>\n",
       "      <td>8844.200143</td>\n",
       "      <td>3162.699030</td>\n",
       "      <td>14.0</td>\n",
       "      <td>9999.0</td>\n",
       "      <td>9999.0</td>\n",
       "      <td>9999.0</td>\n",
       "      <td>9999.0</td>\n",
       "    </tr>\n",
       "    <tr>\n",
       "      <th>category_9</th>\n",
       "      <td>34950.0</td>\n",
       "      <td>9327.568383</td>\n",
       "      <td>2473.299093</td>\n",
       "      <td>18.0</td>\n",
       "      <td>9999.0</td>\n",
       "      <td>9999.0</td>\n",
       "      <td>9999.0</td>\n",
       "      <td>9999.0</td>\n",
       "    </tr>\n",
       "    <tr>\n",
       "      <th>category_10</th>\n",
       "      <td>34950.0</td>\n",
       "      <td>9625.186753</td>\n",
       "      <td>1872.586409</td>\n",
       "      <td>22.0</td>\n",
       "      <td>9999.0</td>\n",
       "      <td>9999.0</td>\n",
       "      <td>9999.0</td>\n",
       "      <td>9999.0</td>\n",
       "    </tr>\n",
       "    <tr>\n",
       "      <th>category_11</th>\n",
       "      <td>34950.0</td>\n",
       "      <td>9787.332475</td>\n",
       "      <td>1417.226083</td>\n",
       "      <td>41.0</td>\n",
       "      <td>9999.0</td>\n",
       "      <td>9999.0</td>\n",
       "      <td>9999.0</td>\n",
       "      <td>9999.0</td>\n",
       "    </tr>\n",
       "    <tr>\n",
       "      <th>category_12</th>\n",
       "      <td>34950.0</td>\n",
       "      <td>9876.880114</td>\n",
       "      <td>1074.517223</td>\n",
       "      <td>51.0</td>\n",
       "      <td>9999.0</td>\n",
       "      <td>9999.0</td>\n",
       "      <td>9999.0</td>\n",
       "      <td>9999.0</td>\n",
       "    </tr>\n",
       "  </tbody>\n",
       "</table>\n",
       "</div>\n",
       "      <button class=\"colab-df-convert\" onclick=\"convertToInteractive('df-e1bfc63d-245f-4480-ac87-456d4f2db416')\"\n",
       "              title=\"Convert this dataframe to an interactive table.\"\n",
       "              style=\"display:none;\">\n",
       "        \n",
       "  <svg xmlns=\"http://www.w3.org/2000/svg\" height=\"24px\"viewBox=\"0 0 24 24\"\n",
       "       width=\"24px\">\n",
       "    <path d=\"M0 0h24v24H0V0z\" fill=\"none\"/>\n",
       "    <path d=\"M18.56 5.44l.94 2.06.94-2.06 2.06-.94-2.06-.94-.94-2.06-.94 2.06-2.06.94zm-11 1L8.5 8.5l.94-2.06 2.06-.94-2.06-.94L8.5 2.5l-.94 2.06-2.06.94zm10 10l.94 2.06.94-2.06 2.06-.94-2.06-.94-.94-2.06-.94 2.06-2.06.94z\"/><path d=\"M17.41 7.96l-1.37-1.37c-.4-.4-.92-.59-1.43-.59-.52 0-1.04.2-1.43.59L10.3 9.45l-7.72 7.72c-.78.78-.78 2.05 0 2.83L4 21.41c.39.39.9.59 1.41.59.51 0 1.02-.2 1.41-.59l7.78-7.78 2.81-2.81c.8-.78.8-2.07 0-2.86zM5.41 20L4 18.59l7.72-7.72 1.47 1.35L5.41 20z\"/>\n",
       "  </svg>\n",
       "      </button>\n",
       "      \n",
       "  <style>\n",
       "    .colab-df-container {\n",
       "      display:flex;\n",
       "      flex-wrap:wrap;\n",
       "      gap: 12px;\n",
       "    }\n",
       "\n",
       "    .colab-df-convert {\n",
       "      background-color: #E8F0FE;\n",
       "      border: none;\n",
       "      border-radius: 50%;\n",
       "      cursor: pointer;\n",
       "      display: none;\n",
       "      fill: #1967D2;\n",
       "      height: 32px;\n",
       "      padding: 0 0 0 0;\n",
       "      width: 32px;\n",
       "    }\n",
       "\n",
       "    .colab-df-convert:hover {\n",
       "      background-color: #E2EBFA;\n",
       "      box-shadow: 0px 1px 2px rgba(60, 64, 67, 0.3), 0px 1px 3px 1px rgba(60, 64, 67, 0.15);\n",
       "      fill: #174EA6;\n",
       "    }\n",
       "\n",
       "    [theme=dark] .colab-df-convert {\n",
       "      background-color: #3B4455;\n",
       "      fill: #D2E3FC;\n",
       "    }\n",
       "\n",
       "    [theme=dark] .colab-df-convert:hover {\n",
       "      background-color: #434B5C;\n",
       "      box-shadow: 0px 1px 3px 1px rgba(0, 0, 0, 0.15);\n",
       "      filter: drop-shadow(0px 1px 2px rgba(0, 0, 0, 0.3));\n",
       "      fill: #FFFFFF;\n",
       "    }\n",
       "  </style>\n",
       "\n",
       "      <script>\n",
       "        const buttonEl =\n",
       "          document.querySelector('#df-e1bfc63d-245f-4480-ac87-456d4f2db416 button.colab-df-convert');\n",
       "        buttonEl.style.display =\n",
       "          google.colab.kernel.accessAllowed ? 'block' : 'none';\n",
       "\n",
       "        async function convertToInteractive(key) {\n",
       "          const element = document.querySelector('#df-e1bfc63d-245f-4480-ac87-456d4f2db416');\n",
       "          const dataTable =\n",
       "            await google.colab.kernel.invokeFunction('convertToInteractive',\n",
       "                                                     [key], {});\n",
       "          if (!dataTable) return;\n",
       "\n",
       "          const docLinkHtml = 'Like what you see? Visit the ' +\n",
       "            '<a target=\"_blank\" href=https://colab.research.google.com/notebooks/data_table.ipynb>data table notebook</a>'\n",
       "            + ' to learn more about interactive tables.';\n",
       "          element.innerHTML = '';\n",
       "          dataTable['output_type'] = 'display_data';\n",
       "          await google.colab.output.renderOutput(dataTable, element);\n",
       "          const docLink = document.createElement('div');\n",
       "          docLink.innerHTML = docLinkHtml;\n",
       "          element.appendChild(docLink);\n",
       "        }\n",
       "      </script>\n",
       "    </div>\n",
       "  </div>\n",
       "  "
      ],
      "text/plain": [
       "               count         mean          std   min     25%     50%     75%  \\\n",
       "category_1   34950.0     0.000000     0.000000   0.0     0.0     0.0     0.0   \n",
       "category_2   34950.0    35.823433   369.555899   1.0     1.0    11.0    16.0   \n",
       "category_3   34950.0  1777.585408  3779.722522   2.0    11.0    18.0   100.0   \n",
       "category_4   34950.0  3281.498169  4647.666497   3.0    18.0    69.0  9999.0   \n",
       "category_5   34950.0  5016.915107  4951.275219   5.0    44.0   777.5  9999.0   \n",
       "category_6   34950.0  6785.945980  4624.153258   8.0   167.0  9999.0  9999.0   \n",
       "category_7   34950.0  8045.254278  3925.854118  11.0  9999.0  9999.0  9999.0   \n",
       "category_8   34950.0  8844.200143  3162.699030  14.0  9999.0  9999.0  9999.0   \n",
       "category_9   34950.0  9327.568383  2473.299093  18.0  9999.0  9999.0  9999.0   \n",
       "category_10  34950.0  9625.186753  1872.586409  22.0  9999.0  9999.0  9999.0   \n",
       "category_11  34950.0  9787.332475  1417.226083  41.0  9999.0  9999.0  9999.0   \n",
       "category_12  34950.0  9876.880114  1074.517223  51.0  9999.0  9999.0  9999.0   \n",
       "\n",
       "                max  \n",
       "category_1      0.0  \n",
       "category_2   9999.0  \n",
       "category_3   9999.0  \n",
       "category_4   9999.0  \n",
       "category_5   9999.0  \n",
       "category_6   9999.0  \n",
       "category_7   9999.0  \n",
       "category_8   9999.0  \n",
       "category_9   9999.0  \n",
       "category_10  9999.0  \n",
       "category_11  9999.0  \n",
       "category_12  9999.0  "
      ]
     },
     "execution_count": 9,
     "metadata": {},
     "output_type": "execute_result"
    }
   ],
   "source": [
    "data_bus[categories_columns].describe().T"
   ]
  },
  {
   "cell_type": "code",
   "execution_count": null,
   "metadata": {
    "id": "mlNHrISE3nvG"
   },
   "outputs": [],
   "source": [
    "# We generate a frame only with the ids of restaurants, which will allow us to merge with the table\n",
    "# table, only the restaurant reviews.\n",
    "resturants_id = data_bus[['business_id']]"
   ]
  },
  {
   "cell_type": "markdown",
   "metadata": {
    "id": "bUkkrf_uHqxB"
   },
   "source": [
    "## Review table.\n",
    "The review table does not contain any columns that need to be transformed or contain nested jsons. Given its length, we filter the reviews we are interested in from restaurants. And we take the opportunity to do a VADER sentiment analysis (http://eegilbert.org/papers/icwsm14.vader.hutto.pdf), which we will keep in the review table, and from which we will transfer summary data to our restaurant table.\n",
    "\n"
   ]
  },
  {
   "cell_type": "code",
   "execution_count": null,
   "metadata": {
    "id": "KfKbJjeEDY6r"
   },
   "outputs": [],
   "source": [
    "# We read the revision table in chunks.\n",
    "review_json_path = r\"../data/yelp_academic_dataset_review.json\"\n",
    "size = 1000000\n",
    "review = pd.read_json(review_json_path, lines=True,\n",
    "                      dtype={'review_id':str,'user_id':str,\n",
    "                             'business_id':str,'stars':int,\n",
    "                             'date':str,'text':str,'useful':int,\n",
    "                             'funny':int,'cool':int},\n",
    "                      chunksize=size)"
   ]
  },
  {
   "cell_type": "code",
   "execution_count": null,
   "metadata": {
    "colab": {
     "base_uri": "https://localhost:8080/"
    },
    "id": "Wk-IxWP_BGwP",
    "outputId": "c42df151-2627-4611-efdb-4be87b1d558e"
   },
   "outputs": [
    {
     "name": "stdout",
     "output_type": "stream",
     "text": [
      "539432 out of 1,000,000 related reviews\n",
      "548285 out of 1,000,000 related reviews\n",
      "523165 out of 1,000,000 related reviews\n",
      "529572 out of 1,000,000 related reviews\n",
      "546425 out of 1,000,000 related reviews\n",
      "543077 out of 1,000,000 related reviews\n",
      "532542 out of 1,000,000 related reviews\n"
     ]
    }
   ],
   "source": [
    "\n",
    "# Generate a list of chucks to be merged.\n",
    "chunk_list = []\n",
    "for chunk_review in review:\n",
    "    # Delete unusable column\n",
    "    chunk_review = chunk_review.drop(['review_id'], axis=1)\n",
    "    # Rename column to avoid conflict with business\n",
    "    chunk_review = chunk_review.rename(columns={'stars': 'review_stars'})\n",
    "    # Inner merge with restaurant_id table to keep only restaurant reviews \n",
    "    chunk_merged = pd.merge(resturants_id, chunk_review, on='business_id', how='inner')\n",
    "    # Show progress.\n",
    "    print(f\"{chunk_merged.shape[0]} out of {size:,} related reviews\")\n",
    "    chunk_list.append(chunk_merged)\n",
    "# Concatenate all chunks in a dataframe.\n",
    "df = pd.concat(chunk_list, ignore_index=True, join='outer', axis=0)"
   ]
  },
  {
   "cell_type": "code",
   "execution_count": null,
   "metadata": {
    "id": "WdMFiwP5BGzv"
   },
   "outputs": [],
   "source": [
    "# Save to disk.\n",
    "df.to_parquet(\"../data/restaurants/restaurants_reviews.parquet\",\n",
    "              compression='gzip')"
   ]
  },
  {
   "cell_type": "code",
   "execution_count": null,
   "metadata": {
    "colab": {
     "base_uri": "https://localhost:8080/"
    },
    "id": "959rLifgpCwI",
    "outputId": "2af7f38e-e693-47e0-ef61-22e1ec3c17d5"
   },
   "outputs": [
    {
     "data": {
      "text/plain": [
       "30"
      ]
     },
     "execution_count": 14,
     "metadata": {},
     "output_type": "execute_result"
    }
   ],
   "source": [
    "del [[df,review]]\n",
    "gc.collect()"
   ]
  },
  {
   "cell_type": "markdown",
   "metadata": {
    "id": "VUma6J2qI3lG"
   },
   "source": [
    "## SENTIMENT ANALYSIS.\n",
    "With the functions of the nltk library related to VADER, we are going to qualify the polarity of each review, and through it, we will qualify as positive any message with polarity greater than 0.5, negative those with polarity less than -0.5, and neutral the rest. This process is slow, about 9 hours for our restaurants. \n",
    "\n",
    "We decided to discard reviews prior to 2016. Businesses evolve quickly and reviews too far back in time we think are no longer useful.\n",
    "We will look at two VADER tables, one with value for each review for each restaurant and one with data grouped by restaurant."
   ]
  },
  {
   "cell_type": "code",
   "execution_count": null,
   "metadata": {
    "id": "naHFDhOnFvjQ"
   },
   "outputs": [],
   "source": [
    "# We read restaurant reviews.\n",
    "data_rew=pd.read_parquet(\"../data/restaurants/restaurants_reviews.parquet\")"
   ]
  },
  {
   "cell_type": "code",
   "execution_count": null,
   "metadata": {
    "colab": {
     "base_uri": "https://localhost:8080/",
     "height": 641
    },
    "id": "GppU2bEmefMx",
    "outputId": "a8a5d3b4-1638-4bc2-c17a-77b0596c9590"
   },
   "outputs": [
    {
     "data": {
      "text/html": [
       "\n",
       "  <div id=\"df-d22f1038-955d-4721-966a-39db1e26b0dc\">\n",
       "    <div class=\"colab-df-container\">\n",
       "      <div>\n",
       "<style scoped>\n",
       "    .dataframe tbody tr th:only-of-type {\n",
       "        vertical-align: middle;\n",
       "    }\n",
       "\n",
       "    .dataframe tbody tr th {\n",
       "        vertical-align: top;\n",
       "    }\n",
       "\n",
       "    .dataframe thead th {\n",
       "        text-align: right;\n",
       "    }\n",
       "</style>\n",
       "<table border=\"1\" class=\"dataframe\">\n",
       "  <thead>\n",
       "    <tr style=\"text-align: right;\">\n",
       "      <th></th>\n",
       "      <th>business_id</th>\n",
       "      <th>user_id</th>\n",
       "      <th>review_stars</th>\n",
       "      <th>useful</th>\n",
       "      <th>funny</th>\n",
       "      <th>cool</th>\n",
       "      <th>text</th>\n",
       "      <th>date</th>\n",
       "    </tr>\n",
       "  </thead>\n",
       "  <tbody>\n",
       "    <tr>\n",
       "      <th>0</th>\n",
       "      <td>MTSW4McQd7CbVtyjqoe9mw</td>\n",
       "      <td>6_SpY41LIHZuIaiDs5FMKA</td>\n",
       "      <td>4</td>\n",
       "      <td>0</td>\n",
       "      <td>0</td>\n",
       "      <td>1</td>\n",
       "      <td>This is nice little Chinese bakery in the hear...</td>\n",
       "      <td>2014-05-26 01:09:53</td>\n",
       "    </tr>\n",
       "    <tr>\n",
       "      <th>1</th>\n",
       "      <td>MTSW4McQd7CbVtyjqoe9mw</td>\n",
       "      <td>tCXElwhzekJEH6QJe3xs7Q</td>\n",
       "      <td>4</td>\n",
       "      <td>3</td>\n",
       "      <td>1</td>\n",
       "      <td>2</td>\n",
       "      <td>This is the bakery I usually go to in Chinatow...</td>\n",
       "      <td>2013-10-05 15:19:06</td>\n",
       "    </tr>\n",
       "    <tr>\n",
       "      <th>2</th>\n",
       "      <td>MTSW4McQd7CbVtyjqoe9mw</td>\n",
       "      <td>WqfKtI-aGMmvbA9pPUxNQQ</td>\n",
       "      <td>5</td>\n",
       "      <td>0</td>\n",
       "      <td>0</td>\n",
       "      <td>0</td>\n",
       "      <td>A delightful find in Chinatown! Very clean, an...</td>\n",
       "      <td>2013-10-25 01:34:57</td>\n",
       "    </tr>\n",
       "    <tr>\n",
       "      <th>3</th>\n",
       "      <td>MTSW4McQd7CbVtyjqoe9mw</td>\n",
       "      <td>3-1va0IQfK-9tUMzfHWfTA</td>\n",
       "      <td>5</td>\n",
       "      <td>5</td>\n",
       "      <td>0</td>\n",
       "      <td>5</td>\n",
       "      <td>I ordered a graduation cake for my niece and i...</td>\n",
       "      <td>2018-05-20 17:58:57</td>\n",
       "    </tr>\n",
       "    <tr>\n",
       "      <th>4</th>\n",
       "      <td>MTSW4McQd7CbVtyjqoe9mw</td>\n",
       "      <td>EouCKoDfzaVG0klEgdDvCQ</td>\n",
       "      <td>4</td>\n",
       "      <td>2</td>\n",
       "      <td>1</td>\n",
       "      <td>1</td>\n",
       "      <td>HK-STYLE MILK TEA:  FOUR STARS\\n\\nNot quite su...</td>\n",
       "      <td>2013-10-25 02:31:35</td>\n",
       "    </tr>\n",
       "    <tr>\n",
       "      <th>...</th>\n",
       "      <td>...</td>\n",
       "      <td>...</td>\n",
       "      <td>...</td>\n",
       "      <td>...</td>\n",
       "      <td>...</td>\n",
       "      <td>...</td>\n",
       "      <td>...</td>\n",
       "      <td>...</td>\n",
       "    </tr>\n",
       "    <tr>\n",
       "      <th>3762493</th>\n",
       "      <td>2O2K6SXPWv56amqxCECd4w</td>\n",
       "      <td>eWz12w7dzYlfrGnhTQ82Fg</td>\n",
       "      <td>5</td>\n",
       "      <td>0</td>\n",
       "      <td>0</td>\n",
       "      <td>0</td>\n",
       "      <td>This is my favorite food truck! I only wish I ...</td>\n",
       "      <td>2019-07-14 14:25:35</td>\n",
       "    </tr>\n",
       "    <tr>\n",
       "      <th>3762494</th>\n",
       "      <td>2O2K6SXPWv56amqxCECd4w</td>\n",
       "      <td>lDyhGApbGZ0_BoeJzRQq7g</td>\n",
       "      <td>5</td>\n",
       "      <td>1</td>\n",
       "      <td>0</td>\n",
       "      <td>1</td>\n",
       "      <td>This food truck was stupid. Stupidly delicious...</td>\n",
       "      <td>2021-06-25 23:22:26</td>\n",
       "    </tr>\n",
       "    <tr>\n",
       "      <th>3762495</th>\n",
       "      <td>2O2K6SXPWv56amqxCECd4w</td>\n",
       "      <td>-TTJ75--0NEAjvFCOV7rBg</td>\n",
       "      <td>5</td>\n",
       "      <td>0</td>\n",
       "      <td>0</td>\n",
       "      <td>0</td>\n",
       "      <td>Bubba never disappoints i go to his fb page an...</td>\n",
       "      <td>2016-12-09 21:38:05</td>\n",
       "    </tr>\n",
       "    <tr>\n",
       "      <th>3762496</th>\n",
       "      <td>2O2K6SXPWv56amqxCECd4w</td>\n",
       "      <td>8yFNNU7UmQcfzmcTvzTlOA</td>\n",
       "      <td>1</td>\n",
       "      <td>0</td>\n",
       "      <td>0</td>\n",
       "      <td>0</td>\n",
       "      <td>The truck was invited to our office for a part...</td>\n",
       "      <td>2020-02-19 22:59:06</td>\n",
       "    </tr>\n",
       "    <tr>\n",
       "      <th>3762497</th>\n",
       "      <td>2O2K6SXPWv56amqxCECd4w</td>\n",
       "      <td>uvBkI-2pOW0gg8yee7YvdA</td>\n",
       "      <td>4</td>\n",
       "      <td>0</td>\n",
       "      <td>0</td>\n",
       "      <td>0</td>\n",
       "      <td>Plum Pit came and did my niece's graduation pa...</td>\n",
       "      <td>2021-06-07 02:55:04</td>\n",
       "    </tr>\n",
       "  </tbody>\n",
       "</table>\n",
       "<p>3762498 rows × 8 columns</p>\n",
       "</div>\n",
       "      <button class=\"colab-df-convert\" onclick=\"convertToInteractive('df-d22f1038-955d-4721-966a-39db1e26b0dc')\"\n",
       "              title=\"Convert this dataframe to an interactive table.\"\n",
       "              style=\"display:none;\">\n",
       "        \n",
       "  <svg xmlns=\"http://www.w3.org/2000/svg\" height=\"24px\"viewBox=\"0 0 24 24\"\n",
       "       width=\"24px\">\n",
       "    <path d=\"M0 0h24v24H0V0z\" fill=\"none\"/>\n",
       "    <path d=\"M18.56 5.44l.94 2.06.94-2.06 2.06-.94-2.06-.94-.94-2.06-.94 2.06-2.06.94zm-11 1L8.5 8.5l.94-2.06 2.06-.94-2.06-.94L8.5 2.5l-.94 2.06-2.06.94zm10 10l.94 2.06.94-2.06 2.06-.94-2.06-.94-.94-2.06-.94 2.06-2.06.94z\"/><path d=\"M17.41 7.96l-1.37-1.37c-.4-.4-.92-.59-1.43-.59-.52 0-1.04.2-1.43.59L10.3 9.45l-7.72 7.72c-.78.78-.78 2.05 0 2.83L4 21.41c.39.39.9.59 1.41.59.51 0 1.02-.2 1.41-.59l7.78-7.78 2.81-2.81c.8-.78.8-2.07 0-2.86zM5.41 20L4 18.59l7.72-7.72 1.47 1.35L5.41 20z\"/>\n",
       "  </svg>\n",
       "      </button>\n",
       "      \n",
       "  <style>\n",
       "    .colab-df-container {\n",
       "      display:flex;\n",
       "      flex-wrap:wrap;\n",
       "      gap: 12px;\n",
       "    }\n",
       "\n",
       "    .colab-df-convert {\n",
       "      background-color: #E8F0FE;\n",
       "      border: none;\n",
       "      border-radius: 50%;\n",
       "      cursor: pointer;\n",
       "      display: none;\n",
       "      fill: #1967D2;\n",
       "      height: 32px;\n",
       "      padding: 0 0 0 0;\n",
       "      width: 32px;\n",
       "    }\n",
       "\n",
       "    .colab-df-convert:hover {\n",
       "      background-color: #E2EBFA;\n",
       "      box-shadow: 0px 1px 2px rgba(60, 64, 67, 0.3), 0px 1px 3px 1px rgba(60, 64, 67, 0.15);\n",
       "      fill: #174EA6;\n",
       "    }\n",
       "\n",
       "    [theme=dark] .colab-df-convert {\n",
       "      background-color: #3B4455;\n",
       "      fill: #D2E3FC;\n",
       "    }\n",
       "\n",
       "    [theme=dark] .colab-df-convert:hover {\n",
       "      background-color: #434B5C;\n",
       "      box-shadow: 0px 1px 3px 1px rgba(0, 0, 0, 0.15);\n",
       "      filter: drop-shadow(0px 1px 2px rgba(0, 0, 0, 0.3));\n",
       "      fill: #FFFFFF;\n",
       "    }\n",
       "  </style>\n",
       "\n",
       "      <script>\n",
       "        const buttonEl =\n",
       "          document.querySelector('#df-d22f1038-955d-4721-966a-39db1e26b0dc button.colab-df-convert');\n",
       "        buttonEl.style.display =\n",
       "          google.colab.kernel.accessAllowed ? 'block' : 'none';\n",
       "\n",
       "        async function convertToInteractive(key) {\n",
       "          const element = document.querySelector('#df-d22f1038-955d-4721-966a-39db1e26b0dc');\n",
       "          const dataTable =\n",
       "            await google.colab.kernel.invokeFunction('convertToInteractive',\n",
       "                                                     [key], {});\n",
       "          if (!dataTable) return;\n",
       "\n",
       "          const docLinkHtml = 'Like what you see? Visit the ' +\n",
       "            '<a target=\"_blank\" href=https://colab.research.google.com/notebooks/data_table.ipynb>data table notebook</a>'\n",
       "            + ' to learn more about interactive tables.';\n",
       "          element.innerHTML = '';\n",
       "          dataTable['output_type'] = 'display_data';\n",
       "          await google.colab.output.renderOutput(dataTable, element);\n",
       "          const docLink = document.createElement('div');\n",
       "          docLink.innerHTML = docLinkHtml;\n",
       "          element.appendChild(docLink);\n",
       "        }\n",
       "      </script>\n",
       "    </div>\n",
       "  </div>\n",
       "  "
      ],
      "text/plain": [
       "                    business_id                 user_id  review_stars  useful  \\\n",
       "0        MTSW4McQd7CbVtyjqoe9mw  6_SpY41LIHZuIaiDs5FMKA             4       0   \n",
       "1        MTSW4McQd7CbVtyjqoe9mw  tCXElwhzekJEH6QJe3xs7Q             4       3   \n",
       "2        MTSW4McQd7CbVtyjqoe9mw  WqfKtI-aGMmvbA9pPUxNQQ             5       0   \n",
       "3        MTSW4McQd7CbVtyjqoe9mw  3-1va0IQfK-9tUMzfHWfTA             5       5   \n",
       "4        MTSW4McQd7CbVtyjqoe9mw  EouCKoDfzaVG0klEgdDvCQ             4       2   \n",
       "...                         ...                     ...           ...     ...   \n",
       "3762493  2O2K6SXPWv56amqxCECd4w  eWz12w7dzYlfrGnhTQ82Fg             5       0   \n",
       "3762494  2O2K6SXPWv56amqxCECd4w  lDyhGApbGZ0_BoeJzRQq7g             5       1   \n",
       "3762495  2O2K6SXPWv56amqxCECd4w  -TTJ75--0NEAjvFCOV7rBg             5       0   \n",
       "3762496  2O2K6SXPWv56amqxCECd4w  8yFNNU7UmQcfzmcTvzTlOA             1       0   \n",
       "3762497  2O2K6SXPWv56amqxCECd4w  uvBkI-2pOW0gg8yee7YvdA             4       0   \n",
       "\n",
       "         funny  cool                                               text  \\\n",
       "0            0     1  This is nice little Chinese bakery in the hear...   \n",
       "1            1     2  This is the bakery I usually go to in Chinatow...   \n",
       "2            0     0  A delightful find in Chinatown! Very clean, an...   \n",
       "3            0     5  I ordered a graduation cake for my niece and i...   \n",
       "4            1     1  HK-STYLE MILK TEA:  FOUR STARS\\n\\nNot quite su...   \n",
       "...        ...   ...                                                ...   \n",
       "3762493      0     0  This is my favorite food truck! I only wish I ...   \n",
       "3762494      0     1  This food truck was stupid. Stupidly delicious...   \n",
       "3762495      0     0  Bubba never disappoints i go to his fb page an...   \n",
       "3762496      0     0  The truck was invited to our office for a part...   \n",
       "3762497      0     0  Plum Pit came and did my niece's graduation pa...   \n",
       "\n",
       "                        date  \n",
       "0        2014-05-26 01:09:53  \n",
       "1        2013-10-05 15:19:06  \n",
       "2        2013-10-25 01:34:57  \n",
       "3        2018-05-20 17:58:57  \n",
       "4        2013-10-25 02:31:35  \n",
       "...                      ...  \n",
       "3762493  2019-07-14 14:25:35  \n",
       "3762494  2021-06-25 23:22:26  \n",
       "3762495  2016-12-09 21:38:05  \n",
       "3762496  2020-02-19 22:59:06  \n",
       "3762497  2021-06-07 02:55:04  \n",
       "\n",
       "[3762498 rows x 8 columns]"
      ]
     },
     "execution_count": 16,
     "metadata": {},
     "output_type": "execute_result"
    }
   ],
   "source": [
    "data_rew"
   ]
  },
  {
   "cell_type": "markdown",
   "metadata": {
    "id": "Ok5Vt_VKDqXr"
   },
   "source": [
    "Vader (Valence Aware Dictionary and Sentiment Reasoner) is a sentiment analysis tool developed to evaluate the tone or sentiment of natural language text. It is specifically designed to evaluate tone in social networks, making it very useful for analysing online opinions or comments.\n",
    "\n",
    "Vader uses a set of rules and keyword-based scores to evaluate the tone of text. For example, if a comment includes words such as \"happy\", \"content\" or \"excited\", Vader will assign a positive score to that comment. Similarly, if a comment includes words such as \"sad\", \"angry\" or \"upset\", Vader will assign a negative score.\n",
    "\n",
    "Vader also takes into account the context in which words are used and uses punctuation symbols and emojis to adjust the score. For example, if a comment includes an exclamation mark (!) after a positive word, Vader will assign an even more positive score to that comment.\n",
    "\n",
    "Once Vader has assigned scores to all keywords in a comment, it sums the scores and assigns a final score to the comment. This final score can be used to determine whether the overall comment is positive, negative or neutral.\n",
    "\n"
   ]
  },
  {
   "cell_type": "code",
   "execution_count": null,
   "metadata": {
    "id": "Xs3EP1rx6EMx"
   },
   "outputs": [],
   "source": [
    "# Import the lexicon \n",
    "from nltk.sentiment.vader import SentimentIntensityAnalyzer\n"
   ]
  },
  {
   "cell_type": "code",
   "execution_count": null,
   "metadata": {
    "id": "ocaVC-K6eQuf"
   },
   "outputs": [],
   "source": [
    "# We define functions to apply to the dataframe.\n",
    "def varder_polarity(text):\n",
    "    return SentimentIntensityAnalyzer().polarity_scores(text)\n",
    "\n",
    "def varder_analysis(score):\n",
    "    if score['compound'] >= 0.05:\n",
    "        return 'Positive'\n",
    "    elif score['compound'] <= -0.5:\n",
    "        return 'Negative'\n",
    "    else:\n",
    "        return 'Neutral'\n",
    "data_rew['polarity'] = data_rew['text'].apply(varder_polarity)\n",
    "data_rew['classification'] = data_rew['polarity'].apply(varder_analysis)"
   ]
  },
  {
   "cell_type": "code",
   "execution_count": null,
   "metadata": {
    "id": "E5uH-Gv0hM3S"
   },
   "outputs": [],
   "source": [
    "vander_rev = pd.read_parquet(\"../data/restaurants/restaurants_reviews.parquet\",columns=['business_id','review_stars','useful','funny','cool','date','polarity','classification'])"
   ]
  },
  {
   "cell_type": "code",
   "execution_count": null,
   "metadata": {
    "id": "GRhrpMQckSZC"
   },
   "outputs": [],
   "source": [
    "# We generate a column for each result field of vaderplarity, as it returns a dictionary.\n",
    "vander_rev = pd.concat([vander_rev.drop(['polarity'], axis=1), vander_rev['polarity'].apply(pd.Series)], axis=1)"
   ]
  },
  {
   "cell_type": "code",
   "execution_count": null,
   "metadata": {
    "id": "4u2DU5-eoXAA"
   },
   "outputs": [],
   "source": [
    "# Saving to file\n",
    "vander_rev.to_parquet(\"../data/restaurants/restaurants_vander.parquet\",\n",
    "              compression = 'gzip')"
   ]
  },
  {
   "cell_type": "code",
   "execution_count": null,
   "metadata": {
    "id": "PzduwxjradVQ"
   },
   "outputs": [],
   "source": [
    "vander_rev = pd.read_parquet(\"../data/restaurants/restaurants_vander.parquet\")"
   ]
  },
  {
   "cell_type": "code",
   "execution_count": null,
   "metadata": {
    "colab": {
     "base_uri": "https://localhost:8080/",
     "height": 424
    },
    "id": "wusKBYiRRskH",
    "outputId": "3bbebd73-9a02-470b-b72b-3ecd51e72765"
   },
   "outputs": [
    {
     "data": {
      "text/html": [
       "\n",
       "  <div id=\"df-8d4114e5-8aca-4943-951f-0f3388f72a37\">\n",
       "    <div class=\"colab-df-container\">\n",
       "      <div>\n",
       "<style scoped>\n",
       "    .dataframe tbody tr th:only-of-type {\n",
       "        vertical-align: middle;\n",
       "    }\n",
       "\n",
       "    .dataframe tbody tr th {\n",
       "        vertical-align: top;\n",
       "    }\n",
       "\n",
       "    .dataframe thead th {\n",
       "        text-align: right;\n",
       "    }\n",
       "</style>\n",
       "<table border=\"1\" class=\"dataframe\">\n",
       "  <thead>\n",
       "    <tr style=\"text-align: right;\">\n",
       "      <th></th>\n",
       "      <th>business_id</th>\n",
       "      <th>review_stars</th>\n",
       "      <th>useful</th>\n",
       "      <th>funny</th>\n",
       "      <th>cool</th>\n",
       "      <th>date</th>\n",
       "      <th>classification</th>\n",
       "      <th>compound</th>\n",
       "      <th>neg</th>\n",
       "      <th>neu</th>\n",
       "      <th>pos</th>\n",
       "    </tr>\n",
       "  </thead>\n",
       "  <tbody>\n",
       "    <tr>\n",
       "      <th>0</th>\n",
       "      <td>MTSW4McQd7CbVtyjqoe9mw</td>\n",
       "      <td>4</td>\n",
       "      <td>0</td>\n",
       "      <td>0</td>\n",
       "      <td>1</td>\n",
       "      <td>2014-05-26 01:09:53</td>\n",
       "      <td>Positive</td>\n",
       "      <td>0.9390</td>\n",
       "      <td>0.043</td>\n",
       "      <td>0.723</td>\n",
       "      <td>0.234</td>\n",
       "    </tr>\n",
       "    <tr>\n",
       "      <th>1</th>\n",
       "      <td>MTSW4McQd7CbVtyjqoe9mw</td>\n",
       "      <td>4</td>\n",
       "      <td>3</td>\n",
       "      <td>1</td>\n",
       "      <td>2</td>\n",
       "      <td>2013-10-05 15:19:06</td>\n",
       "      <td>Positive</td>\n",
       "      <td>0.8905</td>\n",
       "      <td>0.000</td>\n",
       "      <td>0.903</td>\n",
       "      <td>0.097</td>\n",
       "    </tr>\n",
       "    <tr>\n",
       "      <th>2</th>\n",
       "      <td>MTSW4McQd7CbVtyjqoe9mw</td>\n",
       "      <td>5</td>\n",
       "      <td>0</td>\n",
       "      <td>0</td>\n",
       "      <td>0</td>\n",
       "      <td>2013-10-25 01:34:57</td>\n",
       "      <td>Positive</td>\n",
       "      <td>0.9770</td>\n",
       "      <td>0.000</td>\n",
       "      <td>0.539</td>\n",
       "      <td>0.461</td>\n",
       "    </tr>\n",
       "    <tr>\n",
       "      <th>3</th>\n",
       "      <td>MTSW4McQd7CbVtyjqoe9mw</td>\n",
       "      <td>5</td>\n",
       "      <td>5</td>\n",
       "      <td>0</td>\n",
       "      <td>5</td>\n",
       "      <td>2018-05-20 17:58:57</td>\n",
       "      <td>Positive</td>\n",
       "      <td>0.8828</td>\n",
       "      <td>0.000</td>\n",
       "      <td>0.709</td>\n",
       "      <td>0.291</td>\n",
       "    </tr>\n",
       "    <tr>\n",
       "      <th>4</th>\n",
       "      <td>MTSW4McQd7CbVtyjqoe9mw</td>\n",
       "      <td>4</td>\n",
       "      <td>2</td>\n",
       "      <td>1</td>\n",
       "      <td>1</td>\n",
       "      <td>2013-10-25 02:31:35</td>\n",
       "      <td>Negative</td>\n",
       "      <td>-0.7212</td>\n",
       "      <td>0.067</td>\n",
       "      <td>0.898</td>\n",
       "      <td>0.035</td>\n",
       "    </tr>\n",
       "    <tr>\n",
       "      <th>...</th>\n",
       "      <td>...</td>\n",
       "      <td>...</td>\n",
       "      <td>...</td>\n",
       "      <td>...</td>\n",
       "      <td>...</td>\n",
       "      <td>...</td>\n",
       "      <td>...</td>\n",
       "      <td>...</td>\n",
       "      <td>...</td>\n",
       "      <td>...</td>\n",
       "      <td>...</td>\n",
       "    </tr>\n",
       "    <tr>\n",
       "      <th>3762493</th>\n",
       "      <td>2O2K6SXPWv56amqxCECd4w</td>\n",
       "      <td>5</td>\n",
       "      <td>0</td>\n",
       "      <td>0</td>\n",
       "      <td>0</td>\n",
       "      <td>2019-07-14 14:25:35</td>\n",
       "      <td>Positive</td>\n",
       "      <td>0.9771</td>\n",
       "      <td>0.035</td>\n",
       "      <td>0.752</td>\n",
       "      <td>0.213</td>\n",
       "    </tr>\n",
       "    <tr>\n",
       "      <th>3762494</th>\n",
       "      <td>2O2K6SXPWv56amqxCECd4w</td>\n",
       "      <td>5</td>\n",
       "      <td>1</td>\n",
       "      <td>0</td>\n",
       "      <td>1</td>\n",
       "      <td>2021-06-25 23:22:26</td>\n",
       "      <td>Positive</td>\n",
       "      <td>0.7717</td>\n",
       "      <td>0.101</td>\n",
       "      <td>0.751</td>\n",
       "      <td>0.147</td>\n",
       "    </tr>\n",
       "    <tr>\n",
       "      <th>3762495</th>\n",
       "      <td>2O2K6SXPWv56amqxCECd4w</td>\n",
       "      <td>5</td>\n",
       "      <td>0</td>\n",
       "      <td>0</td>\n",
       "      <td>0</td>\n",
       "      <td>2016-12-09 21:38:05</td>\n",
       "      <td>Positive</td>\n",
       "      <td>0.8585</td>\n",
       "      <td>0.000</td>\n",
       "      <td>0.835</td>\n",
       "      <td>0.165</td>\n",
       "    </tr>\n",
       "    <tr>\n",
       "      <th>3762496</th>\n",
       "      <td>2O2K6SXPWv56amqxCECd4w</td>\n",
       "      <td>1</td>\n",
       "      <td>0</td>\n",
       "      <td>0</td>\n",
       "      <td>0</td>\n",
       "      <td>2020-02-19 22:59:06</td>\n",
       "      <td>Neutral</td>\n",
       "      <td>-0.4902</td>\n",
       "      <td>0.121</td>\n",
       "      <td>0.804</td>\n",
       "      <td>0.075</td>\n",
       "    </tr>\n",
       "    <tr>\n",
       "      <th>3762497</th>\n",
       "      <td>2O2K6SXPWv56amqxCECd4w</td>\n",
       "      <td>4</td>\n",
       "      <td>0</td>\n",
       "      <td>0</td>\n",
       "      <td>0</td>\n",
       "      <td>2021-06-07 02:55:04</td>\n",
       "      <td>Positive</td>\n",
       "      <td>0.9841</td>\n",
       "      <td>0.000</td>\n",
       "      <td>0.761</td>\n",
       "      <td>0.239</td>\n",
       "    </tr>\n",
       "  </tbody>\n",
       "</table>\n",
       "<p>3762498 rows × 11 columns</p>\n",
       "</div>\n",
       "      <button class=\"colab-df-convert\" onclick=\"convertToInteractive('df-8d4114e5-8aca-4943-951f-0f3388f72a37')\"\n",
       "              title=\"Convert this dataframe to an interactive table.\"\n",
       "              style=\"display:none;\">\n",
       "        \n",
       "  <svg xmlns=\"http://www.w3.org/2000/svg\" height=\"24px\"viewBox=\"0 0 24 24\"\n",
       "       width=\"24px\">\n",
       "    <path d=\"M0 0h24v24H0V0z\" fill=\"none\"/>\n",
       "    <path d=\"M18.56 5.44l.94 2.06.94-2.06 2.06-.94-2.06-.94-.94-2.06-.94 2.06-2.06.94zm-11 1L8.5 8.5l.94-2.06 2.06-.94-2.06-.94L8.5 2.5l-.94 2.06-2.06.94zm10 10l.94 2.06.94-2.06 2.06-.94-2.06-.94-.94-2.06-.94 2.06-2.06.94z\"/><path d=\"M17.41 7.96l-1.37-1.37c-.4-.4-.92-.59-1.43-.59-.52 0-1.04.2-1.43.59L10.3 9.45l-7.72 7.72c-.78.78-.78 2.05 0 2.83L4 21.41c.39.39.9.59 1.41.59.51 0 1.02-.2 1.41-.59l7.78-7.78 2.81-2.81c.8-.78.8-2.07 0-2.86zM5.41 20L4 18.59l7.72-7.72 1.47 1.35L5.41 20z\"/>\n",
       "  </svg>\n",
       "      </button>\n",
       "      \n",
       "  <style>\n",
       "    .colab-df-container {\n",
       "      display:flex;\n",
       "      flex-wrap:wrap;\n",
       "      gap: 12px;\n",
       "    }\n",
       "\n",
       "    .colab-df-convert {\n",
       "      background-color: #E8F0FE;\n",
       "      border: none;\n",
       "      border-radius: 50%;\n",
       "      cursor: pointer;\n",
       "      display: none;\n",
       "      fill: #1967D2;\n",
       "      height: 32px;\n",
       "      padding: 0 0 0 0;\n",
       "      width: 32px;\n",
       "    }\n",
       "\n",
       "    .colab-df-convert:hover {\n",
       "      background-color: #E2EBFA;\n",
       "      box-shadow: 0px 1px 2px rgba(60, 64, 67, 0.3), 0px 1px 3px 1px rgba(60, 64, 67, 0.15);\n",
       "      fill: #174EA6;\n",
       "    }\n",
       "\n",
       "    [theme=dark] .colab-df-convert {\n",
       "      background-color: #3B4455;\n",
       "      fill: #D2E3FC;\n",
       "    }\n",
       "\n",
       "    [theme=dark] .colab-df-convert:hover {\n",
       "      background-color: #434B5C;\n",
       "      box-shadow: 0px 1px 3px 1px rgba(0, 0, 0, 0.15);\n",
       "      filter: drop-shadow(0px 1px 2px rgba(0, 0, 0, 0.3));\n",
       "      fill: #FFFFFF;\n",
       "    }\n",
       "  </style>\n",
       "\n",
       "      <script>\n",
       "        const buttonEl =\n",
       "          document.querySelector('#df-8d4114e5-8aca-4943-951f-0f3388f72a37 button.colab-df-convert');\n",
       "        buttonEl.style.display =\n",
       "          google.colab.kernel.accessAllowed ? 'block' : 'none';\n",
       "\n",
       "        async function convertToInteractive(key) {\n",
       "          const element = document.querySelector('#df-8d4114e5-8aca-4943-951f-0f3388f72a37');\n",
       "          const dataTable =\n",
       "            await google.colab.kernel.invokeFunction('convertToInteractive',\n",
       "                                                     [key], {});\n",
       "          if (!dataTable) return;\n",
       "\n",
       "          const docLinkHtml = 'Like what you see? Visit the ' +\n",
       "            '<a target=\"_blank\" href=https://colab.research.google.com/notebooks/data_table.ipynb>data table notebook</a>'\n",
       "            + ' to learn more about interactive tables.';\n",
       "          element.innerHTML = '';\n",
       "          dataTable['output_type'] = 'display_data';\n",
       "          await google.colab.output.renderOutput(dataTable, element);\n",
       "          const docLink = document.createElement('div');\n",
       "          docLink.innerHTML = docLinkHtml;\n",
       "          element.appendChild(docLink);\n",
       "        }\n",
       "      </script>\n",
       "    </div>\n",
       "  </div>\n",
       "  "
      ],
      "text/plain": [
       "                    business_id  review_stars  useful  funny  cool  \\\n",
       "0        MTSW4McQd7CbVtyjqoe9mw             4       0      0     1   \n",
       "1        MTSW4McQd7CbVtyjqoe9mw             4       3      1     2   \n",
       "2        MTSW4McQd7CbVtyjqoe9mw             5       0      0     0   \n",
       "3        MTSW4McQd7CbVtyjqoe9mw             5       5      0     5   \n",
       "4        MTSW4McQd7CbVtyjqoe9mw             4       2      1     1   \n",
       "...                         ...           ...     ...    ...   ...   \n",
       "3762493  2O2K6SXPWv56amqxCECd4w             5       0      0     0   \n",
       "3762494  2O2K6SXPWv56amqxCECd4w             5       1      0     1   \n",
       "3762495  2O2K6SXPWv56amqxCECd4w             5       0      0     0   \n",
       "3762496  2O2K6SXPWv56amqxCECd4w             1       0      0     0   \n",
       "3762497  2O2K6SXPWv56amqxCECd4w             4       0      0     0   \n",
       "\n",
       "                        date classification  compound    neg    neu    pos  \n",
       "0        2014-05-26 01:09:53       Positive    0.9390  0.043  0.723  0.234  \n",
       "1        2013-10-05 15:19:06       Positive    0.8905  0.000  0.903  0.097  \n",
       "2        2013-10-25 01:34:57       Positive    0.9770  0.000  0.539  0.461  \n",
       "3        2018-05-20 17:58:57       Positive    0.8828  0.000  0.709  0.291  \n",
       "4        2013-10-25 02:31:35       Negative   -0.7212  0.067  0.898  0.035  \n",
       "...                      ...            ...       ...    ...    ...    ...  \n",
       "3762493  2019-07-14 14:25:35       Positive    0.9771  0.035  0.752  0.213  \n",
       "3762494  2021-06-25 23:22:26       Positive    0.7717  0.101  0.751  0.147  \n",
       "3762495  2016-12-09 21:38:05       Positive    0.8585  0.000  0.835  0.165  \n",
       "3762496  2020-02-19 22:59:06        Neutral   -0.4902  0.121  0.804  0.075  \n",
       "3762497  2021-06-07 02:55:04       Positive    0.9841  0.000  0.761  0.239  \n",
       "\n",
       "[3762498 rows x 11 columns]"
      ]
     },
     "execution_count": 18,
     "metadata": {},
     "output_type": "execute_result"
    }
   ],
   "source": [
    "vander_rev"
   ]
  },
  {
   "cell_type": "code",
   "execution_count": null,
   "metadata": {
    "id": "20YYThyJakQM"
   },
   "outputs": [],
   "source": [
    "# We transform the date column into date.\n",
    "vander_rev.date = pd.to_datetime(vander_rev.date)"
   ]
  },
  {
   "cell_type": "code",
   "execution_count": null,
   "metadata": {
    "id": "FlXWR9xChM7e"
   },
   "outputs": [],
   "source": [
    "# We generate our summary frame by business. Reviews after 31-12-2015, with review count, average star rating,\n",
    "# compound average (composite sentiment), and minimum and maximum date.\n",
    "vander_sum = vander_rev[vander_rev['date']> pd.Timestamp(2015,12,31)].groupby('business_id').agg({'review_stars':['count','mean'],'compound':'mean','date':['min','max']}).droplevel(0,axis=1)"
   ]
  },
  {
   "cell_type": "code",
   "execution_count": null,
   "metadata": {
    "colab": {
     "base_uri": "https://localhost:8080/"
    },
    "id": "bfYr5XxOabyV",
    "outputId": "2f5d4b89-1bf2-48f0-ee08-2daecbc6f81d"
   },
   "outputs": [
    {
     "data": {
      "text/plain": [
       "Index(['count', 'mean', 'mean', 'min', 'max'], dtype='object')"
      ]
     },
     "execution_count": 61,
     "metadata": {},
     "output_type": "execute_result"
    }
   ],
   "source": [
    "vander_sum.columns"
   ]
  },
  {
   "cell_type": "code",
   "execution_count": null,
   "metadata": {
    "id": "m--DXyzwpXr3"
   },
   "outputs": [],
   "source": [
    "# We name the columns\n",
    "vander_sum.columns = ['rev_counts','star_mean','vander_comp_mean','date_min','date_max']"
   ]
  },
  {
   "cell_type": "code",
   "execution_count": null,
   "metadata": {
    "colab": {
     "base_uri": "https://localhost:8080/"
    },
    "id": "B_iAny30hM_t",
    "outputId": "35670fa4-d916-4bec-907c-7bf3458487e7"
   },
   "outputs": [
    {
     "data": {
      "text/plain": [
       "72"
      ]
     },
     "execution_count": 21,
     "metadata": {},
     "output_type": "execute_result"
    }
   ],
   "source": [
    "# We erase memory frame and clean rubbish.\n",
    "del [[vander_rev]]\n",
    "gc.collect()"
   ]
  },
  {
   "cell_type": "markdown",
   "metadata": {
    "id": "llrMTuIKT3C4"
   },
   "source": [
    "## User tables.\n",
    "We keep only a table of unique restaurant review users, and keep it on disk. We filter the users file to keep only the restaurant users data."
   ]
  },
  {
   "cell_type": "code",
   "execution_count": null,
   "metadata": {
    "id": "vgodcbYgF3Aq"
   },
   "outputs": [],
   "source": [
    "# We keep the first revision user_id for each unique user\n",
    "review_user_rest=data_rew[['user_id']].drop_duplicates(keep='first')"
   ]
  },
  {
   "cell_type": "code",
   "execution_count": null,
   "metadata": {
    "id": "mNFXBc_yJVLf"
   },
   "outputs": [],
   "source": [
    "review_user_rest.to_parquet(\"../data/restaurants/restaurants_revisadores.parquet\",\n",
    "              compression='gzip')"
   ]
  },
  {
   "cell_type": "code",
   "execution_count": null,
   "metadata": {
    "colab": {
     "base_uri": "https://localhost:8080/"
    },
    "id": "zB7nmCiDGbbt",
    "outputId": "78c74852-3405-4775-d7ef-1d1593a445fb"
   },
   "outputs": [
    {
     "data": {
      "text/plain": [
       "8"
      ]
     },
     "execution_count": 19,
     "metadata": {},
     "output_type": "execute_result"
    }
   ],
   "source": [
    "# We free up memory.\n",
    "del [[data_rew,review_user_rest]]\n",
    "gc.collect()"
   ]
  },
  {
   "cell_type": "code",
   "execution_count": null,
   "metadata": {
    "id": "e1IL5fIYPbB_"
   },
   "outputs": [],
   "source": [
    "data_users = pd.read_parquet(r\"../data/restaurants/restaurants_revisadores.parquet\")"
   ]
  },
  {
   "cell_type": "code",
   "execution_count": null,
   "metadata": {
    "colab": {
     "base_uri": "https://localhost:8080/",
     "height": 424
    },
    "id": "NIjYJeA8numG",
    "outputId": "ca515757-925e-49de-8eec-4f2dce40aa18"
   },
   "outputs": [
    {
     "data": {
      "text/html": [
       "\n",
       "  <div id=\"df-f5d6d19e-8422-438d-9f37-3bab73839391\">\n",
       "    <div class=\"colab-df-container\">\n",
       "      <div>\n",
       "<style scoped>\n",
       "    .dataframe tbody tr th:only-of-type {\n",
       "        vertical-align: middle;\n",
       "    }\n",
       "\n",
       "    .dataframe tbody tr th {\n",
       "        vertical-align: top;\n",
       "    }\n",
       "\n",
       "    .dataframe thead th {\n",
       "        text-align: right;\n",
       "    }\n",
       "</style>\n",
       "<table border=\"1\" class=\"dataframe\">\n",
       "  <thead>\n",
       "    <tr style=\"text-align: right;\">\n",
       "      <th></th>\n",
       "      <th>user_id</th>\n",
       "    </tr>\n",
       "  </thead>\n",
       "  <tbody>\n",
       "    <tr>\n",
       "      <th>0</th>\n",
       "      <td>6_SpY41LIHZuIaiDs5FMKA</td>\n",
       "    </tr>\n",
       "    <tr>\n",
       "      <th>1</th>\n",
       "      <td>tCXElwhzekJEH6QJe3xs7Q</td>\n",
       "    </tr>\n",
       "    <tr>\n",
       "      <th>2</th>\n",
       "      <td>WqfKtI-aGMmvbA9pPUxNQQ</td>\n",
       "    </tr>\n",
       "    <tr>\n",
       "      <th>3</th>\n",
       "      <td>3-1va0IQfK-9tUMzfHWfTA</td>\n",
       "    </tr>\n",
       "    <tr>\n",
       "      <th>4</th>\n",
       "      <td>EouCKoDfzaVG0klEgdDvCQ</td>\n",
       "    </tr>\n",
       "    <tr>\n",
       "      <th>...</th>\n",
       "      <td>...</td>\n",
       "    </tr>\n",
       "    <tr>\n",
       "      <th>3762474</th>\n",
       "      <td>7Ka3Smzb7hlHi8gk0wByjw</td>\n",
       "    </tr>\n",
       "    <tr>\n",
       "      <th>3762481</th>\n",
       "      <td>B7TD5yTemGv50y4wM2EVNA</td>\n",
       "    </tr>\n",
       "    <tr>\n",
       "      <th>3762485</th>\n",
       "      <td>Bhv1MwgDREC5m9Tg2vFOMg</td>\n",
       "    </tr>\n",
       "    <tr>\n",
       "      <th>3762491</th>\n",
       "      <td>jlRf1i1xyeELscV-PG0SnQ</td>\n",
       "    </tr>\n",
       "    <tr>\n",
       "      <th>3762493</th>\n",
       "      <td>eWz12w7dzYlfrGnhTQ82Fg</td>\n",
       "    </tr>\n",
       "  </tbody>\n",
       "</table>\n",
       "<p>1275365 rows × 1 columns</p>\n",
       "</div>\n",
       "      <button class=\"colab-df-convert\" onclick=\"convertToInteractive('df-f5d6d19e-8422-438d-9f37-3bab73839391')\"\n",
       "              title=\"Convert this dataframe to an interactive table.\"\n",
       "              style=\"display:none;\">\n",
       "        \n",
       "  <svg xmlns=\"http://www.w3.org/2000/svg\" height=\"24px\"viewBox=\"0 0 24 24\"\n",
       "       width=\"24px\">\n",
       "    <path d=\"M0 0h24v24H0V0z\" fill=\"none\"/>\n",
       "    <path d=\"M18.56 5.44l.94 2.06.94-2.06 2.06-.94-2.06-.94-.94-2.06-.94 2.06-2.06.94zm-11 1L8.5 8.5l.94-2.06 2.06-.94-2.06-.94L8.5 2.5l-.94 2.06-2.06.94zm10 10l.94 2.06.94-2.06 2.06-.94-2.06-.94-.94-2.06-.94 2.06-2.06.94z\"/><path d=\"M17.41 7.96l-1.37-1.37c-.4-.4-.92-.59-1.43-.59-.52 0-1.04.2-1.43.59L10.3 9.45l-7.72 7.72c-.78.78-.78 2.05 0 2.83L4 21.41c.39.39.9.59 1.41.59.51 0 1.02-.2 1.41-.59l7.78-7.78 2.81-2.81c.8-.78.8-2.07 0-2.86zM5.41 20L4 18.59l7.72-7.72 1.47 1.35L5.41 20z\"/>\n",
       "  </svg>\n",
       "      </button>\n",
       "      \n",
       "  <style>\n",
       "    .colab-df-container {\n",
       "      display:flex;\n",
       "      flex-wrap:wrap;\n",
       "      gap: 12px;\n",
       "    }\n",
       "\n",
       "    .colab-df-convert {\n",
       "      background-color: #E8F0FE;\n",
       "      border: none;\n",
       "      border-radius: 50%;\n",
       "      cursor: pointer;\n",
       "      display: none;\n",
       "      fill: #1967D2;\n",
       "      height: 32px;\n",
       "      padding: 0 0 0 0;\n",
       "      width: 32px;\n",
       "    }\n",
       "\n",
       "    .colab-df-convert:hover {\n",
       "      background-color: #E2EBFA;\n",
       "      box-shadow: 0px 1px 2px rgba(60, 64, 67, 0.3), 0px 1px 3px 1px rgba(60, 64, 67, 0.15);\n",
       "      fill: #174EA6;\n",
       "    }\n",
       "\n",
       "    [theme=dark] .colab-df-convert {\n",
       "      background-color: #3B4455;\n",
       "      fill: #D2E3FC;\n",
       "    }\n",
       "\n",
       "    [theme=dark] .colab-df-convert:hover {\n",
       "      background-color: #434B5C;\n",
       "      box-shadow: 0px 1px 3px 1px rgba(0, 0, 0, 0.15);\n",
       "      filter: drop-shadow(0px 1px 2px rgba(0, 0, 0, 0.3));\n",
       "      fill: #FFFFFF;\n",
       "    }\n",
       "  </style>\n",
       "\n",
       "      <script>\n",
       "        const buttonEl =\n",
       "          document.querySelector('#df-f5d6d19e-8422-438d-9f37-3bab73839391 button.colab-df-convert');\n",
       "        buttonEl.style.display =\n",
       "          google.colab.kernel.accessAllowed ? 'block' : 'none';\n",
       "\n",
       "        async function convertToInteractive(key) {\n",
       "          const element = document.querySelector('#df-f5d6d19e-8422-438d-9f37-3bab73839391');\n",
       "          const dataTable =\n",
       "            await google.colab.kernel.invokeFunction('convertToInteractive',\n",
       "                                                     [key], {});\n",
       "          if (!dataTable) return;\n",
       "\n",
       "          const docLinkHtml = 'Like what you see? Visit the ' +\n",
       "            '<a target=\"_blank\" href=https://colab.research.google.com/notebooks/data_table.ipynb>data table notebook</a>'\n",
       "            + ' to learn more about interactive tables.';\n",
       "          element.innerHTML = '';\n",
       "          dataTable['output_type'] = 'display_data';\n",
       "          await google.colab.output.renderOutput(dataTable, element);\n",
       "          const docLink = document.createElement('div');\n",
       "          docLink.innerHTML = docLinkHtml;\n",
       "          element.appendChild(docLink);\n",
       "        }\n",
       "      </script>\n",
       "    </div>\n",
       "  </div>\n",
       "  "
      ],
      "text/plain": [
       "                        user_id\n",
       "0        6_SpY41LIHZuIaiDs5FMKA\n",
       "1        tCXElwhzekJEH6QJe3xs7Q\n",
       "2        WqfKtI-aGMmvbA9pPUxNQQ\n",
       "3        3-1va0IQfK-9tUMzfHWfTA\n",
       "4        EouCKoDfzaVG0klEgdDvCQ\n",
       "...                         ...\n",
       "3762474  7Ka3Smzb7hlHi8gk0wByjw\n",
       "3762481  B7TD5yTemGv50y4wM2EVNA\n",
       "3762485  Bhv1MwgDREC5m9Tg2vFOMg\n",
       "3762491  jlRf1i1xyeELscV-PG0SnQ\n",
       "3762493  eWz12w7dzYlfrGnhTQ82Fg\n",
       "\n",
       "[1275365 rows x 1 columns]"
      ]
     },
     "execution_count": 3,
     "metadata": {},
     "output_type": "execute_result"
    }
   ],
   "source": [
    "data_users"
   ]
  },
  {
   "cell_type": "code",
   "execution_count": null,
   "metadata": {
    "id": "F-yI7SqVPbE9"
   },
   "outputs": [],
   "source": [
    "\n",
    "users_json_path = r\"/../data/yelp_academic_dataset_user.json\"\n",
    "size = 100000\n",
    "users = pd.read_json(users_json_path, lines=True,\n",
    "chunksize = size)"
   ]
  },
  {
   "cell_type": "code",
   "execution_count": null,
   "metadata": {
    "colab": {
     "base_uri": "https://localhost:8080/"
    },
    "id": "gW58AeD0PbIQ",
    "outputId": "0f1f2e09-bcfa-440f-b465-f890dc03ee23"
   },
   "outputs": [
    {
     "name": "stdout",
     "output_type": "stream",
     "text": [
      "87569 out of 100,000 related users\n",
      "80483 out of 100,000 related users\n",
      "80205 out of 100,000 related users\n",
      "70739 out of 100,000 related users\n",
      "77581 out of 100,000 related users\n",
      "70214 out of 100,000 related users\n",
      "72381 out of 100,000 related users\n",
      "64293 out of 100,000 related users\n",
      "67575 out of 100,000 related users\n",
      "60269 out of 100,000 related users\n",
      "62814 out of 100,000 related users\n",
      "55872 out of 100,000 related users\n",
      "59825 out of 100,000 related users\n",
      "54236 out of 100,000 related users\n",
      "57955 out of 100,000 related users\n",
      "52509 out of 100,000 related users\n",
      "56836 out of 100,000 related users\n",
      "50599 out of 100,000 related users\n",
      "51765 out of 100,000 related users\n",
      "41639 out of 100,000 related users\n"
     ]
    }
   ],
   "source": [
    "\n",
    "# Vamos a generar una lista de chucks para despues fusionar.\n",
    "chunk_list = []\n",
    "chunk_split_list = []\n",
    "for chunk_users in users:\n",
    "   \n",
    "\n",
    "    # Inner fusion con la tabla restaurant_id para quedarnos solo con los usuarios de restaurantes \n",
    "    chunk_merged = pd.merge(data_users, chunk_users, on='user_id', how='inner')\n",
    "    \n",
    "    # Mostrar progreso.\n",
    "    print(f\"{chunk_merged.shape[0]} out of {size:,} related users\")\n",
    "    chunk_list.append(chunk_merged)\n",
    "    \n",
    "# Concatenamos todos los trozos en un dataframe.\n",
    "df = pd.concat(chunk_list, ignore_index=True, join='outer', axis=0)\n"
   ]
  },
  {
   "cell_type": "code",
   "execution_count": null,
   "metadata": {
    "colab": {
     "base_uri": "https://localhost:8080/"
    },
    "id": "h33rYEl4PbMF",
    "outputId": "2029e5e8-4272-400a-f5e3-c4d5a1642ea7"
   },
   "outputs": [
    {
     "data": {
      "text/plain": [
       "(1275359, 22)"
      ]
     },
     "execution_count": 5,
     "metadata": {},
     "output_type": "execute_result"
    }
   ],
   "source": [
    "df.shape"
   ]
  },
  {
   "cell_type": "code",
   "execution_count": null,
   "metadata": {
    "colab": {
     "base_uri": "https://localhost:8080/"
    },
    "id": "8gbKTGIrPbPK",
    "outputId": "04e18ce2-19b5-40ef-ddce-abcff7eb3bc4"
   },
   "outputs": [
    {
     "data": {
      "text/plain": [
       "Index(['user_id', 'name', 'review_count', 'yelping_since', 'useful', 'funny',\n",
       "       'cool', 'elite', 'friends', 'fans', 'average_stars', 'compliment_hot',\n",
       "       'compliment_more', 'compliment_profile', 'compliment_cute',\n",
       "       'compliment_list', 'compliment_note', 'compliment_plain',\n",
       "       'compliment_cool', 'compliment_funny', 'compliment_writer',\n",
       "       'compliment_photos'],\n",
       "      dtype='object')"
      ]
     },
     "execution_count": 6,
     "metadata": {},
     "output_type": "execute_result"
    }
   ],
   "source": [
    "df.columns"
   ]
  },
  {
   "cell_type": "code",
   "execution_count": null,
   "metadata": {
    "id": "a2H03WswPbSR"
   },
   "outputs": [],
   "source": [
    "df.to_parquet(r\"../data/restaurants/restaurants_users.parquet\",\n",
    "              compression='gzip')"
   ]
  },
  {
   "cell_type": "code",
   "execution_count": null,
   "metadata": {
    "colab": {
     "base_uri": "https://localhost:8080/"
    },
    "id": "-CCLYF7ku8Db",
    "outputId": "b0a141b8-1846-40dc-a676-338332db6bcb"
   },
   "outputs": [
    {
     "data": {
      "text/plain": [
       "65"
      ]
     },
     "execution_count": 28,
     "metadata": {},
     "output_type": "execute_result"
    }
   ],
   "source": [
    "del df\n",
    "gc.collect()"
   ]
  },
  {
   "cell_type": "markdown",
   "metadata": {
    "id": "o-JCJ4f7e176"
   },
   "source": [
    "##Tips and Check-in tables.\n",
    "\n",
    "We generate restaurant tables of Tips and Check-ins. We transform check-in table."
   ]
  },
  {
   "cell_type": "code",
   "execution_count": null,
   "metadata": {
    "id": "orZ-5pL9eTV2"
   },
   "outputs": [],
   "source": [
    "tips_json_path = r\"../data/yelp_academic_dataset_tip.json\"\n",
    "tips_bus = pd.read_json(tips_json_path, lines=True)"
   ]
  },
  {
   "cell_type": "code",
   "execution_count": null,
   "metadata": {
    "id": "54Oxvbb28AhQ"
   },
   "outputs": [],
   "source": [
    "id_bus = pd.read_parquet(r\"../data/restaurants/restaurants_id.parquet\")"
   ]
  },
  {
   "cell_type": "code",
   "execution_count": null,
   "metadata": {
    "id": "7EbupwL6e00h"
   },
   "outputs": [],
   "source": [
    "tips_restaurants = pd.merge(tips_bus, id_bus, on ='business_id', how = 'inner')"
   ]
  },
  {
   "cell_type": "code",
   "execution_count": null,
   "metadata": {
    "id": "M6qzVcV7xuT7"
   },
   "outputs": [],
   "source": [
    "data_users = pd.read_parquet(r\"../data/restaurants/restaurants_revisadores.parquet\")"
   ]
  },
  {
   "cell_type": "code",
   "execution_count": null,
   "metadata": {
    "id": "TVHUC7ctykVN"
   },
   "outputs": [],
   "source": [
    "tips_restaurants = pd.merge(tips_restaurants, data_users, on = 'user_id', how = 'inner')"
   ]
  },
  {
   "cell_type": "code",
   "execution_count": null,
   "metadata": {
    "id": "yGnDy0xxykcr"
   },
   "outputs": [],
   "source": [
    "tips_restaurants.to_parquet(\"../data/restaurants/restaurants_tips.parquet\",\n",
    "              compression ='gzip')"
   ]
  },
  {
   "cell_type": "code",
   "execution_count": null,
   "metadata": {
    "colab": {
     "base_uri": "https://localhost:8080/"
    },
    "id": "rMsow3f_ykgD",
    "outputId": "fcc3f311-75e2-489c-970b-4cf4b41e0e68"
   },
   "outputs": [
    {
     "data": {
      "text/plain": [
       "24"
      ]
     },
     "execution_count": 36,
     "metadata": {},
     "output_type": "execute_result"
    }
   ],
   "source": [
    "del tips_restaurants\n",
    "gc.collect()"
   ]
  },
  {
   "cell_type": "code",
   "execution_count": null,
   "metadata": {
    "id": "tuwCIOTMfBvc"
   },
   "outputs": [],
   "source": [
    "checkin_json_path = r\"/../data/yelp_academic_dataset_checkin.json\"\n",
    "checkin_bus = pd.read_json(checkin_json_path, lines=True)\n",
    "\n"
   ]
  },
  {
   "cell_type": "code",
   "execution_count": null,
   "metadata": {
    "id": "UNVFqkazz52h"
   },
   "outputs": [],
   "source": [
    "checkin_restaurants = pd.merge(checkin_bus, id_bus, on = 'business_id', how = 'inner')"
   ]
  },
  {
   "cell_type": "code",
   "execution_count": null,
   "metadata": {
    "id": "pWz_hofgGjKb"
   },
   "outputs": [],
   "source": [
    "checkin_restaurants['date_list'] = checkin_restaurants['date'].apply(lambda row: row.split(','))"
   ]
  },
  {
   "cell_type": "code",
   "execution_count": null,
   "metadata": {
    "id": "ylu5JHaT0ZVl"
   },
   "outputs": [],
   "source": [
    "checkin_restaurants['number_checkin'] = checkin_restaurants['date_list'].apply(lambda row: len(row))"
   ]
  },
  {
   "cell_type": "code",
   "execution_count": null,
   "metadata": {
    "id": "pez5oL6PLQMz"
   },
   "outputs": [],
   "source": [
    "checkin_restaurants = checkin_restaurants.drop(columns = ['date'])"
   ]
  },
  {
   "cell_type": "code",
   "execution_count": null,
   "metadata": {
    "id": "Wey5k0LF1k-D"
   },
   "outputs": [],
   "source": [
    "checkin_restaurants.to_parquet(\"../data/restaurants/restaurants_cehck_in.parquet\",\n",
    "              compression='gzip')"
   ]
  },
  {
   "cell_type": "code",
   "execution_count": null,
   "metadata": {
    "colab": {
     "base_uri": "https://localhost:8080/",
     "height": 424
    },
    "id": "Q7IylIpHB3xZ",
    "outputId": "bce52ab1-faa7-4277-aed3-22a083d0ee3e"
   },
   "outputs": [
    {
     "data": {
      "text/html": [
       "\n",
       "  <div id=\"df-5598d8a0-f0c1-40a8-90fc-641733bf2ba3\">\n",
       "    <div class=\"colab-df-container\">\n",
       "      <div>\n",
       "<style scoped>\n",
       "    .dataframe tbody tr th:only-of-type {\n",
       "        vertical-align: middle;\n",
       "    }\n",
       "\n",
       "    .dataframe tbody tr th {\n",
       "        vertical-align: top;\n",
       "    }\n",
       "\n",
       "    .dataframe thead th {\n",
       "        text-align: right;\n",
       "    }\n",
       "</style>\n",
       "<table border=\"1\" class=\"dataframe\">\n",
       "  <thead>\n",
       "    <tr style=\"text-align: right;\">\n",
       "      <th></th>\n",
       "      <th>business_id</th>\n",
       "      <th>date_list</th>\n",
       "      <th>number_checkin</th>\n",
       "    </tr>\n",
       "  </thead>\n",
       "  <tbody>\n",
       "    <tr>\n",
       "      <th>0</th>\n",
       "      <td>---kPU91CF4Lq2-WlRu9Lw</td>\n",
       "      <td>[2020-03-13 21:10:56,  2020-06-02 22:18:06,  2...</td>\n",
       "      <td>11</td>\n",
       "    </tr>\n",
       "    <tr>\n",
       "      <th>1</th>\n",
       "      <td>--0iUa4sNDFiZFrAdIWhZQ</td>\n",
       "      <td>[2010-09-13 21:43:09,  2011-05-04 23:08:15,  2...</td>\n",
       "      <td>10</td>\n",
       "    </tr>\n",
       "    <tr>\n",
       "      <th>2</th>\n",
       "      <td>--epgcb7xHGuJ-4PUeSLAw</td>\n",
       "      <td>[2010-10-01 16:31:41,  2010-12-16 19:13:47,  2...</td>\n",
       "      <td>118</td>\n",
       "    </tr>\n",
       "    <tr>\n",
       "      <th>3</th>\n",
       "      <td>--hF_3v1JmU9nlu4zfXJ8Q</td>\n",
       "      <td>[2021-09-15 16:08:07,  2021-09-30 17:10:48,  2...</td>\n",
       "      <td>7</td>\n",
       "    </tr>\n",
       "    <tr>\n",
       "      <th>4</th>\n",
       "      <td>--lqIzK-ZVTtgwiQM63XgQ</td>\n",
       "      <td>[2011-07-29 16:37:02,  2011-10-24 16:00:29,  2...</td>\n",
       "      <td>21</td>\n",
       "    </tr>\n",
       "    <tr>\n",
       "      <th>...</th>\n",
       "      <td>...</td>\n",
       "      <td>...</td>\n",
       "      <td>...</td>\n",
       "    </tr>\n",
       "    <tr>\n",
       "      <th>34474</th>\n",
       "      <td>zzbZtgPYZS8sTIWQH6DwEw</td>\n",
       "      <td>[2010-08-13 07:51:27,  2010-08-14 06:35:15,  2...</td>\n",
       "      <td>292</td>\n",
       "    </tr>\n",
       "    <tr>\n",
       "      <th>34475</th>\n",
       "      <td>zziDpuuJw-Km1J4BaGpBKA</td>\n",
       "      <td>[2011-04-23 16:56:26,  2012-12-18 19:49:13,  2...</td>\n",
       "      <td>20</td>\n",
       "    </tr>\n",
       "    <tr>\n",
       "      <th>34476</th>\n",
       "      <td>zzjFdJwXuxBOGe9JeY_EMw</td>\n",
       "      <td>[2015-01-14 19:21:48,  2015-06-26 17:16:54,  2...</td>\n",
       "      <td>27</td>\n",
       "    </tr>\n",
       "    <tr>\n",
       "      <th>34477</th>\n",
       "      <td>zznJox6-nmXlGYNWgTDwQQ</td>\n",
       "      <td>[2013-03-23 16:22:47,  2013-04-07 02:03:12,  2...</td>\n",
       "      <td>67</td>\n",
       "    </tr>\n",
       "    <tr>\n",
       "      <th>34478</th>\n",
       "      <td>zznZqH9CiAznbkV6fXyHWA</td>\n",
       "      <td>[2021-06-12 01:16:12]</td>\n",
       "      <td>1</td>\n",
       "    </tr>\n",
       "  </tbody>\n",
       "</table>\n",
       "<p>34479 rows × 3 columns</p>\n",
       "</div>\n",
       "      <button class=\"colab-df-convert\" onclick=\"convertToInteractive('df-5598d8a0-f0c1-40a8-90fc-641733bf2ba3')\"\n",
       "              title=\"Convert this dataframe to an interactive table.\"\n",
       "              style=\"display:none;\">\n",
       "        \n",
       "  <svg xmlns=\"http://www.w3.org/2000/svg\" height=\"24px\"viewBox=\"0 0 24 24\"\n",
       "       width=\"24px\">\n",
       "    <path d=\"M0 0h24v24H0V0z\" fill=\"none\"/>\n",
       "    <path d=\"M18.56 5.44l.94 2.06.94-2.06 2.06-.94-2.06-.94-.94-2.06-.94 2.06-2.06.94zm-11 1L8.5 8.5l.94-2.06 2.06-.94-2.06-.94L8.5 2.5l-.94 2.06-2.06.94zm10 10l.94 2.06.94-2.06 2.06-.94-2.06-.94-.94-2.06-.94 2.06-2.06.94z\"/><path d=\"M17.41 7.96l-1.37-1.37c-.4-.4-.92-.59-1.43-.59-.52 0-1.04.2-1.43.59L10.3 9.45l-7.72 7.72c-.78.78-.78 2.05 0 2.83L4 21.41c.39.39.9.59 1.41.59.51 0 1.02-.2 1.41-.59l7.78-7.78 2.81-2.81c.8-.78.8-2.07 0-2.86zM5.41 20L4 18.59l7.72-7.72 1.47 1.35L5.41 20z\"/>\n",
       "  </svg>\n",
       "      </button>\n",
       "      \n",
       "  <style>\n",
       "    .colab-df-container {\n",
       "      display:flex;\n",
       "      flex-wrap:wrap;\n",
       "      gap: 12px;\n",
       "    }\n",
       "\n",
       "    .colab-df-convert {\n",
       "      background-color: #E8F0FE;\n",
       "      border: none;\n",
       "      border-radius: 50%;\n",
       "      cursor: pointer;\n",
       "      display: none;\n",
       "      fill: #1967D2;\n",
       "      height: 32px;\n",
       "      padding: 0 0 0 0;\n",
       "      width: 32px;\n",
       "    }\n",
       "\n",
       "    .colab-df-convert:hover {\n",
       "      background-color: #E2EBFA;\n",
       "      box-shadow: 0px 1px 2px rgba(60, 64, 67, 0.3), 0px 1px 3px 1px rgba(60, 64, 67, 0.15);\n",
       "      fill: #174EA6;\n",
       "    }\n",
       "\n",
       "    [theme=dark] .colab-df-convert {\n",
       "      background-color: #3B4455;\n",
       "      fill: #D2E3FC;\n",
       "    }\n",
       "\n",
       "    [theme=dark] .colab-df-convert:hover {\n",
       "      background-color: #434B5C;\n",
       "      box-shadow: 0px 1px 3px 1px rgba(0, 0, 0, 0.15);\n",
       "      filter: drop-shadow(0px 1px 2px rgba(0, 0, 0, 0.3));\n",
       "      fill: #FFFFFF;\n",
       "    }\n",
       "  </style>\n",
       "\n",
       "      <script>\n",
       "        const buttonEl =\n",
       "          document.querySelector('#df-5598d8a0-f0c1-40a8-90fc-641733bf2ba3 button.colab-df-convert');\n",
       "        buttonEl.style.display =\n",
       "          google.colab.kernel.accessAllowed ? 'block' : 'none';\n",
       "\n",
       "        async function convertToInteractive(key) {\n",
       "          const element = document.querySelector('#df-5598d8a0-f0c1-40a8-90fc-641733bf2ba3');\n",
       "          const dataTable =\n",
       "            await google.colab.kernel.invokeFunction('convertToInteractive',\n",
       "                                                     [key], {});\n",
       "          if (!dataTable) return;\n",
       "\n",
       "          const docLinkHtml = 'Like what you see? Visit the ' +\n",
       "            '<a target=\"_blank\" href=https://colab.research.google.com/notebooks/data_table.ipynb>data table notebook</a>'\n",
       "            + ' to learn more about interactive tables.';\n",
       "          element.innerHTML = '';\n",
       "          dataTable['output_type'] = 'display_data';\n",
       "          await google.colab.output.renderOutput(dataTable, element);\n",
       "          const docLink = document.createElement('div');\n",
       "          docLink.innerHTML = docLinkHtml;\n",
       "          element.appendChild(docLink);\n",
       "        }\n",
       "      </script>\n",
       "    </div>\n",
       "  </div>\n",
       "  "
      ],
      "text/plain": [
       "                  business_id  \\\n",
       "0      ---kPU91CF4Lq2-WlRu9Lw   \n",
       "1      --0iUa4sNDFiZFrAdIWhZQ   \n",
       "2      --epgcb7xHGuJ-4PUeSLAw   \n",
       "3      --hF_3v1JmU9nlu4zfXJ8Q   \n",
       "4      --lqIzK-ZVTtgwiQM63XgQ   \n",
       "...                       ...   \n",
       "34474  zzbZtgPYZS8sTIWQH6DwEw   \n",
       "34475  zziDpuuJw-Km1J4BaGpBKA   \n",
       "34476  zzjFdJwXuxBOGe9JeY_EMw   \n",
       "34477  zznJox6-nmXlGYNWgTDwQQ   \n",
       "34478  zznZqH9CiAznbkV6fXyHWA   \n",
       "\n",
       "                                               date_list  number_checkin  \n",
       "0      [2020-03-13 21:10:56,  2020-06-02 22:18:06,  2...              11  \n",
       "1      [2010-09-13 21:43:09,  2011-05-04 23:08:15,  2...              10  \n",
       "2      [2010-10-01 16:31:41,  2010-12-16 19:13:47,  2...             118  \n",
       "3      [2021-09-15 16:08:07,  2021-09-30 17:10:48,  2...               7  \n",
       "4      [2011-07-29 16:37:02,  2011-10-24 16:00:29,  2...              21  \n",
       "...                                                  ...             ...  \n",
       "34474  [2010-08-13 07:51:27,  2010-08-14 06:35:15,  2...             292  \n",
       "34475  [2011-04-23 16:56:26,  2012-12-18 19:49:13,  2...              20  \n",
       "34476  [2015-01-14 19:21:48,  2015-06-26 17:16:54,  2...              27  \n",
       "34477  [2013-03-23 16:22:47,  2013-04-07 02:03:12,  2...              67  \n",
       "34478                              [2021-06-12 01:16:12]               1  \n",
       "\n",
       "[34479 rows x 3 columns]"
      ]
     },
     "execution_count": 52,
     "metadata": {},
     "output_type": "execute_result"
    }
   ],
   "source": [
    "checkin_restaurants"
   ]
  },
  {
   "cell_type": "code",
   "execution_count": null,
   "metadata": {
    "id": "zy9yYmHvLZ1g"
   },
   "outputs": [],
   "source": [
    "pd.DataFrame(checkin_restaurants['date_list'].to_list())"
   ]
  },
  {
   "cell_type": "code",
   "execution_count": null,
   "metadata": {
    "id": "tkmG5XnB8DfL"
   },
   "outputs": [],
   "source": [
    "resturants_id = pd.read_parquet(\"/../data/restaurants_id.parquet\")\n"
   ]
  },
  {
   "cell_type": "code",
   "execution_count": null,
   "metadata": {
    "id": "G5QBWjm7fSQr"
   },
   "outputs": [],
   "source": [
    "checkin_restaurants = pd.read_parquet(\"/../data/restaurants_cehck_in.parquet\")"
   ]
  },
  {
   "cell_type": "code",
   "execution_count": null,
   "metadata": {
    "colab": {
     "base_uri": "https://localhost:8080/"
    },
    "id": "O4SysIS2k-WX",
    "outputId": "b664ff49-f7d5-4f90-8d68-30238b3ef272"
   },
   "outputs": [
    {
     "data": {
      "text/plain": [
       "(34479, 3)"
      ]
     },
     "execution_count": 4,
     "metadata": {},
     "output_type": "execute_result"
    }
   ],
   "source": [
    "checkin_restaurants.shape"
   ]
  },
  {
   "cell_type": "code",
   "execution_count": null,
   "metadata": {
    "id": "JbyKmVn49uh0"
   },
   "outputs": [],
   "source": [
    "dates_list = []\n",
    "for i in range(0,34480, 800):\n",
    "# expand df.tags into its own dataframe\n",
    "  dates = checkin_restaurants['date_list'].iloc[i:i+800].apply(pd.Series)\n",
    "\n",
    "  # rename each variable is tags\n",
    "  dates = dates.rename(columns = lambda x : 'date_' + str(x))\n",
    "  dates=dates.iloc[:, 0:2001]\n",
    "  dates_list.append(dates)\n"
   ]
  },
  {
   "cell_type": "code",
   "execution_count": null,
   "metadata": {
    "id": "JSrrlZJT9pwp"
   },
   "outputs": [],
   "source": [
    "df = pd.concat(dates_list, ignore_index=True, join='outer', axis=0)"
   ]
  },
  {
   "cell_type": "code",
   "execution_count": null,
   "metadata": {
    "colab": {
     "base_uri": "https://localhost:8080/"
    },
    "id": "q_WskEispG_8",
    "outputId": "23759ca5-f014-4c20-fe8a-8cf1127f461c"
   },
   "outputs": [
    {
     "data": {
      "text/plain": [
       "(34479, 2001)"
      ]
     },
     "execution_count": 7,
     "metadata": {},
     "output_type": "execute_result"
    }
   ],
   "source": [
    "df.shape"
   ]
  },
  {
   "cell_type": "code",
   "execution_count": null,
   "metadata": {
    "colab": {
     "base_uri": "https://localhost:8080/",
     "height": 835
    },
    "id": "qzC98Bt3Ahn-",
    "outputId": "e6cbad1a-c21a-423c-eba5-2181acd8d492"
   },
   "outputs": [
    {
     "data": {
      "text/html": [
       "\n",
       "  <div id=\"df-7dc22cab-f8dc-414b-b634-8a24271d420c\">\n",
       "    <div class=\"colab-df-container\">\n",
       "      <div>\n",
       "<style scoped>\n",
       "    .dataframe tbody tr th:only-of-type {\n",
       "        vertical-align: middle;\n",
       "    }\n",
       "\n",
       "    .dataframe tbody tr th {\n",
       "        vertical-align: top;\n",
       "    }\n",
       "\n",
       "    .dataframe thead th {\n",
       "        text-align: right;\n",
       "    }\n",
       "</style>\n",
       "<table border=\"1\" class=\"dataframe\">\n",
       "  <thead>\n",
       "    <tr style=\"text-align: right;\">\n",
       "      <th></th>\n",
       "      <th>date_0</th>\n",
       "      <th>date_1</th>\n",
       "      <th>date_2</th>\n",
       "      <th>date_3</th>\n",
       "      <th>date_4</th>\n",
       "      <th>date_5</th>\n",
       "      <th>date_6</th>\n",
       "      <th>date_7</th>\n",
       "      <th>date_8</th>\n",
       "      <th>date_9</th>\n",
       "      <th>...</th>\n",
       "      <th>date_1991</th>\n",
       "      <th>date_1992</th>\n",
       "      <th>date_1993</th>\n",
       "      <th>date_1994</th>\n",
       "      <th>date_1995</th>\n",
       "      <th>date_1996</th>\n",
       "      <th>date_1997</th>\n",
       "      <th>date_1998</th>\n",
       "      <th>date_1999</th>\n",
       "      <th>date_2000</th>\n",
       "    </tr>\n",
       "  </thead>\n",
       "  <tbody>\n",
       "    <tr>\n",
       "      <th>0</th>\n",
       "      <td>2020-03-13 21:10:56</td>\n",
       "      <td>2020-06-02 22:18:06</td>\n",
       "      <td>2020-07-24 22:42:27</td>\n",
       "      <td>2020-10-24 21:36:13</td>\n",
       "      <td>2020-12-09 21:23:33</td>\n",
       "      <td>2021-01-20 17:34:57</td>\n",
       "      <td>2021-04-30 21:02:03</td>\n",
       "      <td>2021-05-25 21:16:54</td>\n",
       "      <td>2021-08-06 21:08:08</td>\n",
       "      <td>2021-10-02 15:15:42</td>\n",
       "      <td>...</td>\n",
       "      <td>NaN</td>\n",
       "      <td>NaN</td>\n",
       "      <td>NaN</td>\n",
       "      <td>NaN</td>\n",
       "      <td>NaN</td>\n",
       "      <td>NaN</td>\n",
       "      <td>NaN</td>\n",
       "      <td>NaN</td>\n",
       "      <td>NaN</td>\n",
       "      <td>NaN</td>\n",
       "    </tr>\n",
       "    <tr>\n",
       "      <th>1</th>\n",
       "      <td>2010-09-13 21:43:09</td>\n",
       "      <td>2011-05-04 23:08:15</td>\n",
       "      <td>2011-07-18 22:30:31</td>\n",
       "      <td>2012-09-07 20:28:50</td>\n",
       "      <td>2013-03-27 15:57:36</td>\n",
       "      <td>2013-08-13 00:31:34</td>\n",
       "      <td>2013-08-13 00:31:48</td>\n",
       "      <td>2013-09-23 17:39:38</td>\n",
       "      <td>2013-11-18 06:34:08</td>\n",
       "      <td>2014-04-12 23:04:47</td>\n",
       "      <td>...</td>\n",
       "      <td>NaN</td>\n",
       "      <td>NaN</td>\n",
       "      <td>NaN</td>\n",
       "      <td>NaN</td>\n",
       "      <td>NaN</td>\n",
       "      <td>NaN</td>\n",
       "      <td>NaN</td>\n",
       "      <td>NaN</td>\n",
       "      <td>NaN</td>\n",
       "      <td>NaN</td>\n",
       "    </tr>\n",
       "    <tr>\n",
       "      <th>2</th>\n",
       "      <td>2010-10-01 16:31:41</td>\n",
       "      <td>2010-12-16 19:13:47</td>\n",
       "      <td>2011-02-12 16:49:04</td>\n",
       "      <td>2011-09-17 13:28:47</td>\n",
       "      <td>2011-11-22 12:44:40</td>\n",
       "      <td>2011-12-21 14:54:56</td>\n",
       "      <td>2012-02-25 12:49:05</td>\n",
       "      <td>2012-03-05 15:08:24</td>\n",
       "      <td>2012-03-29 12:01:08</td>\n",
       "      <td>2012-06-03 13:58:14</td>\n",
       "      <td>...</td>\n",
       "      <td>NaN</td>\n",
       "      <td>NaN</td>\n",
       "      <td>NaN</td>\n",
       "      <td>NaN</td>\n",
       "      <td>NaN</td>\n",
       "      <td>NaN</td>\n",
       "      <td>NaN</td>\n",
       "      <td>NaN</td>\n",
       "      <td>NaN</td>\n",
       "      <td>NaN</td>\n",
       "    </tr>\n",
       "    <tr>\n",
       "      <th>3</th>\n",
       "      <td>2021-09-15 16:08:07</td>\n",
       "      <td>2021-09-30 17:10:48</td>\n",
       "      <td>2021-11-02 17:13:20</td>\n",
       "      <td>2021-11-02 17:14:41</td>\n",
       "      <td>2021-11-02 17:15:53</td>\n",
       "      <td>2021-12-08 18:21:10</td>\n",
       "      <td>2021-12-08 18:21:35</td>\n",
       "      <td>NaN</td>\n",
       "      <td>NaN</td>\n",
       "      <td>NaN</td>\n",
       "      <td>...</td>\n",
       "      <td>NaN</td>\n",
       "      <td>NaN</td>\n",
       "      <td>NaN</td>\n",
       "      <td>NaN</td>\n",
       "      <td>NaN</td>\n",
       "      <td>NaN</td>\n",
       "      <td>NaN</td>\n",
       "      <td>NaN</td>\n",
       "      <td>NaN</td>\n",
       "      <td>NaN</td>\n",
       "    </tr>\n",
       "    <tr>\n",
       "      <th>4</th>\n",
       "      <td>2011-07-29 16:37:02</td>\n",
       "      <td>2011-10-24 16:00:29</td>\n",
       "      <td>2012-10-27 19:17:50</td>\n",
       "      <td>2013-05-13 22:03:28</td>\n",
       "      <td>2013-05-14 21:25:02</td>\n",
       "      <td>2013-05-28 22:18:02</td>\n",
       "      <td>2014-12-08 17:31:29</td>\n",
       "      <td>2015-03-02 18:41:47</td>\n",
       "      <td>2016-01-15 17:49:03</td>\n",
       "      <td>2016-03-06 16:55:09</td>\n",
       "      <td>...</td>\n",
       "      <td>NaN</td>\n",
       "      <td>NaN</td>\n",
       "      <td>NaN</td>\n",
       "      <td>NaN</td>\n",
       "      <td>NaN</td>\n",
       "      <td>NaN</td>\n",
       "      <td>NaN</td>\n",
       "      <td>NaN</td>\n",
       "      <td>NaN</td>\n",
       "      <td>NaN</td>\n",
       "    </tr>\n",
       "    <tr>\n",
       "      <th>...</th>\n",
       "      <td>...</td>\n",
       "      <td>...</td>\n",
       "      <td>...</td>\n",
       "      <td>...</td>\n",
       "      <td>...</td>\n",
       "      <td>...</td>\n",
       "      <td>...</td>\n",
       "      <td>...</td>\n",
       "      <td>...</td>\n",
       "      <td>...</td>\n",
       "      <td>...</td>\n",
       "      <td>...</td>\n",
       "      <td>...</td>\n",
       "      <td>...</td>\n",
       "      <td>...</td>\n",
       "      <td>...</td>\n",
       "      <td>...</td>\n",
       "      <td>...</td>\n",
       "      <td>...</td>\n",
       "      <td>...</td>\n",
       "      <td>...</td>\n",
       "    </tr>\n",
       "    <tr>\n",
       "      <th>34474</th>\n",
       "      <td>2010-08-13 07:51:27</td>\n",
       "      <td>2010-08-14 06:35:15</td>\n",
       "      <td>2010-08-22 05:15:11</td>\n",
       "      <td>2010-08-28 04:06:27</td>\n",
       "      <td>2010-09-05 06:16:09</td>\n",
       "      <td>2010-09-05 06:21:27</td>\n",
       "      <td>2010-09-11 06:53:33</td>\n",
       "      <td>2010-10-24 09:28:38</td>\n",
       "      <td>2011-01-08 05:14:52</td>\n",
       "      <td>2011-01-16 07:45:52</td>\n",
       "      <td>...</td>\n",
       "      <td>NaN</td>\n",
       "      <td>NaN</td>\n",
       "      <td>NaN</td>\n",
       "      <td>NaN</td>\n",
       "      <td>NaN</td>\n",
       "      <td>NaN</td>\n",
       "      <td>NaN</td>\n",
       "      <td>NaN</td>\n",
       "      <td>NaN</td>\n",
       "      <td>NaN</td>\n",
       "    </tr>\n",
       "    <tr>\n",
       "      <th>34475</th>\n",
       "      <td>2011-04-23 16:56:26</td>\n",
       "      <td>2012-12-18 19:49:13</td>\n",
       "      <td>2015-04-21 20:21:25</td>\n",
       "      <td>2015-05-10 16:43:31</td>\n",
       "      <td>2015-05-10 16:49:51</td>\n",
       "      <td>2015-10-03 18:53:50</td>\n",
       "      <td>2016-05-19 15:33:38</td>\n",
       "      <td>2016-07-09 17:39:03</td>\n",
       "      <td>2016-09-18 03:06:22</td>\n",
       "      <td>2016-11-19 19:51:25</td>\n",
       "      <td>...</td>\n",
       "      <td>NaN</td>\n",
       "      <td>NaN</td>\n",
       "      <td>NaN</td>\n",
       "      <td>NaN</td>\n",
       "      <td>NaN</td>\n",
       "      <td>NaN</td>\n",
       "      <td>NaN</td>\n",
       "      <td>NaN</td>\n",
       "      <td>NaN</td>\n",
       "      <td>NaN</td>\n",
       "    </tr>\n",
       "    <tr>\n",
       "      <th>34476</th>\n",
       "      <td>2015-01-14 19:21:48</td>\n",
       "      <td>2015-06-26 17:16:54</td>\n",
       "      <td>2015-10-29 20:44:37</td>\n",
       "      <td>2016-03-27 00:34:33</td>\n",
       "      <td>2016-06-03 15:55:16</td>\n",
       "      <td>2016-06-16 19:02:35</td>\n",
       "      <td>2016-06-17 16:12:43</td>\n",
       "      <td>2016-06-18 23:04:22</td>\n",
       "      <td>2016-10-25 22:54:08</td>\n",
       "      <td>2017-02-14 20:41:16</td>\n",
       "      <td>...</td>\n",
       "      <td>NaN</td>\n",
       "      <td>NaN</td>\n",
       "      <td>NaN</td>\n",
       "      <td>NaN</td>\n",
       "      <td>NaN</td>\n",
       "      <td>NaN</td>\n",
       "      <td>NaN</td>\n",
       "      <td>NaN</td>\n",
       "      <td>NaN</td>\n",
       "      <td>NaN</td>\n",
       "    </tr>\n",
       "    <tr>\n",
       "      <th>34477</th>\n",
       "      <td>2013-03-23 16:22:47</td>\n",
       "      <td>2013-04-07 02:03:12</td>\n",
       "      <td>2013-07-06 12:36:22</td>\n",
       "      <td>2014-04-14 22:48:44</td>\n",
       "      <td>2014-05-18 17:40:00</td>\n",
       "      <td>2014-05-24 18:56:26</td>\n",
       "      <td>2014-06-29 19:02:38</td>\n",
       "      <td>2014-08-16 13:03:15</td>\n",
       "      <td>2014-08-17 21:45:37</td>\n",
       "      <td>2014-08-18 11:02:53</td>\n",
       "      <td>...</td>\n",
       "      <td>NaN</td>\n",
       "      <td>NaN</td>\n",
       "      <td>NaN</td>\n",
       "      <td>NaN</td>\n",
       "      <td>NaN</td>\n",
       "      <td>NaN</td>\n",
       "      <td>NaN</td>\n",
       "      <td>NaN</td>\n",
       "      <td>NaN</td>\n",
       "      <td>NaN</td>\n",
       "    </tr>\n",
       "    <tr>\n",
       "      <th>34478</th>\n",
       "      <td>2021-06-12 01:16:12</td>\n",
       "      <td>NaN</td>\n",
       "      <td>NaN</td>\n",
       "      <td>NaN</td>\n",
       "      <td>NaN</td>\n",
       "      <td>NaN</td>\n",
       "      <td>NaN</td>\n",
       "      <td>NaN</td>\n",
       "      <td>NaN</td>\n",
       "      <td>NaN</td>\n",
       "      <td>...</td>\n",
       "      <td>NaN</td>\n",
       "      <td>NaN</td>\n",
       "      <td>NaN</td>\n",
       "      <td>NaN</td>\n",
       "      <td>NaN</td>\n",
       "      <td>NaN</td>\n",
       "      <td>NaN</td>\n",
       "      <td>NaN</td>\n",
       "      <td>NaN</td>\n",
       "      <td>NaN</td>\n",
       "    </tr>\n",
       "  </tbody>\n",
       "</table>\n",
       "<p>34479 rows × 2001 columns</p>\n",
       "</div>\n",
       "      <button class=\"colab-df-convert\" onclick=\"convertToInteractive('df-7dc22cab-f8dc-414b-b634-8a24271d420c')\"\n",
       "              title=\"Convert this dataframe to an interactive table.\"\n",
       "              style=\"display:none;\">\n",
       "        \n",
       "  <svg xmlns=\"http://www.w3.org/2000/svg\" height=\"24px\"viewBox=\"0 0 24 24\"\n",
       "       width=\"24px\">\n",
       "    <path d=\"M0 0h24v24H0V0z\" fill=\"none\"/>\n",
       "    <path d=\"M18.56 5.44l.94 2.06.94-2.06 2.06-.94-2.06-.94-.94-2.06-.94 2.06-2.06.94zm-11 1L8.5 8.5l.94-2.06 2.06-.94-2.06-.94L8.5 2.5l-.94 2.06-2.06.94zm10 10l.94 2.06.94-2.06 2.06-.94-2.06-.94-.94-2.06-.94 2.06-2.06.94z\"/><path d=\"M17.41 7.96l-1.37-1.37c-.4-.4-.92-.59-1.43-.59-.52 0-1.04.2-1.43.59L10.3 9.45l-7.72 7.72c-.78.78-.78 2.05 0 2.83L4 21.41c.39.39.9.59 1.41.59.51 0 1.02-.2 1.41-.59l7.78-7.78 2.81-2.81c.8-.78.8-2.07 0-2.86zM5.41 20L4 18.59l7.72-7.72 1.47 1.35L5.41 20z\"/>\n",
       "  </svg>\n",
       "      </button>\n",
       "      \n",
       "  <style>\n",
       "    .colab-df-container {\n",
       "      display:flex;\n",
       "      flex-wrap:wrap;\n",
       "      gap: 12px;\n",
       "    }\n",
       "\n",
       "    .colab-df-convert {\n",
       "      background-color: #E8F0FE;\n",
       "      border: none;\n",
       "      border-radius: 50%;\n",
       "      cursor: pointer;\n",
       "      display: none;\n",
       "      fill: #1967D2;\n",
       "      height: 32px;\n",
       "      padding: 0 0 0 0;\n",
       "      width: 32px;\n",
       "    }\n",
       "\n",
       "    .colab-df-convert:hover {\n",
       "      background-color: #E2EBFA;\n",
       "      box-shadow: 0px 1px 2px rgba(60, 64, 67, 0.3), 0px 1px 3px 1px rgba(60, 64, 67, 0.15);\n",
       "      fill: #174EA6;\n",
       "    }\n",
       "\n",
       "    [theme=dark] .colab-df-convert {\n",
       "      background-color: #3B4455;\n",
       "      fill: #D2E3FC;\n",
       "    }\n",
       "\n",
       "    [theme=dark] .colab-df-convert:hover {\n",
       "      background-color: #434B5C;\n",
       "      box-shadow: 0px 1px 3px 1px rgba(0, 0, 0, 0.15);\n",
       "      filter: drop-shadow(0px 1px 2px rgba(0, 0, 0, 0.3));\n",
       "      fill: #FFFFFF;\n",
       "    }\n",
       "  </style>\n",
       "\n",
       "      <script>\n",
       "        const buttonEl =\n",
       "          document.querySelector('#df-7dc22cab-f8dc-414b-b634-8a24271d420c button.colab-df-convert');\n",
       "        buttonEl.style.display =\n",
       "          google.colab.kernel.accessAllowed ? 'block' : 'none';\n",
       "\n",
       "        async function convertToInteractive(key) {\n",
       "          const element = document.querySelector('#df-7dc22cab-f8dc-414b-b634-8a24271d420c');\n",
       "          const dataTable =\n",
       "            await google.colab.kernel.invokeFunction('convertToInteractive',\n",
       "                                                     [key], {});\n",
       "          if (!dataTable) return;\n",
       "\n",
       "          const docLinkHtml = 'Like what you see? Visit the ' +\n",
       "            '<a target=\"_blank\" href=https://colab.research.google.com/notebooks/data_table.ipynb>data table notebook</a>'\n",
       "            + ' to learn more about interactive tables.';\n",
       "          element.innerHTML = '';\n",
       "          dataTable['output_type'] = 'display_data';\n",
       "          await google.colab.output.renderOutput(dataTable, element);\n",
       "          const docLink = document.createElement('div');\n",
       "          docLink.innerHTML = docLinkHtml;\n",
       "          element.appendChild(docLink);\n",
       "        }\n",
       "      </script>\n",
       "    </div>\n",
       "  </div>\n",
       "  "
      ],
      "text/plain": [
       "                    date_0                date_1                date_2  \\\n",
       "0      2020-03-13 21:10:56   2020-06-02 22:18:06   2020-07-24 22:42:27   \n",
       "1      2010-09-13 21:43:09   2011-05-04 23:08:15   2011-07-18 22:30:31   \n",
       "2      2010-10-01 16:31:41   2010-12-16 19:13:47   2011-02-12 16:49:04   \n",
       "3      2021-09-15 16:08:07   2021-09-30 17:10:48   2021-11-02 17:13:20   \n",
       "4      2011-07-29 16:37:02   2011-10-24 16:00:29   2012-10-27 19:17:50   \n",
       "...                    ...                   ...                   ...   \n",
       "34474  2010-08-13 07:51:27   2010-08-14 06:35:15   2010-08-22 05:15:11   \n",
       "34475  2011-04-23 16:56:26   2012-12-18 19:49:13   2015-04-21 20:21:25   \n",
       "34476  2015-01-14 19:21:48   2015-06-26 17:16:54   2015-10-29 20:44:37   \n",
       "34477  2013-03-23 16:22:47   2013-04-07 02:03:12   2013-07-06 12:36:22   \n",
       "34478  2021-06-12 01:16:12                   NaN                   NaN   \n",
       "\n",
       "                     date_3                date_4                date_5  \\\n",
       "0       2020-10-24 21:36:13   2020-12-09 21:23:33   2021-01-20 17:34:57   \n",
       "1       2012-09-07 20:28:50   2013-03-27 15:57:36   2013-08-13 00:31:34   \n",
       "2       2011-09-17 13:28:47   2011-11-22 12:44:40   2011-12-21 14:54:56   \n",
       "3       2021-11-02 17:14:41   2021-11-02 17:15:53   2021-12-08 18:21:10   \n",
       "4       2013-05-13 22:03:28   2013-05-14 21:25:02   2013-05-28 22:18:02   \n",
       "...                     ...                   ...                   ...   \n",
       "34474   2010-08-28 04:06:27   2010-09-05 06:16:09   2010-09-05 06:21:27   \n",
       "34475   2015-05-10 16:43:31   2015-05-10 16:49:51   2015-10-03 18:53:50   \n",
       "34476   2016-03-27 00:34:33   2016-06-03 15:55:16   2016-06-16 19:02:35   \n",
       "34477   2014-04-14 22:48:44   2014-05-18 17:40:00   2014-05-24 18:56:26   \n",
       "34478                   NaN                   NaN                   NaN   \n",
       "\n",
       "                     date_6                date_7                date_8  \\\n",
       "0       2021-04-30 21:02:03   2021-05-25 21:16:54   2021-08-06 21:08:08   \n",
       "1       2013-08-13 00:31:48   2013-09-23 17:39:38   2013-11-18 06:34:08   \n",
       "2       2012-02-25 12:49:05   2012-03-05 15:08:24   2012-03-29 12:01:08   \n",
       "3       2021-12-08 18:21:35                   NaN                   NaN   \n",
       "4       2014-12-08 17:31:29   2015-03-02 18:41:47   2016-01-15 17:49:03   \n",
       "...                     ...                   ...                   ...   \n",
       "34474   2010-09-11 06:53:33   2010-10-24 09:28:38   2011-01-08 05:14:52   \n",
       "34475   2016-05-19 15:33:38   2016-07-09 17:39:03   2016-09-18 03:06:22   \n",
       "34476   2016-06-17 16:12:43   2016-06-18 23:04:22   2016-10-25 22:54:08   \n",
       "34477   2014-06-29 19:02:38   2014-08-16 13:03:15   2014-08-17 21:45:37   \n",
       "34478                   NaN                   NaN                   NaN   \n",
       "\n",
       "                     date_9  ... date_1991 date_1992 date_1993 date_1994  \\\n",
       "0       2021-10-02 15:15:42  ...       NaN       NaN       NaN       NaN   \n",
       "1       2014-04-12 23:04:47  ...       NaN       NaN       NaN       NaN   \n",
       "2       2012-06-03 13:58:14  ...       NaN       NaN       NaN       NaN   \n",
       "3                       NaN  ...       NaN       NaN       NaN       NaN   \n",
       "4       2016-03-06 16:55:09  ...       NaN       NaN       NaN       NaN   \n",
       "...                     ...  ...       ...       ...       ...       ...   \n",
       "34474   2011-01-16 07:45:52  ...       NaN       NaN       NaN       NaN   \n",
       "34475   2016-11-19 19:51:25  ...       NaN       NaN       NaN       NaN   \n",
       "34476   2017-02-14 20:41:16  ...       NaN       NaN       NaN       NaN   \n",
       "34477   2014-08-18 11:02:53  ...       NaN       NaN       NaN       NaN   \n",
       "34478                   NaN  ...       NaN       NaN       NaN       NaN   \n",
       "\n",
       "      date_1995 date_1996 date_1997 date_1998 date_1999 date_2000  \n",
       "0           NaN       NaN       NaN       NaN       NaN       NaN  \n",
       "1           NaN       NaN       NaN       NaN       NaN       NaN  \n",
       "2           NaN       NaN       NaN       NaN       NaN       NaN  \n",
       "3           NaN       NaN       NaN       NaN       NaN       NaN  \n",
       "4           NaN       NaN       NaN       NaN       NaN       NaN  \n",
       "...         ...       ...       ...       ...       ...       ...  \n",
       "34474       NaN       NaN       NaN       NaN       NaN       NaN  \n",
       "34475       NaN       NaN       NaN       NaN       NaN       NaN  \n",
       "34476       NaN       NaN       NaN       NaN       NaN       NaN  \n",
       "34477       NaN       NaN       NaN       NaN       NaN       NaN  \n",
       "34478       NaN       NaN       NaN       NaN       NaN       NaN  \n",
       "\n",
       "[34479 rows x 2001 columns]"
      ]
     },
     "execution_count": 8,
     "metadata": {},
     "output_type": "execute_result"
    }
   ],
   "source": [
    "df"
   ]
  },
  {
   "cell_type": "code",
   "execution_count": null,
   "metadata": {
    "id": "8W6RDPB6khET"
   },
   "outputs": [],
   "source": [
    "df.to_parquet(\"/../data/proyecto_dates_restaurants_cehck_in.parquet\",\n",
    "              compression='gzip')"
   ]
  },
  {
   "cell_type": "code",
   "execution_count": null,
   "metadata": {
    "colab": {
     "base_uri": "https://localhost:8080/"
    },
    "id": "33X84rzG8wy_",
    "outputId": "25bbb500-028e-45f9-f93c-07ec588186f2"
   },
   "outputs": [
    {
     "data": {
      "text/plain": [
       "34106"
      ]
     },
     "execution_count": 19,
     "metadata": {},
     "output_type": "execute_result"
    }
   ],
   "source": [
    "df['tag_2000'].isna().sum()"
   ]
  },
  {
   "cell_type": "code",
   "execution_count": null,
   "metadata": {
    "id": "-bXxKLVm-J_T"
   },
   "outputs": [],
   "source": [
    "cols_2_extract = df.columns[0:2000]\n",
    "\n",
    "df[cols_2_extract] = df[cols_2_extract].apply(lambda x : pd.to_datetime(x, errors = 'coerce'))"
   ]
  },
  {
   "cell_type": "code",
   "execution_count": null,
   "metadata": {
    "id": "iMDVzUu7-KCn"
   },
   "outputs": [],
   "source": [
    "df.to_parquet(\"/../data/proyecto_dates_restaurants_cehck_in.parquet\",\n",
    "              compression = 'gzip')"
   ]
  },
  {
   "cell_type": "code",
   "execution_count": null,
   "metadata": {
    "id": "eECDZYL81W9j"
   },
   "outputs": [],
   "source": [
    "check_in_dates = pd.read_parquet(\"../data/proyecto_dates_restaurants_cehck_in.parquet\")"
   ]
  },
  {
   "cell_type": "code",
   "execution_count": null,
   "metadata": {
    "id": "a-NCeEKz42mY"
   },
   "outputs": [],
   "source": [
    "check_in_dates = check_in_dates.fillna(pd.NaT)"
   ]
  },
  {
   "cell_type": "code",
   "execution_count": null,
   "metadata": {
    "id": "Za3K9TBm3l-Y"
   },
   "outputs": [],
   "source": [
    "check_in_dates.date_2000 = pd.to_datetime(check_in_dates.date_2000 , errors='coerce')"
   ]
  },
  {
   "cell_type": "code",
   "execution_count": null,
   "metadata": {
    "colab": {
     "base_uri": "https://localhost:8080/"
    },
    "id": "RlsqRbWW8Ws_",
    "outputId": "71d610b9-3631-4d10-ebbf-dd627d913498"
   },
   "outputs": [
    {
     "data": {
      "text/plain": [
       "date_0       datetime64[ns]\n",
       "date_1       datetime64[ns]\n",
       "date_2       datetime64[ns]\n",
       "date_3       datetime64[ns]\n",
       "date_4       datetime64[ns]\n",
       "                  ...      \n",
       "date_1996    datetime64[ns]\n",
       "date_1997    datetime64[ns]\n",
       "date_1998    datetime64[ns]\n",
       "date_1999    datetime64[ns]\n",
       "date_2000    datetime64[ns]\n",
       "Length: 2001, dtype: object"
      ]
     },
     "execution_count": 45,
     "metadata": {},
     "output_type": "execute_result"
    }
   ],
   "source": [
    "check_in_dates.dtypes"
   ]
  },
  {
   "cell_type": "code",
   "execution_count": null,
   "metadata": {
    "id": "CAZfPRZb2twT"
   },
   "outputs": [],
   "source": [
    "for row in check_in_dates.index:\n",
    "  try: \n",
    "    check_in_dates.iloc[row] = np.sort(check_in_dates.iloc[row].values,axis=1)\n",
    "  except:\n",
    "    pass\n"
   ]
  },
  {
   "cell_type": "code",
   "execution_count": null,
   "metadata": {
    "id": "Vaa8A83c1XAz"
   },
   "outputs": [],
   "source": [
    "checkin_restaurants = pd.concat([checkin_restaurants,check_in_dates],axis=1)"
   ]
  },
  {
   "cell_type": "code",
   "execution_count": null,
   "metadata": {
    "id": "DG9KaaKLHG8D"
   },
   "outputs": [],
   "source": [
    "checkin_restaurants = checkin_restaurants.drop(columns=['date_list'])"
   ]
  },
  {
   "cell_type": "code",
   "execution_count": null,
   "metadata": {
    "id": "do5Lm1IQ15gY"
   },
   "outputs": [],
   "source": [
    "df.to_parquet(\"../data/restautants_check_in_dates.parquet\",\n",
    "              compression='gzip')"
   ]
  },
  {
   "cell_type": "code",
   "execution_count": null,
   "metadata": {
    "colab": {
     "base_uri": "https://localhost:8080/",
     "height": 835
    },
    "id": "FqmM6z0oHC8x",
    "outputId": "7fd96689-bd4b-4788-8d18-bbb9a3e9a06e"
   },
   "outputs": [
    {
     "data": {
      "text/html": [
       "\n",
       "  <div id=\"df-abdf352d-36d6-4070-832c-80cec25d1689\">\n",
       "    <div class=\"colab-df-container\">\n",
       "      <div>\n",
       "<style scoped>\n",
       "    .dataframe tbody tr th:only-of-type {\n",
       "        vertical-align: middle;\n",
       "    }\n",
       "\n",
       "    .dataframe tbody tr th {\n",
       "        vertical-align: top;\n",
       "    }\n",
       "\n",
       "    .dataframe thead th {\n",
       "        text-align: right;\n",
       "    }\n",
       "</style>\n",
       "<table border=\"1\" class=\"dataframe\">\n",
       "  <thead>\n",
       "    <tr style=\"text-align: right;\">\n",
       "      <th></th>\n",
       "      <th>business_id</th>\n",
       "      <th>number_checkin</th>\n",
       "      <th>date_0</th>\n",
       "      <th>date_1</th>\n",
       "      <th>date_2</th>\n",
       "      <th>date_3</th>\n",
       "      <th>date_4</th>\n",
       "      <th>date_5</th>\n",
       "      <th>date_6</th>\n",
       "      <th>date_7</th>\n",
       "      <th>...</th>\n",
       "      <th>date_1991</th>\n",
       "      <th>date_1992</th>\n",
       "      <th>date_1993</th>\n",
       "      <th>date_1994</th>\n",
       "      <th>date_1995</th>\n",
       "      <th>date_1996</th>\n",
       "      <th>date_1997</th>\n",
       "      <th>date_1998</th>\n",
       "      <th>date_1999</th>\n",
       "      <th>date_2000</th>\n",
       "    </tr>\n",
       "  </thead>\n",
       "  <tbody>\n",
       "    <tr>\n",
       "      <th>0</th>\n",
       "      <td>---kPU91CF4Lq2-WlRu9Lw</td>\n",
       "      <td>11</td>\n",
       "      <td>2020-03-13 21:10:56</td>\n",
       "      <td>2020-06-02 22:18:06</td>\n",
       "      <td>2020-07-24 22:42:27</td>\n",
       "      <td>2020-10-24 21:36:13</td>\n",
       "      <td>2020-12-09 21:23:33</td>\n",
       "      <td>2021-01-20 17:34:57</td>\n",
       "      <td>2021-04-30 21:02:03</td>\n",
       "      <td>2021-05-25 21:16:54</td>\n",
       "      <td>...</td>\n",
       "      <td>NaT</td>\n",
       "      <td>NaT</td>\n",
       "      <td>NaT</td>\n",
       "      <td>NaT</td>\n",
       "      <td>NaT</td>\n",
       "      <td>NaT</td>\n",
       "      <td>NaT</td>\n",
       "      <td>NaT</td>\n",
       "      <td>NaT</td>\n",
       "      <td>NaT</td>\n",
       "    </tr>\n",
       "    <tr>\n",
       "      <th>1</th>\n",
       "      <td>--0iUa4sNDFiZFrAdIWhZQ</td>\n",
       "      <td>10</td>\n",
       "      <td>2010-09-13 21:43:09</td>\n",
       "      <td>2011-05-04 23:08:15</td>\n",
       "      <td>2011-07-18 22:30:31</td>\n",
       "      <td>2012-09-07 20:28:50</td>\n",
       "      <td>2013-03-27 15:57:36</td>\n",
       "      <td>2013-08-13 00:31:34</td>\n",
       "      <td>2013-08-13 00:31:48</td>\n",
       "      <td>2013-09-23 17:39:38</td>\n",
       "      <td>...</td>\n",
       "      <td>NaT</td>\n",
       "      <td>NaT</td>\n",
       "      <td>NaT</td>\n",
       "      <td>NaT</td>\n",
       "      <td>NaT</td>\n",
       "      <td>NaT</td>\n",
       "      <td>NaT</td>\n",
       "      <td>NaT</td>\n",
       "      <td>NaT</td>\n",
       "      <td>NaT</td>\n",
       "    </tr>\n",
       "    <tr>\n",
       "      <th>2</th>\n",
       "      <td>--epgcb7xHGuJ-4PUeSLAw</td>\n",
       "      <td>118</td>\n",
       "      <td>2010-10-01 16:31:41</td>\n",
       "      <td>2010-12-16 19:13:47</td>\n",
       "      <td>2011-02-12 16:49:04</td>\n",
       "      <td>2011-09-17 13:28:47</td>\n",
       "      <td>2011-11-22 12:44:40</td>\n",
       "      <td>2011-12-21 14:54:56</td>\n",
       "      <td>2012-02-25 12:49:05</td>\n",
       "      <td>2012-03-05 15:08:24</td>\n",
       "      <td>...</td>\n",
       "      <td>NaT</td>\n",
       "      <td>NaT</td>\n",
       "      <td>NaT</td>\n",
       "      <td>NaT</td>\n",
       "      <td>NaT</td>\n",
       "      <td>NaT</td>\n",
       "      <td>NaT</td>\n",
       "      <td>NaT</td>\n",
       "      <td>NaT</td>\n",
       "      <td>NaT</td>\n",
       "    </tr>\n",
       "    <tr>\n",
       "      <th>3</th>\n",
       "      <td>--hF_3v1JmU9nlu4zfXJ8Q</td>\n",
       "      <td>7</td>\n",
       "      <td>2021-09-15 16:08:07</td>\n",
       "      <td>2021-09-30 17:10:48</td>\n",
       "      <td>2021-11-02 17:13:20</td>\n",
       "      <td>2021-11-02 17:14:41</td>\n",
       "      <td>2021-11-02 17:15:53</td>\n",
       "      <td>2021-12-08 18:21:10</td>\n",
       "      <td>2021-12-08 18:21:35</td>\n",
       "      <td>NaT</td>\n",
       "      <td>...</td>\n",
       "      <td>NaT</td>\n",
       "      <td>NaT</td>\n",
       "      <td>NaT</td>\n",
       "      <td>NaT</td>\n",
       "      <td>NaT</td>\n",
       "      <td>NaT</td>\n",
       "      <td>NaT</td>\n",
       "      <td>NaT</td>\n",
       "      <td>NaT</td>\n",
       "      <td>NaT</td>\n",
       "    </tr>\n",
       "    <tr>\n",
       "      <th>4</th>\n",
       "      <td>--lqIzK-ZVTtgwiQM63XgQ</td>\n",
       "      <td>21</td>\n",
       "      <td>2011-07-29 16:37:02</td>\n",
       "      <td>2011-10-24 16:00:29</td>\n",
       "      <td>2012-10-27 19:17:50</td>\n",
       "      <td>2013-05-13 22:03:28</td>\n",
       "      <td>2013-05-14 21:25:02</td>\n",
       "      <td>2013-05-28 22:18:02</td>\n",
       "      <td>2014-12-08 17:31:29</td>\n",
       "      <td>2015-03-02 18:41:47</td>\n",
       "      <td>...</td>\n",
       "      <td>NaT</td>\n",
       "      <td>NaT</td>\n",
       "      <td>NaT</td>\n",
       "      <td>NaT</td>\n",
       "      <td>NaT</td>\n",
       "      <td>NaT</td>\n",
       "      <td>NaT</td>\n",
       "      <td>NaT</td>\n",
       "      <td>NaT</td>\n",
       "      <td>NaT</td>\n",
       "    </tr>\n",
       "    <tr>\n",
       "      <th>...</th>\n",
       "      <td>...</td>\n",
       "      <td>...</td>\n",
       "      <td>...</td>\n",
       "      <td>...</td>\n",
       "      <td>...</td>\n",
       "      <td>...</td>\n",
       "      <td>...</td>\n",
       "      <td>...</td>\n",
       "      <td>...</td>\n",
       "      <td>...</td>\n",
       "      <td>...</td>\n",
       "      <td>...</td>\n",
       "      <td>...</td>\n",
       "      <td>...</td>\n",
       "      <td>...</td>\n",
       "      <td>...</td>\n",
       "      <td>...</td>\n",
       "      <td>...</td>\n",
       "      <td>...</td>\n",
       "      <td>...</td>\n",
       "      <td>...</td>\n",
       "    </tr>\n",
       "    <tr>\n",
       "      <th>34474</th>\n",
       "      <td>zzbZtgPYZS8sTIWQH6DwEw</td>\n",
       "      <td>292</td>\n",
       "      <td>2010-08-13 07:51:27</td>\n",
       "      <td>2010-08-14 06:35:15</td>\n",
       "      <td>2010-08-22 05:15:11</td>\n",
       "      <td>2010-08-28 04:06:27</td>\n",
       "      <td>2010-09-05 06:16:09</td>\n",
       "      <td>2010-09-05 06:21:27</td>\n",
       "      <td>2010-09-11 06:53:33</td>\n",
       "      <td>2010-10-24 09:28:38</td>\n",
       "      <td>...</td>\n",
       "      <td>NaT</td>\n",
       "      <td>NaT</td>\n",
       "      <td>NaT</td>\n",
       "      <td>NaT</td>\n",
       "      <td>NaT</td>\n",
       "      <td>NaT</td>\n",
       "      <td>NaT</td>\n",
       "      <td>NaT</td>\n",
       "      <td>NaT</td>\n",
       "      <td>NaT</td>\n",
       "    </tr>\n",
       "    <tr>\n",
       "      <th>34475</th>\n",
       "      <td>zziDpuuJw-Km1J4BaGpBKA</td>\n",
       "      <td>20</td>\n",
       "      <td>2011-04-23 16:56:26</td>\n",
       "      <td>2012-12-18 19:49:13</td>\n",
       "      <td>2015-04-21 20:21:25</td>\n",
       "      <td>2015-05-10 16:43:31</td>\n",
       "      <td>2015-05-10 16:49:51</td>\n",
       "      <td>2015-10-03 18:53:50</td>\n",
       "      <td>2016-05-19 15:33:38</td>\n",
       "      <td>2016-07-09 17:39:03</td>\n",
       "      <td>...</td>\n",
       "      <td>NaT</td>\n",
       "      <td>NaT</td>\n",
       "      <td>NaT</td>\n",
       "      <td>NaT</td>\n",
       "      <td>NaT</td>\n",
       "      <td>NaT</td>\n",
       "      <td>NaT</td>\n",
       "      <td>NaT</td>\n",
       "      <td>NaT</td>\n",
       "      <td>NaT</td>\n",
       "    </tr>\n",
       "    <tr>\n",
       "      <th>34476</th>\n",
       "      <td>zzjFdJwXuxBOGe9JeY_EMw</td>\n",
       "      <td>27</td>\n",
       "      <td>2015-01-14 19:21:48</td>\n",
       "      <td>2015-06-26 17:16:54</td>\n",
       "      <td>2015-10-29 20:44:37</td>\n",
       "      <td>2016-03-27 00:34:33</td>\n",
       "      <td>2016-06-03 15:55:16</td>\n",
       "      <td>2016-06-16 19:02:35</td>\n",
       "      <td>2016-06-17 16:12:43</td>\n",
       "      <td>2016-06-18 23:04:22</td>\n",
       "      <td>...</td>\n",
       "      <td>NaT</td>\n",
       "      <td>NaT</td>\n",
       "      <td>NaT</td>\n",
       "      <td>NaT</td>\n",
       "      <td>NaT</td>\n",
       "      <td>NaT</td>\n",
       "      <td>NaT</td>\n",
       "      <td>NaT</td>\n",
       "      <td>NaT</td>\n",
       "      <td>NaT</td>\n",
       "    </tr>\n",
       "    <tr>\n",
       "      <th>34477</th>\n",
       "      <td>zznJox6-nmXlGYNWgTDwQQ</td>\n",
       "      <td>67</td>\n",
       "      <td>2013-03-23 16:22:47</td>\n",
       "      <td>2013-04-07 02:03:12</td>\n",
       "      <td>2013-07-06 12:36:22</td>\n",
       "      <td>2014-04-14 22:48:44</td>\n",
       "      <td>2014-05-18 17:40:00</td>\n",
       "      <td>2014-05-24 18:56:26</td>\n",
       "      <td>2014-06-29 19:02:38</td>\n",
       "      <td>2014-08-16 13:03:15</td>\n",
       "      <td>...</td>\n",
       "      <td>NaT</td>\n",
       "      <td>NaT</td>\n",
       "      <td>NaT</td>\n",
       "      <td>NaT</td>\n",
       "      <td>NaT</td>\n",
       "      <td>NaT</td>\n",
       "      <td>NaT</td>\n",
       "      <td>NaT</td>\n",
       "      <td>NaT</td>\n",
       "      <td>NaT</td>\n",
       "    </tr>\n",
       "    <tr>\n",
       "      <th>34478</th>\n",
       "      <td>zznZqH9CiAznbkV6fXyHWA</td>\n",
       "      <td>1</td>\n",
       "      <td>2021-06-12 01:16:12</td>\n",
       "      <td>NaT</td>\n",
       "      <td>NaT</td>\n",
       "      <td>NaT</td>\n",
       "      <td>NaT</td>\n",
       "      <td>NaT</td>\n",
       "      <td>NaT</td>\n",
       "      <td>NaT</td>\n",
       "      <td>...</td>\n",
       "      <td>NaT</td>\n",
       "      <td>NaT</td>\n",
       "      <td>NaT</td>\n",
       "      <td>NaT</td>\n",
       "      <td>NaT</td>\n",
       "      <td>NaT</td>\n",
       "      <td>NaT</td>\n",
       "      <td>NaT</td>\n",
       "      <td>NaT</td>\n",
       "      <td>NaT</td>\n",
       "    </tr>\n",
       "  </tbody>\n",
       "</table>\n",
       "<p>34479 rows × 2003 columns</p>\n",
       "</div>\n",
       "      <button class=\"colab-df-convert\" onclick=\"convertToInteractive('df-abdf352d-36d6-4070-832c-80cec25d1689')\"\n",
       "              title=\"Convert this dataframe to an interactive table.\"\n",
       "              style=\"display:none;\">\n",
       "        \n",
       "  <svg xmlns=\"http://www.w3.org/2000/svg\" height=\"24px\"viewBox=\"0 0 24 24\"\n",
       "       width=\"24px\">\n",
       "    <path d=\"M0 0h24v24H0V0z\" fill=\"none\"/>\n",
       "    <path d=\"M18.56 5.44l.94 2.06.94-2.06 2.06-.94-2.06-.94-.94-2.06-.94 2.06-2.06.94zm-11 1L8.5 8.5l.94-2.06 2.06-.94-2.06-.94L8.5 2.5l-.94 2.06-2.06.94zm10 10l.94 2.06.94-2.06 2.06-.94-2.06-.94-.94-2.06-.94 2.06-2.06.94z\"/><path d=\"M17.41 7.96l-1.37-1.37c-.4-.4-.92-.59-1.43-.59-.52 0-1.04.2-1.43.59L10.3 9.45l-7.72 7.72c-.78.78-.78 2.05 0 2.83L4 21.41c.39.39.9.59 1.41.59.51 0 1.02-.2 1.41-.59l7.78-7.78 2.81-2.81c.8-.78.8-2.07 0-2.86zM5.41 20L4 18.59l7.72-7.72 1.47 1.35L5.41 20z\"/>\n",
       "  </svg>\n",
       "      </button>\n",
       "      \n",
       "  <style>\n",
       "    .colab-df-container {\n",
       "      display:flex;\n",
       "      flex-wrap:wrap;\n",
       "      gap: 12px;\n",
       "    }\n",
       "\n",
       "    .colab-df-convert {\n",
       "      background-color: #E8F0FE;\n",
       "      border: none;\n",
       "      border-radius: 50%;\n",
       "      cursor: pointer;\n",
       "      display: none;\n",
       "      fill: #1967D2;\n",
       "      height: 32px;\n",
       "      padding: 0 0 0 0;\n",
       "      width: 32px;\n",
       "    }\n",
       "\n",
       "    .colab-df-convert:hover {\n",
       "      background-color: #E2EBFA;\n",
       "      box-shadow: 0px 1px 2px rgba(60, 64, 67, 0.3), 0px 1px 3px 1px rgba(60, 64, 67, 0.15);\n",
       "      fill: #174EA6;\n",
       "    }\n",
       "\n",
       "    [theme=dark] .colab-df-convert {\n",
       "      background-color: #3B4455;\n",
       "      fill: #D2E3FC;\n",
       "    }\n",
       "\n",
       "    [theme=dark] .colab-df-convert:hover {\n",
       "      background-color: #434B5C;\n",
       "      box-shadow: 0px 1px 3px 1px rgba(0, 0, 0, 0.15);\n",
       "      filter: drop-shadow(0px 1px 2px rgba(0, 0, 0, 0.3));\n",
       "      fill: #FFFFFF;\n",
       "    }\n",
       "  </style>\n",
       "\n",
       "      <script>\n",
       "        const buttonEl =\n",
       "          document.querySelector('#df-abdf352d-36d6-4070-832c-80cec25d1689 button.colab-df-convert');\n",
       "        buttonEl.style.display =\n",
       "          google.colab.kernel.accessAllowed ? 'block' : 'none';\n",
       "\n",
       "        async function convertToInteractive(key) {\n",
       "          const element = document.querySelector('#df-abdf352d-36d6-4070-832c-80cec25d1689');\n",
       "          const dataTable =\n",
       "            await google.colab.kernel.invokeFunction('convertToInteractive',\n",
       "                                                     [key], {});\n",
       "          if (!dataTable) return;\n",
       "\n",
       "          const docLinkHtml = 'Like what you see? Visit the ' +\n",
       "            '<a target=\"_blank\" href=https://colab.research.google.com/notebooks/data_table.ipynb>data table notebook</a>'\n",
       "            + ' to learn more about interactive tables.';\n",
       "          element.innerHTML = '';\n",
       "          dataTable['output_type'] = 'display_data';\n",
       "          await google.colab.output.renderOutput(dataTable, element);\n",
       "          const docLink = document.createElement('div');\n",
       "          docLink.innerHTML = docLinkHtml;\n",
       "          element.appendChild(docLink);\n",
       "        }\n",
       "      </script>\n",
       "    </div>\n",
       "  </div>\n",
       "  "
      ],
      "text/plain": [
       "                  business_id  number_checkin              date_0  \\\n",
       "0      ---kPU91CF4Lq2-WlRu9Lw              11 2020-03-13 21:10:56   \n",
       "1      --0iUa4sNDFiZFrAdIWhZQ              10 2010-09-13 21:43:09   \n",
       "2      --epgcb7xHGuJ-4PUeSLAw             118 2010-10-01 16:31:41   \n",
       "3      --hF_3v1JmU9nlu4zfXJ8Q               7 2021-09-15 16:08:07   \n",
       "4      --lqIzK-ZVTtgwiQM63XgQ              21 2011-07-29 16:37:02   \n",
       "...                       ...             ...                 ...   \n",
       "34474  zzbZtgPYZS8sTIWQH6DwEw             292 2010-08-13 07:51:27   \n",
       "34475  zziDpuuJw-Km1J4BaGpBKA              20 2011-04-23 16:56:26   \n",
       "34476  zzjFdJwXuxBOGe9JeY_EMw              27 2015-01-14 19:21:48   \n",
       "34477  zznJox6-nmXlGYNWgTDwQQ              67 2013-03-23 16:22:47   \n",
       "34478  zznZqH9CiAznbkV6fXyHWA               1 2021-06-12 01:16:12   \n",
       "\n",
       "                   date_1              date_2              date_3  \\\n",
       "0     2020-06-02 22:18:06 2020-07-24 22:42:27 2020-10-24 21:36:13   \n",
       "1     2011-05-04 23:08:15 2011-07-18 22:30:31 2012-09-07 20:28:50   \n",
       "2     2010-12-16 19:13:47 2011-02-12 16:49:04 2011-09-17 13:28:47   \n",
       "3     2021-09-30 17:10:48 2021-11-02 17:13:20 2021-11-02 17:14:41   \n",
       "4     2011-10-24 16:00:29 2012-10-27 19:17:50 2013-05-13 22:03:28   \n",
       "...                   ...                 ...                 ...   \n",
       "34474 2010-08-14 06:35:15 2010-08-22 05:15:11 2010-08-28 04:06:27   \n",
       "34475 2012-12-18 19:49:13 2015-04-21 20:21:25 2015-05-10 16:43:31   \n",
       "34476 2015-06-26 17:16:54 2015-10-29 20:44:37 2016-03-27 00:34:33   \n",
       "34477 2013-04-07 02:03:12 2013-07-06 12:36:22 2014-04-14 22:48:44   \n",
       "34478                 NaT                 NaT                 NaT   \n",
       "\n",
       "                   date_4              date_5              date_6  \\\n",
       "0     2020-12-09 21:23:33 2021-01-20 17:34:57 2021-04-30 21:02:03   \n",
       "1     2013-03-27 15:57:36 2013-08-13 00:31:34 2013-08-13 00:31:48   \n",
       "2     2011-11-22 12:44:40 2011-12-21 14:54:56 2012-02-25 12:49:05   \n",
       "3     2021-11-02 17:15:53 2021-12-08 18:21:10 2021-12-08 18:21:35   \n",
       "4     2013-05-14 21:25:02 2013-05-28 22:18:02 2014-12-08 17:31:29   \n",
       "...                   ...                 ...                 ...   \n",
       "34474 2010-09-05 06:16:09 2010-09-05 06:21:27 2010-09-11 06:53:33   \n",
       "34475 2015-05-10 16:49:51 2015-10-03 18:53:50 2016-05-19 15:33:38   \n",
       "34476 2016-06-03 15:55:16 2016-06-16 19:02:35 2016-06-17 16:12:43   \n",
       "34477 2014-05-18 17:40:00 2014-05-24 18:56:26 2014-06-29 19:02:38   \n",
       "34478                 NaT                 NaT                 NaT   \n",
       "\n",
       "                   date_7  ... date_1991 date_1992 date_1993 date_1994  \\\n",
       "0     2021-05-25 21:16:54  ...       NaT       NaT       NaT       NaT   \n",
       "1     2013-09-23 17:39:38  ...       NaT       NaT       NaT       NaT   \n",
       "2     2012-03-05 15:08:24  ...       NaT       NaT       NaT       NaT   \n",
       "3                     NaT  ...       NaT       NaT       NaT       NaT   \n",
       "4     2015-03-02 18:41:47  ...       NaT       NaT       NaT       NaT   \n",
       "...                   ...  ...       ...       ...       ...       ...   \n",
       "34474 2010-10-24 09:28:38  ...       NaT       NaT       NaT       NaT   \n",
       "34475 2016-07-09 17:39:03  ...       NaT       NaT       NaT       NaT   \n",
       "34476 2016-06-18 23:04:22  ...       NaT       NaT       NaT       NaT   \n",
       "34477 2014-08-16 13:03:15  ...       NaT       NaT       NaT       NaT   \n",
       "34478                 NaT  ...       NaT       NaT       NaT       NaT   \n",
       "\n",
       "      date_1995 date_1996 date_1997 date_1998 date_1999 date_2000  \n",
       "0           NaT       NaT       NaT       NaT       NaT       NaT  \n",
       "1           NaT       NaT       NaT       NaT       NaT       NaT  \n",
       "2           NaT       NaT       NaT       NaT       NaT       NaT  \n",
       "3           NaT       NaT       NaT       NaT       NaT       NaT  \n",
       "4           NaT       NaT       NaT       NaT       NaT       NaT  \n",
       "...         ...       ...       ...       ...       ...       ...  \n",
       "34474       NaT       NaT       NaT       NaT       NaT       NaT  \n",
       "34475       NaT       NaT       NaT       NaT       NaT       NaT  \n",
       "34476       NaT       NaT       NaT       NaT       NaT       NaT  \n",
       "34477       NaT       NaT       NaT       NaT       NaT       NaT  \n",
       "34478       NaT       NaT       NaT       NaT       NaT       NaT  \n",
       "\n",
       "[34479 rows x 2003 columns]"
      ]
     },
     "execution_count": 55,
     "metadata": {},
     "output_type": "execute_result"
    }
   ],
   "source": [
    "checkin_restaurants"
   ]
  }
 ],
 "metadata": {
  "colab": {
   "machine_shape": "hm",
   "provenance": []
  },
  "gpuClass": "standard",
  "kernelspec": {
   "display_name": "Python 3 (ipykernel)",
   "language": "python",
   "name": "python3"
  },
  "language_info": {
   "codemirror_mode": {
    "name": "ipython",
    "version": 3
   },
   "file_extension": ".py",
   "mimetype": "text/x-python",
   "name": "python",
   "nbconvert_exporter": "python",
   "pygments_lexer": "ipython3",
   "version": "3.8.12"
  }
 },
 "nbformat": 4,
 "nbformat_minor": 4
}
