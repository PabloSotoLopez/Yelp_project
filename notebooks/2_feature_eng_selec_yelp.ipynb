{
 "cells": [
  {
   "cell_type": "markdown",
   "metadata": {
    "id": "fkzr6Wz2fa09"
   },
   "source": [
    "# Feature engenering y selection.\n",
    "\n",
    "Based on the business table, the VADER sentiment analysis table, we will build our dataset to train models.\n",
    "We build an original feature, based on calculating the mean of the sum of the category codes, ordering those codes from highest to lowest frequency in the subset of restaurants. It reflects the specialisation with which restaurants present themselves to their customers, how they want to differentiate their offer. Thus, a restaurant with only restaurant as a category will have a value of 0 for this characteristic. In contrast to a restaurant with higher codes, such as Calabrian cuisine, it will go up to a maximum value of 600 for this characteristic.\n",
    "\n",
    "From the VADER table, coming from the reviews, we will take into account, the stars given by the last user who made a comment, the compound of the average VADER sentiment analysis of the comments since 2016, and the year of the first and the last comment. With the last review we want to include if there can be a contagion effect, with the data of the years, the age and interest of the reviewers for this business, and with the compound the feelings that they are transmitting in their comments in the last 5 years.\n",
    "\n",
    "We will stay with businesses that have a minimum of 5 comments since 2016, to have a minimum of reviews."
   ]
  },
  {
   "cell_type": "code",
   "execution_count": null,
   "metadata": {
    "id": "p6unQXKoXFxB"
   },
   "outputs": [],
   "source": [
    "import pandas as pd\n",
    "import numpy as np\n",
    "import json\n",
    "import os\n",
    "import re\n",
    "import matplotlib.pyplot as plt\n",
    "import seaborn as sns\n",
    "import gc\n",
    "\n",
    "\n",
    "from sklearn.ensemble import RandomForestClassifier\n",
    "from sklearn.feature_selection import SelectFromModel\n",
    "from sklearn.model_selection import train_test_split\n",
    "\n",
    "from sklearn.ensemble import RandomForestClassifier, GradientBoostingClassifier\n",
    "from sklearn import metrics\n",
    "from sklearn.metrics import plot_confusion_matrix, roc_curve, roc_auc_score\n",
    "from sklearn.linear_model import Lasso, LogisticRegression\n",
    "from sklearn.feature_selection import SelectFromModel, RFE\n",
    "from sklearn.preprocessing import StandardScaler\n",
    "from sklearn.tree import DecisionTreeClassifier\n",
    "import datetime"
   ]
  },
  {
   "cell_type": "code",
   "execution_count": null,
   "metadata": {
    "colab": {
     "base_uri": "https://localhost:8080/"
    },
    "executionInfo": {
     "elapsed": 4,
     "status": "ok",
     "timestamp": 1672940875127,
     "user": {
      "displayName": "Pablo Soto López",
      "userId": "08112082177697405353"
     },
     "user_tz": -60
    },
    "id": "XHtQ0zhAYj0B",
    "outputId": "d3502e4b-80fb-4abc-f0ff-c027f90e8581"
   },
   "outputs": [
    {
     "name": "stdout",
     "output_type": "stream",
     "text": [
      "Trabajando con 27.33 gigas de RAM.\n"
     ]
    }
   ],
   "source": [
    "from psutil import virtual_memory\n",
    "print(f'Trabajando con {round(virtual_memory().total / 1e9,2)} gigas de RAM.')"
   ]
  },
  {
   "cell_type": "code",
   "execution_count": null,
   "metadata": {
    "colab": {
     "base_uri": "https://localhost:8080/"
    },
    "executionInfo": {
     "elapsed": 3043,
     "status": "ok",
     "timestamp": 1672940885102,
     "user": {
      "displayName": "Pablo Soto López",
      "userId": "08112082177697405353"
     },
     "user_tz": -60
    },
    "id": "GkWL7UeuYj3G",
    "outputId": "36efda6d-91fe-4ed5-ee0c-d505e5d14c48"
   },
   "outputs": [
    {
     "name": "stdout",
     "output_type": "stream",
     "text": [
      "Drive already mounted at /content/drive; to attempt to forcibly remount, call drive.mount(\"/content/drive\", force_remount=True).\n"
     ]
    }
   ],
   "source": [
    "from google.colab import drive\n",
    "drive.mount('/content/drive')\n"
   ]
  },
  {
   "cell_type": "code",
   "execution_count": null,
   "metadata": {
    "id": "YHuPaD9c-Hj6"
   },
   "outputs": [],
   "source": [
    "os.chdir('/content/drive/MyDrive/yelp/notebooks')"
   ]
  },
  {
   "cell_type": "code",
   "execution_count": null,
   "metadata": {
    "id": "aaIPqYOCpHH-"
   },
   "outputs": [],
   "source": [
    "def top_correlation (df,metodo='pearson',limit_inf=0.8,limit_sup=1):\n",
    "    '''\n",
    "    Devuelve los pares de variables entre unos limites de asoc./correlación como frame,\n",
    "    junto con su coeficiente, ordenados de mayor a menor.\n",
    "       \n",
    "    Args:\n",
    "     param1: Datafram e a estudiar.\n",
    "     param2: Metodo de cálculo de la aociación.\n",
    "     param3: limite inferior del coef.\n",
    "     param4: limite superior del coef.\n",
    "     \n",
    "     \n",
    "     Returns:\n",
    "     Pandas dataframe \n",
    "    '''\n",
    "    \n",
    "    if metodo == 'pearson':\n",
    "      corr_matrix = df.corr(metodo)\n",
    "    \n",
    "    elif metodo == 'spearman':\n",
    "      candidatos = [col for col in df.columns if col in categorical_vars ]\n",
    "      for col in candidatos:\n",
    "        df[col] = pd.factorize(df[col])[0]\n",
    "      corr_matrix = df.apply(pd.to_numeric, errors = 'ignore').corr(metodo)\n",
    "    else:\n",
    "      print('Metodo no soportado')\n",
    "      return None\n",
    "\n",
    "    \n",
    "       \n",
    "    correlation = (corr_matrix.where(\n",
    "                np.triu(np.ones(corr_matrix.shape), k = 1).astype(np.bool_)).\n",
    "                stack().\n",
    "                sort_values(ascending = False))\n",
    "    \n",
    "    correlation = pd.DataFrame(correlation).reset_index()\n",
    "    correlation.columns = [\"Variable_1\", \"Variable_2\", \"Correlacion\"]\n",
    "    correlation = (correlation.reindex (correlation.Correlacion.abs().\n",
    "                     sort_values (ascending = False).index).\n",
    "                    reset_index().\n",
    "                    drop([\"index\"],axis = 1))\n",
    "    \n",
    "           \n",
    "    return correlation[correlation['Correlacion'].abs().  \\\n",
    "                       between(limit_inf,limit_sup,inclusive = 'right')]"
   ]
  },
  {
   "cell_type": "code",
   "execution_count": null,
   "metadata": {
    "id": "HIr5g_QWpM2B"
   },
   "outputs": [],
   "source": [
    "def get_corr_matrix(dataset = None, \n",
    "                    isnumeric = True, \n",
    "                    size_figure = [25,20],\n",
    "                    limit = 0):\n",
    "    '''\n",
    "    Genera gráficos representando toda la matriz de correlación.\n",
    "     Permite aplicar pearson a las variables númericas o spearman a todo el conjunto de variables.\n",
    "    \n",
    "    Args:\n",
    "    param1: Pandas Df de datos.\n",
    "    param2: Sí True, pearson, False Spearman.\n",
    "    param3: Tamaño de figura de salida.\n",
    "    param4: Limite inferior del coeficiente de correlación a mostrar.\n",
    "    \n",
    "             \n",
    "    Returns:\n",
    "    Sns heatmap.\n",
    "    \n",
    "    '''\n",
    "    if dataset is None:\n",
    "        print(u'\\nHace falta pasar argumentos a la función')\n",
    "        return 1\n",
    "    \n",
    "    if isnumeric:\n",
    "        metodo = 'pearson'\n",
    "    else:\n",
    "        metodo = 'spearman'\n",
    "        dataset = dataset.apply(pd.to_numeric, errors='ignore')\n",
    "        for col in categorical_vars:\n",
    "          dataset[col] = pd.factorize(dataset[col])[0]\n",
    "    sns.set(style = \"white\")\n",
    "    \n",
    "    # Computa la matriz de correlación.\n",
    "    corr = dataset.corr(method=metodo)\n",
    "    \n",
    "    # Para poder aplicar limite inferior.\n",
    "    corr = corr[abs(corr) >= limit].fillna(0)\n",
    "    \n",
    "    # autocorrelacion a cero, evita distracciones.\n",
    "    for i in range(corr.shape[0]):\n",
    "        corr.iloc[i, i] = 0\n",
    "    \n",
    "    # Genera mascara para dibujar solo el triangulo inferior en heatmap.\n",
    "    matrix = np.triu(corr)\n",
    "    \n",
    "\n",
    "    # Fija tamaño fuente en funcion del número de columans.\n",
    "    if len(corr)<40: \n",
    "        fontsize = 3 \n",
    "    else: \n",
    "        fontsize = 3;\n",
    "    \n",
    "    if metodo == 'pearson':\n",
    "        f, ax = plt.subplots(figsize=size_figure)\n",
    "        sns.heatmap(corr,\n",
    "                    center = 0,                    \n",
    "                    square = True,\n",
    "                    linewidths = .25,\n",
    "                    cmap = \"vlag\",\n",
    "                    annot = True, fmt = \".1%\", annot_kws = {\"fontsize\":8},\n",
    "                    mask = matrix, cbar = True,\n",
    "                    cbar_kws = {\"shrink\": .5}) \n",
    "    else:\n",
    "        f, ax = plt.subplots(figsize = size_figure)\n",
    "        sns.heatmap(corr,\n",
    "                    center = 0,\n",
    "                    square = True,\n",
    "                    cbar = True, \n",
    "                    cmap = \"vlag\",\n",
    "                    mask = matrix,\n",
    "                    annot = True, fmt = \".1%\", annot_kws = {\"fontsize\":8},\n",
    "                    cbar_kws = {\"shrink\": .5})\n",
    "        ticks = np.arange(corr.shape[0]) + 0.5\n",
    "        ax.set_xticks(ticks)\n",
    "        ax.set_xticklabels(corr.columns, rotation = 90, fontsize = 10)\n",
    "        ax.set_yticks(ticks)\n",
    "        ax.set_yticklabels(corr.index, rotation = 360, fontsize = 10)\n",
    "        ax.set_title('correlation matrix')\n",
    " \n",
    "    plt.tight_layout()\n",
    "    \n",
    "    \n",
    "    return None"
   ]
  },
  {
   "cell_type": "markdown",
   "metadata": {
    "id": "tLTRzHnegJuB"
   },
   "source": [
    "# We start from the table of restaurants.\n",
    "We do without the category_1 column, which is equal to zero in all cases.\n",
    "Let's add the average of the compound de VADER  \n"
   ]
  },
  {
   "cell_type": "code",
   "execution_count": null,
   "metadata": {
    "id": "zhkDnDFtYj6S"
   },
   "outputs": [],
   "source": [
    "restaurants = pd.read_parquet(r'../data/restaurants/restaurants_open_definitive.parquet')"
   ]
  },
  {
   "cell_type": "code",
   "execution_count": null,
   "metadata": {
    "id": "jD0ONj76Yj9D"
   },
   "outputs": [],
   "source": [
    "restaurants = restaurants.drop('category_1',axis=1)"
   ]
  },
  {
   "cell_type": "code",
   "execution_count": null,
   "metadata": {
    "id": "jKY9HJX4ebJ6"
   },
   "outputs": [],
   "source": [
    "vander_rev = pd.read_parquet(r'../data/restaurants/restaurants_vander.parquet')"
   ]
  },
  {
   "cell_type": "code",
   "execution_count": null,
   "metadata": {
    "id": "zZJ4_Qeii_Nc"
   },
   "outputs": [],
   "source": [
    "vander_rev.date  = pd.to_datetime(vander_rev.date)"
   ]
  },
  {
   "cell_type": "code",
   "execution_count": null,
   "metadata": {
    "id": "Pp_C-FFfYkAN"
   },
   "outputs": [],
   "source": [
    "# Generamos nuestro frame resumen por negocios. Revisiones posteriores a 31-12-2015, con cuenta de revisiones, media de estrellas,\n",
    "# media de compound ( sentimiento compuesto), y fecha minima y máxima-\n",
    "vander_sum=vander_rev[vander_rev['date']> pd.Timestamp(2015,12,31)].groupby('business_id').agg({'review_stars':'count','compound':'mean','date':['min','max']}).droplevel(0,axis=1)"
   ]
  },
  {
   "cell_type": "code",
   "execution_count": null,
   "metadata": {
    "id": "b4tUw_H1jQzT"
   },
   "outputs": [],
   "source": [
    "vander_sum.columns = ['rew_count_2016','vander_comp_mean','date_min','date_max']"
   ]
  },
  {
   "cell_type": "code",
   "execution_count": null,
   "metadata": {
    "id": "fJYe2i_KjKwj"
   },
   "outputs": [],
   "source": [
    "vander_sum['date_min']=vander_sum['date_min'].dt.year\n",
    "vander_sum['date_max']=vander_sum['date_max'].dt.year"
   ]
  },
  {
   "cell_type": "code",
   "execution_count": null,
   "metadata": {
    "colab": {
     "base_uri": "https://localhost:8080/"
    },
    "executionInfo": {
     "elapsed": 3,
     "status": "ok",
     "timestamp": 1672941642198,
     "user": {
      "displayName": "Pablo Soto López",
      "userId": "08112082177697405353"
     },
     "user_tz": -60
    },
    "id": "77Sao_9sl8ol",
    "outputId": "3939cc77-f411-4a57-c1f0-739803df9bc8"
   },
   "outputs": [
    {
     "data": {
      "text/plain": [
       "2021    0.574208\n",
       "2022    0.300849\n",
       "2020    0.070879\n",
       "2019    0.036846\n",
       "2018    0.010503\n",
       "2017    0.004104\n",
       "2016    0.002611\n",
       "Name: date_max, dtype: float64"
      ]
     },
     "execution_count": 48,
     "metadata": {},
     "output_type": "execute_result"
    }
   ],
   "source": [
    "vander_sum.date_max.value_counts(normalize=True)"
   ]
  },
  {
   "cell_type": "code",
   "execution_count": null,
   "metadata": {
    "colab": {
     "base_uri": "https://localhost:8080/"
    },
    "executionInfo": {
     "elapsed": 449,
     "status": "ok",
     "timestamp": 1672941649498,
     "user": {
      "displayName": "Pablo Soto López",
      "userId": "08112082177697405353"
     },
     "user_tz": -60
    },
    "id": "6haGLF5Ljqoj",
    "outputId": "a35a8a7b-8565-44ee-a0ec-4a7ea6adc554"
   },
   "outputs": [
    {
     "data": {
      "text/plain": [
       "rew_count_2016        int64\n",
       "vander_comp_mean    float64\n",
       "date_min              int64\n",
       "date_max              int64\n",
       "dtype: object"
      ]
     },
     "execution_count": 49,
     "metadata": {},
     "output_type": "execute_result"
    }
   ],
   "source": [
    "vander_sum.dtypes"
   ]
  },
  {
   "cell_type": "code",
   "execution_count": null,
   "metadata": {
    "id": "aSITe0AGevn9"
   },
   "outputs": [],
   "source": [
    "restaurants = pd.merge(restaurants,vander_sum , on='business_id')"
   ]
  },
  {
   "cell_type": "code",
   "execution_count": null,
   "metadata": {
    "id": "g-dewz9ZqvAt"
   },
   "outputs": [],
   "source": [
    "# Left restaurants with more than 5 reviews since 2015.\n",
    "restaurants = restaurants[restaurants.rew_count_2016>=5]"
   ]
  },
  {
   "cell_type": "code",
   "execution_count": null,
   "metadata": {
    "id": "VciHvYXSDHxz"
   },
   "outputs": [],
   "source": [
    "# Generate a frame with the geographic and key business data to build our frame for modelling at the end of the grid.\n",
    "selected_rest_data=restaurants[['metro_area','business_id','stars','name','address', 'city', 'state', 'postal_code', 'latitude', 'longitude']]"
   ]
  },
  {
   "cell_type": "code",
   "execution_count": null,
   "metadata": {
    "id": "KOD30Pm6hsiR"
   },
   "outputs": [],
   "source": [
    "# Delete review_count from the business table to give the same time scale to the number of reviews, since 2016.\n",
    "# maximum to the number of reviews, since 2016.\n",
    "\n",
    "restaurants=restaurants.drop('review_count',axis=1)"
   ]
  },
  {
   "cell_type": "markdown",
   "metadata": {
    "id": "jcE5IyCck6hh"
   },
   "source": [
    "## We generate a feature to measure the specialisation of restaurants in their presentation to the customer.\n",
    "\n",
    "By having the category codes sorted from lowest to highest, from most frequent to least frequent. It is easy for us to generate a summary of how specialised restaurants are presented to customers. So a restaurant that only puts restaurant or food as a category, will present a very low average of the category code values (0.5). As the restaurant presents itself as Amreican, this value will go up, but it will still be low because American or pizza is very common. On the other hand, if it uses infrequent terms in its categories, such as Calabrian, which occupies the 1310th place (it is the least frequent of the categories), this value will go up.\n",
    "\n",
    "As we will find out later, restaurants with a more general offer receive lower scores than specialised restaurants.\n"
   ]
  },
  {
   "cell_type": "code",
   "execution_count": null,
   "metadata": {
    "id": "QHBimpjkkgBy"
   },
   "outputs": [],
   "source": [
    "categories = ['category_2','category_3','category_4', 'category_5',\n",
    " 'category_6','category_7','category_8','category_9','category_10', 'category_11', 'category_12']\n",
    "\n",
    "# We need to change our value assigned to category not available to zero so as not to influence\n",
    "# the average\n",
    "for column in categories:\n",
    "  restaurants[column].replace(to_replace = 9999, value = 0, inplace=True)"
   ]
  },
  {
   "cell_type": "code",
   "execution_count": null,
   "metadata": {
    "id": "QuPNbUvzlT1x"
   },
   "outputs": [],
   "source": [
    "# Calculate the specialisation featue of the offer as the average of the values of the category codes.\n",
    "restaurants['cat_value_mean'] = restaurants[categories].mean(axis=1)"
   ]
  },
  {
   "cell_type": "code",
   "execution_count": null,
   "metadata": {
    "colab": {
     "base_uri": "https://localhost:8080/"
    },
    "executionInfo": {
     "elapsed": 3,
     "status": "ok",
     "timestamp": 1672941669375,
     "user": {
      "displayName": "Pablo Soto López",
      "userId": "08112082177697405353"
     },
     "user_tz": -60
    },
    "id": "7jyhukhPZbc1",
    "outputId": "5f9028d7-39e9-4d67-ddae-b5690d07decf"
   },
   "outputs": [
    {
     "data": {
      "text/plain": [
       "count    33509.000000\n",
       "mean        26.130000\n",
       "std         32.752890\n",
       "min          0.000000\n",
       "25%          4.909091\n",
       "50%         14.454545\n",
       "75%         32.636364\n",
       "max        605.727273\n",
       "Name: cat_value_mean, dtype: float64"
      ]
     },
     "execution_count": 56,
     "metadata": {},
     "output_type": "execute_result"
    }
   ],
   "source": [
    "restaurants['cat_value_mean'].describe()"
   ]
  },
  {
   "cell_type": "code",
   "execution_count": null,
   "metadata": {
    "colab": {
     "base_uri": "https://localhost:8080/",
     "height": 112
    },
    "executionInfo": {
     "elapsed": 412,
     "status": "ok",
     "timestamp": 1672941673572,
     "user": {
      "displayName": "Pablo Soto López",
      "userId": "08112082177697405353"
     },
     "user_tz": -60
    },
    "id": "XtbqgrFCnD33",
    "outputId": "0f0d099e-f6bd-4512-e2aa-4b13a189089d"
   },
   "outputs": [
    {
     "data": {
      "text/html": [
       "\n",
       "  <div id=\"df-5bae15ca-add5-4800-9448-fff88df89b35\">\n",
       "    <div class=\"colab-df-container\">\n",
       "      <div>\n",
       "<style scoped>\n",
       "    .dataframe tbody tr th:only-of-type {\n",
       "        vertical-align: middle;\n",
       "    }\n",
       "\n",
       "    .dataframe tbody tr th {\n",
       "        vertical-align: top;\n",
       "    }\n",
       "\n",
       "    .dataframe thead th {\n",
       "        text-align: right;\n",
       "    }\n",
       "</style>\n",
       "<table border=\"1\" class=\"dataframe\">\n",
       "  <thead>\n",
       "    <tr style=\"text-align: right;\">\n",
       "      <th></th>\n",
       "      <th>stars</th>\n",
       "      <th>cat_value_mean</th>\n",
       "    </tr>\n",
       "  </thead>\n",
       "  <tbody>\n",
       "    <tr>\n",
       "      <th>stars</th>\n",
       "      <td>1.000000</td>\n",
       "      <td>0.240044</td>\n",
       "    </tr>\n",
       "    <tr>\n",
       "      <th>cat_value_mean</th>\n",
       "      <td>0.240044</td>\n",
       "      <td>1.000000</td>\n",
       "    </tr>\n",
       "  </tbody>\n",
       "</table>\n",
       "</div>\n",
       "      <button class=\"colab-df-convert\" onclick=\"convertToInteractive('df-5bae15ca-add5-4800-9448-fff88df89b35')\"\n",
       "              title=\"Convert this dataframe to an interactive table.\"\n",
       "              style=\"display:none;\">\n",
       "        \n",
       "  <svg xmlns=\"http://www.w3.org/2000/svg\" height=\"24px\"viewBox=\"0 0 24 24\"\n",
       "       width=\"24px\">\n",
       "    <path d=\"M0 0h24v24H0V0z\" fill=\"none\"/>\n",
       "    <path d=\"M18.56 5.44l.94 2.06.94-2.06 2.06-.94-2.06-.94-.94-2.06-.94 2.06-2.06.94zm-11 1L8.5 8.5l.94-2.06 2.06-.94-2.06-.94L8.5 2.5l-.94 2.06-2.06.94zm10 10l.94 2.06.94-2.06 2.06-.94-2.06-.94-.94-2.06-.94 2.06-2.06.94z\"/><path d=\"M17.41 7.96l-1.37-1.37c-.4-.4-.92-.59-1.43-.59-.52 0-1.04.2-1.43.59L10.3 9.45l-7.72 7.72c-.78.78-.78 2.05 0 2.83L4 21.41c.39.39.9.59 1.41.59.51 0 1.02-.2 1.41-.59l7.78-7.78 2.81-2.81c.8-.78.8-2.07 0-2.86zM5.41 20L4 18.59l7.72-7.72 1.47 1.35L5.41 20z\"/>\n",
       "  </svg>\n",
       "      </button>\n",
       "      \n",
       "  <style>\n",
       "    .colab-df-container {\n",
       "      display:flex;\n",
       "      flex-wrap:wrap;\n",
       "      gap: 12px;\n",
       "    }\n",
       "\n",
       "    .colab-df-convert {\n",
       "      background-color: #E8F0FE;\n",
       "      border: none;\n",
       "      border-radius: 50%;\n",
       "      cursor: pointer;\n",
       "      display: none;\n",
       "      fill: #1967D2;\n",
       "      height: 32px;\n",
       "      padding: 0 0 0 0;\n",
       "      width: 32px;\n",
       "    }\n",
       "\n",
       "    .colab-df-convert:hover {\n",
       "      background-color: #E2EBFA;\n",
       "      box-shadow: 0px 1px 2px rgba(60, 64, 67, 0.3), 0px 1px 3px 1px rgba(60, 64, 67, 0.15);\n",
       "      fill: #174EA6;\n",
       "    }\n",
       "\n",
       "    [theme=dark] .colab-df-convert {\n",
       "      background-color: #3B4455;\n",
       "      fill: #D2E3FC;\n",
       "    }\n",
       "\n",
       "    [theme=dark] .colab-df-convert:hover {\n",
       "      background-color: #434B5C;\n",
       "      box-shadow: 0px 1px 3px 1px rgba(0, 0, 0, 0.15);\n",
       "      filter: drop-shadow(0px 1px 2px rgba(0, 0, 0, 0.3));\n",
       "      fill: #FFFFFF;\n",
       "    }\n",
       "  </style>\n",
       "\n",
       "      <script>\n",
       "        const buttonEl =\n",
       "          document.querySelector('#df-5bae15ca-add5-4800-9448-fff88df89b35 button.colab-df-convert');\n",
       "        buttonEl.style.display =\n",
       "          google.colab.kernel.accessAllowed ? 'block' : 'none';\n",
       "\n",
       "        async function convertToInteractive(key) {\n",
       "          const element = document.querySelector('#df-5bae15ca-add5-4800-9448-fff88df89b35');\n",
       "          const dataTable =\n",
       "            await google.colab.kernel.invokeFunction('convertToInteractive',\n",
       "                                                     [key], {});\n",
       "          if (!dataTable) return;\n",
       "\n",
       "          const docLinkHtml = 'Like what you see? Visit the ' +\n",
       "            '<a target=\"_blank\" href=https://colab.research.google.com/notebooks/data_table.ipynb>data table notebook</a>'\n",
       "            + ' to learn more about interactive tables.';\n",
       "          element.innerHTML = '';\n",
       "          dataTable['output_type'] = 'display_data';\n",
       "          await google.colab.output.renderOutput(dataTable, element);\n",
       "          const docLink = document.createElement('div');\n",
       "          docLink.innerHTML = docLinkHtml;\n",
       "          element.appendChild(docLink);\n",
       "        }\n",
       "      </script>\n",
       "    </div>\n",
       "  </div>\n",
       "  "
      ],
      "text/plain": [
       "                   stars  cat_value_mean\n",
       "stars           1.000000        0.240044\n",
       "cat_value_mean  0.240044        1.000000"
      ]
     },
     "execution_count": 57,
     "metadata": {},
     "output_type": "execute_result"
    }
   ],
   "source": [
    "restaurants[['stars','cat_value_mean']].corr()"
   ]
  },
  {
   "cell_type": "markdown",
   "metadata": {
    "id": "lrVc6zUCnvrt"
   },
   "source": [
    "## Timetable transformation.\n",
    "We transform the timetables, by opening hours on weekends and opening hours on working days to make it easier for the models to calculate. "
   ]
  },
  {
   "cell_type": "code",
   "execution_count": null,
   "metadata": {
    "id": "IIuQ8dORkO0o"
   },
   "outputs": [],
   "source": [
    "restaurants['weekend_hours'] = restaurants[['Saturday_work_hours','Saturday_work_hours']].sum(axis=1)"
   ]
  },
  {
   "cell_type": "code",
   "execution_count": null,
   "metadata": {
    "id": "gM-EvBh3rxwr"
   },
   "outputs": [],
   "source": [
    "restaurants['lab_day_hours'] = restaurants[['Friday_work_hours', 'Monday_work_hours', 'Thursday_work_hours', 'Tuesday_work_hours',\n",
    " 'Wednesday_work_hours']].sum(axis = 1)"
   ]
  },
  {
   "cell_type": "markdown",
   "metadata": {
    "id": "tw9hGjSkoExI"
   },
   "source": [
    "## We define columns to eliminate.\n",
    "First of all we want to make a generic model for the 11 metropolitan areas. So we dispense with them, with the business data, name, address, city, state, location. And the columns that we have summarised, and the stars after 2015 that come from VADER."
   ]
  },
  {
   "cell_type": "code",
   "execution_count": null,
   "metadata": {
    "id": "9HUt32y-Zsyk"
   },
   "outputs": [],
   "source": [
    "columns_to_drop = ['metro_area','business_id','name','address', 'city', 'state', 'postal_code', 'latitude', 'longitude', 'is_open','category_2','category_3','category_4','category_5',\n",
    " 'category_6', 'category_7', 'category_8', 'category_9', 'category_10', 'category_11', 'category_12','Friday_work_hours',\n",
    " 'Monday_work_hours', 'Saturday_work_hours', 'Sunday_work_hours', 'Thursday_work_hours', 'Tuesday_work_hours',\n",
    " 'Wednesday_work_hours']"
   ]
  },
  {
   "cell_type": "code",
   "execution_count": null,
   "metadata": {
    "id": "s-pzA640aO0a"
   },
   "outputs": [],
   "source": [
    "restaurants = restaurants.drop(columns_to_drop,axis = 1)"
   ]
  },
  {
   "cell_type": "code",
   "execution_count": null,
   "metadata": {
    "colab": {
     "base_uri": "https://localhost:8080/"
    },
    "executionInfo": {
     "elapsed": 388,
     "status": "ok",
     "timestamp": 1672941691259,
     "user": {
      "displayName": "Pablo Soto López",
      "userId": "08112082177697405353"
     },
     "user_tz": -60
    },
    "id": "ufOXR0QVaZBy",
    "outputId": "5a1fc644-fb77-49f2-c61e-fb394da9e639"
   },
   "outputs": [
    {
     "name": "stdout",
     "output_type": "stream",
     "text": [
      "<class 'pandas.core.frame.DataFrame'>\n",
      "Int64Index: 33509 entries, 0 to 34847\n",
      "Data columns (total 47 columns):\n",
      " #   Column                      Non-Null Count  Dtype  \n",
      "---  ------                      --------------  -----  \n",
      " 0   stars                       33509 non-null  float64\n",
      " 1   Alcohol                     33509 non-null  object \n",
      " 2   BikeParking                 33509 non-null  bool   \n",
      " 3   BusinessAcceptsBitcoin      33509 non-null  bool   \n",
      " 4   BusinessAcceptsCreditCards  33509 non-null  bool   \n",
      " 5   BusinessParking             33509 non-null  bool   \n",
      " 6   ByAppointmentOnly           33509 non-null  bool   \n",
      " 7   Caters                      33509 non-null  bool   \n",
      " 8   DogsAllowed                 33509 non-null  bool   \n",
      " 9   DriveThru                   33509 non-null  bool   \n",
      " 10  GoodForKids                 33509 non-null  bool   \n",
      " 11  HappyHour                   33509 non-null  bool   \n",
      " 12  HasTV                       33509 non-null  bool   \n",
      " 13  Music                       33509 non-null  bool   \n",
      " 14  NoiseLevel                  33509 non-null  object \n",
      " 15  OutdoorSeating              33509 non-null  bool   \n",
      " 16  RestaurantsAttire           33509 non-null  object \n",
      " 17  RestaurantsDelivery         33509 non-null  bool   \n",
      " 18  RestaurantsGoodForGroups    33509 non-null  bool   \n",
      " 19  RestaurantsPriceRange2      33509 non-null  int64  \n",
      " 20  RestaurantsReservations     33509 non-null  bool   \n",
      " 21  RestaurantsTableService     33509 non-null  bool   \n",
      " 22  RestaurantsTakeOut          33509 non-null  bool   \n",
      " 23  WheelchairAccessible        33509 non-null  bool   \n",
      " 24  WiFi                        33509 non-null  object \n",
      " 25  romantic                    33509 non-null  bool   \n",
      " 26  intimate                    33509 non-null  bool   \n",
      " 27  touristy                    33509 non-null  bool   \n",
      " 28  hipster                     33509 non-null  bool   \n",
      " 29  divey                       33509 non-null  bool   \n",
      " 30  classy                      33509 non-null  bool   \n",
      " 31  trendy                      33509 non-null  bool   \n",
      " 32  upscale                     33509 non-null  bool   \n",
      " 33  casual                      33509 non-null  bool   \n",
      " 34  dessert                     33509 non-null  bool   \n",
      " 35  latenight                   33509 non-null  bool   \n",
      " 36  lunch                       33509 non-null  bool   \n",
      " 37  dinner                      33509 non-null  bool   \n",
      " 38  brunch                      33509 non-null  bool   \n",
      " 39  breakfast                   33509 non-null  bool   \n",
      " 40  rew_count_2016              33509 non-null  int64  \n",
      " 41  vander_comp_mean            33509 non-null  float64\n",
      " 42  date_min                    33509 non-null  int64  \n",
      " 43  date_max                    33509 non-null  int64  \n",
      " 44  cat_value_mean              33509 non-null  float64\n",
      " 45  weekend_hours               33509 non-null  int64  \n",
      " 46  lab_day_hours               33509 non-null  int64  \n",
      "dtypes: bool(34), float64(3), int64(6), object(4)\n",
      "memory usage: 4.7+ MB\n"
     ]
    }
   ],
   "source": [
    "restaurants.info()"
   ]
  },
  {
   "cell_type": "code",
   "execution_count": null,
   "metadata": {
    "colab": {
     "base_uri": "https://localhost:8080/",
     "height": 175
    },
    "executionInfo": {
     "elapsed": 586,
     "status": "ok",
     "timestamp": 1672941703725,
     "user": {
      "displayName": "Pablo Soto López",
      "userId": "08112082177697405353"
     },
     "user_tz": -60
    },
    "id": "BncFLlYNakb0",
    "outputId": "26a1265a-c282-4bb3-f199-4ac519899907"
   },
   "outputs": [
    {
     "data": {
      "text/html": [
       "\n",
       "  <div id=\"df-155d3c72-88b8-434c-8298-6d66fa3f7536\">\n",
       "    <div class=\"colab-df-container\">\n",
       "      <div>\n",
       "<style scoped>\n",
       "    .dataframe tbody tr th:only-of-type {\n",
       "        vertical-align: middle;\n",
       "    }\n",
       "\n",
       "    .dataframe tbody tr th {\n",
       "        vertical-align: top;\n",
       "    }\n",
       "\n",
       "    .dataframe thead th {\n",
       "        text-align: right;\n",
       "    }\n",
       "</style>\n",
       "<table border=\"1\" class=\"dataframe\">\n",
       "  <thead>\n",
       "    <tr style=\"text-align: right;\">\n",
       "      <th></th>\n",
       "      <th>count</th>\n",
       "      <th>unique</th>\n",
       "      <th>top</th>\n",
       "      <th>freq</th>\n",
       "    </tr>\n",
       "  </thead>\n",
       "  <tbody>\n",
       "    <tr>\n",
       "      <th>Alcohol</th>\n",
       "      <td>33509</td>\n",
       "      <td>4</td>\n",
       "      <td>none</td>\n",
       "      <td>13177</td>\n",
       "    </tr>\n",
       "    <tr>\n",
       "      <th>NoiseLevel</th>\n",
       "      <td>33509</td>\n",
       "      <td>6</td>\n",
       "      <td>average</td>\n",
       "      <td>15869</td>\n",
       "    </tr>\n",
       "    <tr>\n",
       "      <th>RestaurantsAttire</th>\n",
       "      <td>33509</td>\n",
       "      <td>5</td>\n",
       "      <td>casual</td>\n",
       "      <td>23025</td>\n",
       "    </tr>\n",
       "    <tr>\n",
       "      <th>WiFi</th>\n",
       "      <td>33509</td>\n",
       "      <td>4</td>\n",
       "      <td>free</td>\n",
       "      <td>13879</td>\n",
       "    </tr>\n",
       "  </tbody>\n",
       "</table>\n",
       "</div>\n",
       "      <button class=\"colab-df-convert\" onclick=\"convertToInteractive('df-155d3c72-88b8-434c-8298-6d66fa3f7536')\"\n",
       "              title=\"Convert this dataframe to an interactive table.\"\n",
       "              style=\"display:none;\">\n",
       "        \n",
       "  <svg xmlns=\"http://www.w3.org/2000/svg\" height=\"24px\"viewBox=\"0 0 24 24\"\n",
       "       width=\"24px\">\n",
       "    <path d=\"M0 0h24v24H0V0z\" fill=\"none\"/>\n",
       "    <path d=\"M18.56 5.44l.94 2.06.94-2.06 2.06-.94-2.06-.94-.94-2.06-.94 2.06-2.06.94zm-11 1L8.5 8.5l.94-2.06 2.06-.94-2.06-.94L8.5 2.5l-.94 2.06-2.06.94zm10 10l.94 2.06.94-2.06 2.06-.94-2.06-.94-.94-2.06-.94 2.06-2.06.94z\"/><path d=\"M17.41 7.96l-1.37-1.37c-.4-.4-.92-.59-1.43-.59-.52 0-1.04.2-1.43.59L10.3 9.45l-7.72 7.72c-.78.78-.78 2.05 0 2.83L4 21.41c.39.39.9.59 1.41.59.51 0 1.02-.2 1.41-.59l7.78-7.78 2.81-2.81c.8-.78.8-2.07 0-2.86zM5.41 20L4 18.59l7.72-7.72 1.47 1.35L5.41 20z\"/>\n",
       "  </svg>\n",
       "      </button>\n",
       "      \n",
       "  <style>\n",
       "    .colab-df-container {\n",
       "      display:flex;\n",
       "      flex-wrap:wrap;\n",
       "      gap: 12px;\n",
       "    }\n",
       "\n",
       "    .colab-df-convert {\n",
       "      background-color: #E8F0FE;\n",
       "      border: none;\n",
       "      border-radius: 50%;\n",
       "      cursor: pointer;\n",
       "      display: none;\n",
       "      fill: #1967D2;\n",
       "      height: 32px;\n",
       "      padding: 0 0 0 0;\n",
       "      width: 32px;\n",
       "    }\n",
       "\n",
       "    .colab-df-convert:hover {\n",
       "      background-color: #E2EBFA;\n",
       "      box-shadow: 0px 1px 2px rgba(60, 64, 67, 0.3), 0px 1px 3px 1px rgba(60, 64, 67, 0.15);\n",
       "      fill: #174EA6;\n",
       "    }\n",
       "\n",
       "    [theme=dark] .colab-df-convert {\n",
       "      background-color: #3B4455;\n",
       "      fill: #D2E3FC;\n",
       "    }\n",
       "\n",
       "    [theme=dark] .colab-df-convert:hover {\n",
       "      background-color: #434B5C;\n",
       "      box-shadow: 0px 1px 3px 1px rgba(0, 0, 0, 0.15);\n",
       "      filter: drop-shadow(0px 1px 2px rgba(0, 0, 0, 0.3));\n",
       "      fill: #FFFFFF;\n",
       "    }\n",
       "  </style>\n",
       "\n",
       "      <script>\n",
       "        const buttonEl =\n",
       "          document.querySelector('#df-155d3c72-88b8-434c-8298-6d66fa3f7536 button.colab-df-convert');\n",
       "        buttonEl.style.display =\n",
       "          google.colab.kernel.accessAllowed ? 'block' : 'none';\n",
       "\n",
       "        async function convertToInteractive(key) {\n",
       "          const element = document.querySelector('#df-155d3c72-88b8-434c-8298-6d66fa3f7536');\n",
       "          const dataTable =\n",
       "            await google.colab.kernel.invokeFunction('convertToInteractive',\n",
       "                                                     [key], {});\n",
       "          if (!dataTable) return;\n",
       "\n",
       "          const docLinkHtml = 'Like what you see? Visit the ' +\n",
       "            '<a target=\"_blank\" href=https://colab.research.google.com/notebooks/data_table.ipynb>data table notebook</a>'\n",
       "            + ' to learn more about interactive tables.';\n",
       "          element.innerHTML = '';\n",
       "          dataTable['output_type'] = 'display_data';\n",
       "          await google.colab.output.renderOutput(dataTable, element);\n",
       "          const docLink = document.createElement('div');\n",
       "          docLink.innerHTML = docLinkHtml;\n",
       "          element.appendChild(docLink);\n",
       "        }\n",
       "      </script>\n",
       "    </div>\n",
       "  </div>\n",
       "  "
      ],
      "text/plain": [
       "                   count unique      top   freq\n",
       "Alcohol            33509      4     none  13177\n",
       "NoiseLevel         33509      6  average  15869\n",
       "RestaurantsAttire  33509      5   casual  23025\n",
       "WiFi               33509      4     free  13879"
      ]
     },
     "execution_count": 63,
     "metadata": {},
     "output_type": "execute_result"
    }
   ],
   "source": [
    "#Revised object columns\n",
    "restaurants.select_dtypes(include = 'object').describe().T"
   ]
  },
  {
   "cell_type": "code",
   "execution_count": null,
   "metadata": {
    "id": "bHgjFJTobhS1"
   },
   "outputs": [],
   "source": [
    "# Transform them into a category, adding the price level\n",
    "categorical_vars = restaurants.select_dtypes(include = 'object').columns.tolist()\n",
    "categorical_vars.append( 'RestaurantsPriceRange2' )\n",
    "restaurants[categorical_vars] = restaurants[categorical_vars].astype('category')"
   ]
  },
  {
   "cell_type": "code",
   "execution_count": null,
   "metadata": {
    "colab": {
     "base_uri": "https://localhost:8080/"
    },
    "executionInfo": {
     "elapsed": 505,
     "status": "ok",
     "timestamp": 1672941715713,
     "user": {
      "displayName": "Pablo Soto López",
      "userId": "08112082177697405353"
     },
     "user_tz": -60
    },
    "id": "sibs_1NAb125",
    "outputId": "fe18ad80-9a36-43cc-a645-b5123129656f"
   },
   "outputs": [
    {
     "name": "stdout",
     "output_type": "stream",
     "text": [
      "<class 'pandas.core.frame.DataFrame'>\n",
      "Int64Index: 33509 entries, 0 to 34847\n",
      "Data columns (total 47 columns):\n",
      " #   Column                      Non-Null Count  Dtype   \n",
      "---  ------                      --------------  -----   \n",
      " 0   stars                       33509 non-null  float64 \n",
      " 1   Alcohol                     33509 non-null  category\n",
      " 2   BikeParking                 33509 non-null  bool    \n",
      " 3   BusinessAcceptsBitcoin      33509 non-null  bool    \n",
      " 4   BusinessAcceptsCreditCards  33509 non-null  bool    \n",
      " 5   BusinessParking             33509 non-null  bool    \n",
      " 6   ByAppointmentOnly           33509 non-null  bool    \n",
      " 7   Caters                      33509 non-null  bool    \n",
      " 8   DogsAllowed                 33509 non-null  bool    \n",
      " 9   DriveThru                   33509 non-null  bool    \n",
      " 10  GoodForKids                 33509 non-null  bool    \n",
      " 11  HappyHour                   33509 non-null  bool    \n",
      " 12  HasTV                       33509 non-null  bool    \n",
      " 13  Music                       33509 non-null  bool    \n",
      " 14  NoiseLevel                  33509 non-null  category\n",
      " 15  OutdoorSeating              33509 non-null  bool    \n",
      " 16  RestaurantsAttire           33509 non-null  category\n",
      " 17  RestaurantsDelivery         33509 non-null  bool    \n",
      " 18  RestaurantsGoodForGroups    33509 non-null  bool    \n",
      " 19  RestaurantsPriceRange2      33509 non-null  category\n",
      " 20  RestaurantsReservations     33509 non-null  bool    \n",
      " 21  RestaurantsTableService     33509 non-null  bool    \n",
      " 22  RestaurantsTakeOut          33509 non-null  bool    \n",
      " 23  WheelchairAccessible        33509 non-null  bool    \n",
      " 24  WiFi                        33509 non-null  category\n",
      " 25  romantic                    33509 non-null  bool    \n",
      " 26  intimate                    33509 non-null  bool    \n",
      " 27  touristy                    33509 non-null  bool    \n",
      " 28  hipster                     33509 non-null  bool    \n",
      " 29  divey                       33509 non-null  bool    \n",
      " 30  classy                      33509 non-null  bool    \n",
      " 31  trendy                      33509 non-null  bool    \n",
      " 32  upscale                     33509 non-null  bool    \n",
      " 33  casual                      33509 non-null  bool    \n",
      " 34  dessert                     33509 non-null  bool    \n",
      " 35  latenight                   33509 non-null  bool    \n",
      " 36  lunch                       33509 non-null  bool    \n",
      " 37  dinner                      33509 non-null  bool    \n",
      " 38  brunch                      33509 non-null  bool    \n",
      " 39  breakfast                   33509 non-null  bool    \n",
      " 40  rew_count_2016              33509 non-null  int64   \n",
      " 41  vander_comp_mean            33509 non-null  float64 \n",
      " 42  date_min                    33509 non-null  int64   \n",
      " 43  date_max                    33509 non-null  int64   \n",
      " 44  cat_value_mean              33509 non-null  float64 \n",
      " 45  weekend_hours               33509 non-null  int64   \n",
      " 46  lab_day_hours               33509 non-null  int64   \n",
      "dtypes: bool(34), category(5), float64(3), int64(5)\n",
      "memory usage: 3.5 MB\n"
     ]
    }
   ],
   "source": [
    "restaurants.info()"
   ]
  },
  {
   "cell_type": "markdown",
   "metadata": {
    "id": "hAwUzOqkpaie"
   },
   "source": [
    "# Review of correlations.\n",
    "We are not surprised by the high correlation of the scores with the mean of the VADER compound. It means that the sentiment expressed in the opinions is consistent with the score they give.\n",
    "\n",
    "The specialisation of the offer, our feature based on the category codes, has one of the highest positive correlations within the set of characteristics. Wheelchair access seems to be valued.\n",
    "\n",
    "It seems that availability, opening hours, whether they serve in the car or serve at home, have a negative impact on the level of ratings. "
   ]
  },
  {
   "cell_type": "code",
   "execution_count": null,
   "metadata": {
    "colab": {
     "base_uri": "https://localhost:8080/",
     "height": 1000
    },
    "executionInfo": {
     "elapsed": 8928,
     "status": "ok",
     "timestamp": 1672941730562,
     "user": {
      "displayName": "Pablo Soto López",
      "userId": "08112082177697405353"
     },
     "user_tz": -60
    },
    "id": "LUdFUSKlc5YL",
    "outputId": "236dc9e6-023a-44cc-8209-adbb649bd380"
   },
   "outputs": [
    {
     "data": {
      "image/png": "[encoded data removed]",
      "text/plain": [
       "<Figure size 1800x1440 with 2 Axes>"
      ]
     },
     "metadata": {},
     "output_type": "display_data"
    }
   ],
   "source": [
    "get_corr_matrix(restaurants,isnumeric=False)"
   ]
  },
  {
   "cell_type": "code",
   "execution_count": null,
   "metadata": {
    "colab": {
     "base_uri": "https://localhost:8080/",
     "height": 896
    },
    "executionInfo": {
     "elapsed": 954,
     "status": "ok",
     "timestamp": 1672941735938,
     "user": {
      "displayName": "Pablo Soto López",
      "userId": "08112082177697405353"
     },
     "user_tz": -60
    },
    "id": "HLkpZ9icc5a9",
    "outputId": "5b7ca42a-aa00-4be0-b051-2db0cc8ca208"
   },
   "outputs": [
    {
     "data": {
      "text/html": [
       "\n",
       "  <div id=\"df-d127eb37-4c01-4d98-b71e-d8dc2e107587\">\n",
       "    <div class=\"colab-df-container\">\n",
       "      <div>\n",
       "<style scoped>\n",
       "    .dataframe tbody tr th:only-of-type {\n",
       "        vertical-align: middle;\n",
       "    }\n",
       "\n",
       "    .dataframe tbody tr th {\n",
       "        vertical-align: top;\n",
       "    }\n",
       "\n",
       "    .dataframe thead th {\n",
       "        text-align: right;\n",
       "    }\n",
       "</style>\n",
       "<table border=\"1\" class=\"dataframe\">\n",
       "  <thead>\n",
       "    <tr style=\"text-align: right;\">\n",
       "      <th></th>\n",
       "      <th>Variable_1</th>\n",
       "      <th>Variable_2</th>\n",
       "      <th>Correlacion</th>\n",
       "    </tr>\n",
       "  </thead>\n",
       "  <tbody>\n",
       "    <tr>\n",
       "      <th>0</th>\n",
       "      <td>stars</td>\n",
       "      <td>vander_comp_mean</td>\n",
       "      <td>0.880399</td>\n",
       "    </tr>\n",
       "    <tr>\n",
       "      <th>1</th>\n",
       "      <td>weekend_hours</td>\n",
       "      <td>lab_day_hours</td>\n",
       "      <td>0.855545</td>\n",
       "    </tr>\n",
       "    <tr>\n",
       "      <th>2</th>\n",
       "      <td>RestaurantsAttire</td>\n",
       "      <td>date_min</td>\n",
       "      <td>-0.641553</td>\n",
       "    </tr>\n",
       "    <tr>\n",
       "      <th>3</th>\n",
       "      <td>brunch</td>\n",
       "      <td>breakfast</td>\n",
       "      <td>0.629238</td>\n",
       "    </tr>\n",
       "    <tr>\n",
       "      <th>4</th>\n",
       "      <td>RestaurantsAttire</td>\n",
       "      <td>RestaurantsGoodForGroups</td>\n",
       "      <td>0.625917</td>\n",
       "    </tr>\n",
       "    <tr>\n",
       "      <th>5</th>\n",
       "      <td>GoodForKids</td>\n",
       "      <td>RestaurantsAttire</td>\n",
       "      <td>0.622745</td>\n",
       "    </tr>\n",
       "    <tr>\n",
       "      <th>6</th>\n",
       "      <td>NoiseLevel</td>\n",
       "      <td>RestaurantsAttire</td>\n",
       "      <td>0.620386</td>\n",
       "    </tr>\n",
       "    <tr>\n",
       "      <th>7</th>\n",
       "      <td>lunch</td>\n",
       "      <td>dinner</td>\n",
       "      <td>0.593688</td>\n",
       "    </tr>\n",
       "    <tr>\n",
       "      <th>8</th>\n",
       "      <td>casual</td>\n",
       "      <td>lunch</td>\n",
       "      <td>0.540959</td>\n",
       "    </tr>\n",
       "    <tr>\n",
       "      <th>9</th>\n",
       "      <td>GoodForKids</td>\n",
       "      <td>RestaurantsGoodForGroups</td>\n",
       "      <td>0.523431</td>\n",
       "    </tr>\n",
       "    <tr>\n",
       "      <th>10</th>\n",
       "      <td>dinner</td>\n",
       "      <td>rew_count_2016</td>\n",
       "      <td>0.521447</td>\n",
       "    </tr>\n",
       "    <tr>\n",
       "      <th>11</th>\n",
       "      <td>rew_count_2016</td>\n",
       "      <td>date_max</td>\n",
       "      <td>0.518643</td>\n",
       "    </tr>\n",
       "    <tr>\n",
       "      <th>12</th>\n",
       "      <td>HappyHour</td>\n",
       "      <td>Music</td>\n",
       "      <td>0.503889</td>\n",
       "    </tr>\n",
       "    <tr>\n",
       "      <th>13</th>\n",
       "      <td>GoodForKids</td>\n",
       "      <td>date_min</td>\n",
       "      <td>-0.493892</td>\n",
       "    </tr>\n",
       "    <tr>\n",
       "      <th>14</th>\n",
       "      <td>NoiseLevel</td>\n",
       "      <td>RestaurantsGoodForGroups</td>\n",
       "      <td>0.484275</td>\n",
       "    </tr>\n",
       "    <tr>\n",
       "      <th>15</th>\n",
       "      <td>NoiseLevel</td>\n",
       "      <td>date_min</td>\n",
       "      <td>-0.474786</td>\n",
       "    </tr>\n",
       "    <tr>\n",
       "      <th>16</th>\n",
       "      <td>casual</td>\n",
       "      <td>rew_count_2016</td>\n",
       "      <td>0.460672</td>\n",
       "    </tr>\n",
       "    <tr>\n",
       "      <th>17</th>\n",
       "      <td>casual</td>\n",
       "      <td>dinner</td>\n",
       "      <td>0.456451</td>\n",
       "    </tr>\n",
       "    <tr>\n",
       "      <th>18</th>\n",
       "      <td>lunch</td>\n",
       "      <td>rew_count_2016</td>\n",
       "      <td>0.451163</td>\n",
       "    </tr>\n",
       "    <tr>\n",
       "      <th>19</th>\n",
       "      <td>RestaurantsGoodForGroups</td>\n",
       "      <td>date_min</td>\n",
       "      <td>-0.441869</td>\n",
       "    </tr>\n",
       "    <tr>\n",
       "      <th>20</th>\n",
       "      <td>GoodForKids</td>\n",
       "      <td>NoiseLevel</td>\n",
       "      <td>0.437990</td>\n",
       "    </tr>\n",
       "    <tr>\n",
       "      <th>21</th>\n",
       "      <td>RestaurantsTableService</td>\n",
       "      <td>rew_count_2016</td>\n",
       "      <td>0.437507</td>\n",
       "    </tr>\n",
       "    <tr>\n",
       "      <th>22</th>\n",
       "      <td>HasTV</td>\n",
       "      <td>RestaurantsAttire</td>\n",
       "      <td>0.425725</td>\n",
       "    </tr>\n",
       "    <tr>\n",
       "      <th>23</th>\n",
       "      <td>RestaurantsPriceRange2</td>\n",
       "      <td>RestaurantsReservations</td>\n",
       "      <td>0.425617</td>\n",
       "    </tr>\n",
       "    <tr>\n",
       "      <th>24</th>\n",
       "      <td>RestaurantsPriceRange2</td>\n",
       "      <td>rew_count_2016</td>\n",
       "      <td>0.415698</td>\n",
       "    </tr>\n",
       "    <tr>\n",
       "      <th>25</th>\n",
       "      <td>RestaurantsReservations</td>\n",
       "      <td>RestaurantsTableService</td>\n",
       "      <td>0.408493</td>\n",
       "    </tr>\n",
       "    <tr>\n",
       "      <th>26</th>\n",
       "      <td>RestaurantsTableService</td>\n",
       "      <td>WheelchairAccessible</td>\n",
       "      <td>0.404192</td>\n",
       "    </tr>\n",
       "  </tbody>\n",
       "</table>\n",
       "</div>\n",
       "      <button class=\"colab-df-convert\" onclick=\"convertToInteractive('df-d127eb37-4c01-4d98-b71e-d8dc2e107587')\"\n",
       "              title=\"Convert this dataframe to an interactive table.\"\n",
       "              style=\"display:none;\">\n",
       "        \n",
       "  <svg xmlns=\"http://www.w3.org/2000/svg\" height=\"24px\"viewBox=\"0 0 24 24\"\n",
       "       width=\"24px\">\n",
       "    <path d=\"M0 0h24v24H0V0z\" fill=\"none\"/>\n",
       "    <path d=\"M18.56 5.44l.94 2.06.94-2.06 2.06-.94-2.06-.94-.94-2.06-.94 2.06-2.06.94zm-11 1L8.5 8.5l.94-2.06 2.06-.94-2.06-.94L8.5 2.5l-.94 2.06-2.06.94zm10 10l.94 2.06.94-2.06 2.06-.94-2.06-.94-.94-2.06-.94 2.06-2.06.94z\"/><path d=\"M17.41 7.96l-1.37-1.37c-.4-.4-.92-.59-1.43-.59-.52 0-1.04.2-1.43.59L10.3 9.45l-7.72 7.72c-.78.78-.78 2.05 0 2.83L4 21.41c.39.39.9.59 1.41.59.51 0 1.02-.2 1.41-.59l7.78-7.78 2.81-2.81c.8-.78.8-2.07 0-2.86zM5.41 20L4 18.59l7.72-7.72 1.47 1.35L5.41 20z\"/>\n",
       "  </svg>\n",
       "      </button>\n",
       "      \n",
       "  <style>\n",
       "    .colab-df-container {\n",
       "      display:flex;\n",
       "      flex-wrap:wrap;\n",
       "      gap: 12px;\n",
       "    }\n",
       "\n",
       "    .colab-df-convert {\n",
       "      background-color: #E8F0FE;\n",
       "      border: none;\n",
       "      border-radius: 50%;\n",
       "      cursor: pointer;\n",
       "      display: none;\n",
       "      fill: #1967D2;\n",
       "      height: 32px;\n",
       "      padding: 0 0 0 0;\n",
       "      width: 32px;\n",
       "    }\n",
       "\n",
       "    .colab-df-convert:hover {\n",
       "      background-color: #E2EBFA;\n",
       "      box-shadow: 0px 1px 2px rgba(60, 64, 67, 0.3), 0px 1px 3px 1px rgba(60, 64, 67, 0.15);\n",
       "      fill: #174EA6;\n",
       "    }\n",
       "\n",
       "    [theme=dark] .colab-df-convert {\n",
       "      background-color: #3B4455;\n",
       "      fill: #D2E3FC;\n",
       "    }\n",
       "\n",
       "    [theme=dark] .colab-df-convert:hover {\n",
       "      background-color: #434B5C;\n",
       "      box-shadow: 0px 1px 3px 1px rgba(0, 0, 0, 0.15);\n",
       "      filter: drop-shadow(0px 1px 2px rgba(0, 0, 0, 0.3));\n",
       "      fill: #FFFFFF;\n",
       "    }\n",
       "  </style>\n",
       "\n",
       "      <script>\n",
       "        const buttonEl =\n",
       "          document.querySelector('#df-d127eb37-4c01-4d98-b71e-d8dc2e107587 button.colab-df-convert');\n",
       "        buttonEl.style.display =\n",
       "          google.colab.kernel.accessAllowed ? 'block' : 'none';\n",
       "\n",
       "        async function convertToInteractive(key) {\n",
       "          const element = document.querySelector('#df-d127eb37-4c01-4d98-b71e-d8dc2e107587');\n",
       "          const dataTable =\n",
       "            await google.colab.kernel.invokeFunction('convertToInteractive',\n",
       "                                                     [key], {});\n",
       "          if (!dataTable) return;\n",
       "\n",
       "          const docLinkHtml = 'Like what you see? Visit the ' +\n",
       "            '<a target=\"_blank\" href=https://colab.research.google.com/notebooks/data_table.ipynb>data table notebook</a>'\n",
       "            + ' to learn more about interactive tables.';\n",
       "          element.innerHTML = '';\n",
       "          dataTable['output_type'] = 'display_data';\n",
       "          await google.colab.output.renderOutput(dataTable, element);\n",
       "          const docLink = document.createElement('div');\n",
       "          docLink.innerHTML = docLinkHtml;\n",
       "          element.appendChild(docLink);\n",
       "        }\n",
       "      </script>\n",
       "    </div>\n",
       "  </div>\n",
       "  "
      ],
      "text/plain": [
       "                  Variable_1                Variable_2  Correlacion\n",
       "0                      stars          vander_comp_mean     0.880399\n",
       "1              weekend_hours             lab_day_hours     0.855545\n",
       "2          RestaurantsAttire                  date_min    -0.641553\n",
       "3                     brunch                 breakfast     0.629238\n",
       "4          RestaurantsAttire  RestaurantsGoodForGroups     0.625917\n",
       "5                GoodForKids         RestaurantsAttire     0.622745\n",
       "6                 NoiseLevel         RestaurantsAttire     0.620386\n",
       "7                      lunch                    dinner     0.593688\n",
       "8                     casual                     lunch     0.540959\n",
       "9                GoodForKids  RestaurantsGoodForGroups     0.523431\n",
       "10                    dinner            rew_count_2016     0.521447\n",
       "11            rew_count_2016                  date_max     0.518643\n",
       "12                 HappyHour                     Music     0.503889\n",
       "13               GoodForKids                  date_min    -0.493892\n",
       "14                NoiseLevel  RestaurantsGoodForGroups     0.484275\n",
       "15                NoiseLevel                  date_min    -0.474786\n",
       "16                    casual            rew_count_2016     0.460672\n",
       "17                    casual                    dinner     0.456451\n",
       "18                     lunch            rew_count_2016     0.451163\n",
       "19  RestaurantsGoodForGroups                  date_min    -0.441869\n",
       "20               GoodForKids                NoiseLevel     0.437990\n",
       "21   RestaurantsTableService            rew_count_2016     0.437507\n",
       "22                     HasTV         RestaurantsAttire     0.425725\n",
       "23    RestaurantsPriceRange2   RestaurantsReservations     0.425617\n",
       "24    RestaurantsPriceRange2            rew_count_2016     0.415698\n",
       "25   RestaurantsReservations   RestaurantsTableService     0.408493\n",
       "26   RestaurantsTableService      WheelchairAccessible     0.404192"
      ]
     },
     "execution_count": 67,
     "metadata": {},
     "output_type": "execute_result"
    }
   ],
   "source": [
    "top_correlation (restaurants,metodo = 'spearman', limit_inf = 0.40, limit_sup = 0.99)"
   ]
  },
  {
   "cell_type": "markdown",
   "metadata": {
    "id": "kqeBuzeHuMpq"
   },
   "source": [
    "### Target definition and choice of predictors.\n",
    "\n",
    "Our model will try to predict the stars that users will give you, based on your service offer and the sentiment analysis of your customers' ratings. \n",
    "To do this, we will scale the reviews, being negative those businesses that present 2 or less stars of average rating, neutral more than 2 and 3.5 stars including 3.5, and positive more than 3.5 stars on average.\n"
   ]
  },
  {
   "cell_type": "code",
   "execution_count": null,
   "metadata": {
    "id": "00-RtXt5iB_R"
   },
   "outputs": [],
   "source": [
    "def categorize(x):\n",
    "    if x <= 2:\n",
    "        return 'negativo'\n",
    "    elif x <= 3.5:\n",
    "        return 'neutro'\n",
    "    else:\n",
    "        return 'positivo'\n"
   ]
  },
  {
   "cell_type": "code",
   "execution_count": null,
   "metadata": {
    "id": "yw6p4u7tiJXh"
   },
   "outputs": [],
   "source": [
    "# Transform the target into the categories proposed.\n",
    "restaurants['stars'] = restaurants['stars'].apply(categorize)\n"
   ]
  },
  {
   "cell_type": "code",
   "execution_count": null,
   "metadata": {
    "colab": {
     "base_uri": "https://localhost:8080/"
    },
    "executionInfo": {
     "elapsed": 418,
     "status": "ok",
     "timestamp": 1672941751187,
     "user": {
      "displayName": "Pablo Soto López",
      "userId": "08112082177697405353"
     },
     "user_tz": -60
    },
    "id": "Lj9bzWP4icHe",
    "outputId": "20a0da32-fe8a-44ee-a919-50cdb1a6d030"
   },
   "outputs": [
    {
     "data": {
      "text/plain": [
       "positivo    15927\n",
       "neutro      14265\n",
       "negativo     3317\n",
       "Name: stars, dtype: int64"
      ]
     },
     "execution_count": 70,
     "metadata": {},
     "output_type": "execute_result"
    }
   ],
   "source": [
    "restaurants['stars'].value_counts()"
   ]
  },
  {
   "cell_type": "code",
   "execution_count": null,
   "metadata": {
    "id": "vDAqUJSFKPef"
   },
   "outputs": [],
   "source": [
    "# Transform stars from the frame we will merge to the end of the notebook\n",
    "selected_rest_data['stars'] = restaurants['stars'].tolist()"
   ]
  },
  {
   "cell_type": "code",
   "execution_count": null,
   "metadata": {
    "id": "zPhsPxOyxzFs"
   },
   "outputs": [],
   "source": [
    "# Transform into categorical.\n",
    "restaurants['stars'] = restaurants['stars'].astype('category')\n",
    "selected_rest_data['stars'] = selected_rest_data['stars'].astype('category')"
   ]
  },
  {
   "cell_type": "code",
   "execution_count": null,
   "metadata": {
    "id": "FZSIViEBicNI"
   },
   "outputs": [],
   "source": [
    "# Transform bool dtypes to int.\n",
    "restaurants_bools = restaurants.select_dtypes(include = 'bool').columns.tolist()\n",
    "restaurants[restaurants_bools] = restaurants[restaurants_bools] * 1"
   ]
  },
  {
   "cell_type": "code",
   "execution_count": null,
   "metadata": {
    "colab": {
     "base_uri": "https://localhost:8080/",
     "height": 488
    },
    "executionInfo": {
     "elapsed": 6,
     "status": "ok",
     "timestamp": 1672941769196,
     "user": {
      "displayName": "Pablo Soto López",
      "userId": "08112082177697405353"
     },
     "user_tz": -60
    },
    "id": "Z_WDuTT6m8Q3",
    "outputId": "70d45c40-3ecf-4f86-94cf-d9cc06e6a79b"
   },
   "outputs": [
    {
     "data": {
      "text/html": [
       "\n",
       "  <div id=\"df-9cdfeed7-1eb2-47fb-933c-6a564cc69e04\">\n",
       "    <div class=\"colab-df-container\">\n",
       "      <div>\n",
       "<style scoped>\n",
       "    .dataframe tbody tr th:only-of-type {\n",
       "        vertical-align: middle;\n",
       "    }\n",
       "\n",
       "    .dataframe tbody tr th {\n",
       "        vertical-align: top;\n",
       "    }\n",
       "\n",
       "    .dataframe thead th {\n",
       "        text-align: right;\n",
       "    }\n",
       "</style>\n",
       "<table border=\"1\" class=\"dataframe\">\n",
       "  <thead>\n",
       "    <tr style=\"text-align: right;\">\n",
       "      <th></th>\n",
       "      <th>stars</th>\n",
       "      <th>Alcohol</th>\n",
       "      <th>BikeParking</th>\n",
       "      <th>BusinessAcceptsBitcoin</th>\n",
       "      <th>BusinessAcceptsCreditCards</th>\n",
       "      <th>BusinessParking</th>\n",
       "      <th>ByAppointmentOnly</th>\n",
       "      <th>Caters</th>\n",
       "      <th>DogsAllowed</th>\n",
       "      <th>DriveThru</th>\n",
       "      <th>...</th>\n",
       "      <th>dinner</th>\n",
       "      <th>brunch</th>\n",
       "      <th>breakfast</th>\n",
       "      <th>rew_count_2016</th>\n",
       "      <th>vander_comp_mean</th>\n",
       "      <th>date_min</th>\n",
       "      <th>date_max</th>\n",
       "      <th>cat_value_mean</th>\n",
       "      <th>weekend_hours</th>\n",
       "      <th>lab_day_hours</th>\n",
       "    </tr>\n",
       "  </thead>\n",
       "  <tbody>\n",
       "    <tr>\n",
       "      <th>0</th>\n",
       "      <td>positivo</td>\n",
       "      <td>0</td>\n",
       "      <td>1</td>\n",
       "      <td>0</td>\n",
       "      <td>0</td>\n",
       "      <td>1</td>\n",
       "      <td>0</td>\n",
       "      <td>1</td>\n",
       "      <td>0</td>\n",
       "      <td>0</td>\n",
       "      <td>...</td>\n",
       "      <td>0</td>\n",
       "      <td>0</td>\n",
       "      <td>0</td>\n",
       "      <td>45</td>\n",
       "      <td>0.671747</td>\n",
       "      <td>2016</td>\n",
       "      <td>2021</td>\n",
       "      <td>26.090909</td>\n",
       "      <td>28</td>\n",
       "      <td>66</td>\n",
       "    </tr>\n",
       "    <tr>\n",
       "      <th>2</th>\n",
       "      <td>negativo</td>\n",
       "      <td>0</td>\n",
       "      <td>0</td>\n",
       "      <td>0</td>\n",
       "      <td>1</td>\n",
       "      <td>1</td>\n",
       "      <td>0</td>\n",
       "      <td>0</td>\n",
       "      <td>0</td>\n",
       "      <td>1</td>\n",
       "      <td>...</td>\n",
       "      <td>0</td>\n",
       "      <td>0</td>\n",
       "      <td>0</td>\n",
       "      <td>9</td>\n",
       "      <td>0.355822</td>\n",
       "      <td>2016</td>\n",
       "      <td>2021</td>\n",
       "      <td>7.636364</td>\n",
       "      <td>22</td>\n",
       "      <td>50</td>\n",
       "    </tr>\n",
       "    <tr>\n",
       "      <th>3</th>\n",
       "      <td>positivo</td>\n",
       "      <td>0</td>\n",
       "      <td>0</td>\n",
       "      <td>0</td>\n",
       "      <td>0</td>\n",
       "      <td>1</td>\n",
       "      <td>0</td>\n",
       "      <td>0</td>\n",
       "      <td>0</td>\n",
       "      <td>0</td>\n",
       "      <td>...</td>\n",
       "      <td>0</td>\n",
       "      <td>0</td>\n",
       "      <td>0</td>\n",
       "      <td>11</td>\n",
       "      <td>0.743791</td>\n",
       "      <td>2018</td>\n",
       "      <td>2022</td>\n",
       "      <td>22.727273</td>\n",
       "      <td>10</td>\n",
       "      <td>15</td>\n",
       "    </tr>\n",
       "    <tr>\n",
       "      <th>4</th>\n",
       "      <td>neutro</td>\n",
       "      <td>0</td>\n",
       "      <td>0</td>\n",
       "      <td>0</td>\n",
       "      <td>1</td>\n",
       "      <td>1</td>\n",
       "      <td>0</td>\n",
       "      <td>0</td>\n",
       "      <td>0</td>\n",
       "      <td>0</td>\n",
       "      <td>...</td>\n",
       "      <td>0</td>\n",
       "      <td>0</td>\n",
       "      <td>0</td>\n",
       "      <td>24</td>\n",
       "      <td>0.101208</td>\n",
       "      <td>2016</td>\n",
       "      <td>2021</td>\n",
       "      <td>10.727273</td>\n",
       "      <td>32</td>\n",
       "      <td>80</td>\n",
       "    </tr>\n",
       "    <tr>\n",
       "      <th>5</th>\n",
       "      <td>positivo</td>\n",
       "      <td>1</td>\n",
       "      <td>0</td>\n",
       "      <td>0</td>\n",
       "      <td>1</td>\n",
       "      <td>1</td>\n",
       "      <td>0</td>\n",
       "      <td>0</td>\n",
       "      <td>0</td>\n",
       "      <td>0</td>\n",
       "      <td>...</td>\n",
       "      <td>1</td>\n",
       "      <td>0</td>\n",
       "      <td>0</td>\n",
       "      <td>250</td>\n",
       "      <td>0.803010</td>\n",
       "      <td>2017</td>\n",
       "      <td>2022</td>\n",
       "      <td>12.818182</td>\n",
       "      <td>18</td>\n",
       "      <td>33</td>\n",
       "    </tr>\n",
       "    <tr>\n",
       "      <th>...</th>\n",
       "      <td>...</td>\n",
       "      <td>...</td>\n",
       "      <td>...</td>\n",
       "      <td>...</td>\n",
       "      <td>...</td>\n",
       "      <td>...</td>\n",
       "      <td>...</td>\n",
       "      <td>...</td>\n",
       "      <td>...</td>\n",
       "      <td>...</td>\n",
       "      <td>...</td>\n",
       "      <td>...</td>\n",
       "      <td>...</td>\n",
       "      <td>...</td>\n",
       "      <td>...</td>\n",
       "      <td>...</td>\n",
       "      <td>...</td>\n",
       "      <td>...</td>\n",
       "      <td>...</td>\n",
       "      <td>...</td>\n",
       "      <td>...</td>\n",
       "    </tr>\n",
       "    <tr>\n",
       "      <th>34843</th>\n",
       "      <td>positivo</td>\n",
       "      <td>1</td>\n",
       "      <td>1</td>\n",
       "      <td>0</td>\n",
       "      <td>1</td>\n",
       "      <td>1</td>\n",
       "      <td>0</td>\n",
       "      <td>0</td>\n",
       "      <td>0</td>\n",
       "      <td>1</td>\n",
       "      <td>...</td>\n",
       "      <td>1</td>\n",
       "      <td>0</td>\n",
       "      <td>0</td>\n",
       "      <td>740</td>\n",
       "      <td>0.798336</td>\n",
       "      <td>2016</td>\n",
       "      <td>2022</td>\n",
       "      <td>22.272727</td>\n",
       "      <td>24</td>\n",
       "      <td>46</td>\n",
       "    </tr>\n",
       "    <tr>\n",
       "      <th>34844</th>\n",
       "      <td>neutro</td>\n",
       "      <td>2</td>\n",
       "      <td>1</td>\n",
       "      <td>0</td>\n",
       "      <td>1</td>\n",
       "      <td>1</td>\n",
       "      <td>0</td>\n",
       "      <td>1</td>\n",
       "      <td>0</td>\n",
       "      <td>0</td>\n",
       "      <td>...</td>\n",
       "      <td>0</td>\n",
       "      <td>0</td>\n",
       "      <td>0</td>\n",
       "      <td>7</td>\n",
       "      <td>0.370843</td>\n",
       "      <td>2016</td>\n",
       "      <td>2020</td>\n",
       "      <td>8.545455</td>\n",
       "      <td>0</td>\n",
       "      <td>0</td>\n",
       "    </tr>\n",
       "    <tr>\n",
       "      <th>34845</th>\n",
       "      <td>positivo</td>\n",
       "      <td>0</td>\n",
       "      <td>1</td>\n",
       "      <td>0</td>\n",
       "      <td>1</td>\n",
       "      <td>1</td>\n",
       "      <td>0</td>\n",
       "      <td>0</td>\n",
       "      <td>0</td>\n",
       "      <td>0</td>\n",
       "      <td>...</td>\n",
       "      <td>0</td>\n",
       "      <td>0</td>\n",
       "      <td>0</td>\n",
       "      <td>23</td>\n",
       "      <td>0.422991</td>\n",
       "      <td>2016</td>\n",
       "      <td>2021</td>\n",
       "      <td>12.272727</td>\n",
       "      <td>0</td>\n",
       "      <td>17</td>\n",
       "    </tr>\n",
       "    <tr>\n",
       "      <th>34846</th>\n",
       "      <td>positivo</td>\n",
       "      <td>0</td>\n",
       "      <td>1</td>\n",
       "      <td>0</td>\n",
       "      <td>1</td>\n",
       "      <td>1</td>\n",
       "      <td>0</td>\n",
       "      <td>1</td>\n",
       "      <td>0</td>\n",
       "      <td>0</td>\n",
       "      <td>...</td>\n",
       "      <td>1</td>\n",
       "      <td>0</td>\n",
       "      <td>0</td>\n",
       "      <td>35</td>\n",
       "      <td>0.869034</td>\n",
       "      <td>2017</td>\n",
       "      <td>2021</td>\n",
       "      <td>2.454545</td>\n",
       "      <td>30</td>\n",
       "      <td>48</td>\n",
       "    </tr>\n",
       "    <tr>\n",
       "      <th>34847</th>\n",
       "      <td>positivo</td>\n",
       "      <td>0</td>\n",
       "      <td>1</td>\n",
       "      <td>0</td>\n",
       "      <td>1</td>\n",
       "      <td>1</td>\n",
       "      <td>0</td>\n",
       "      <td>1</td>\n",
       "      <td>0</td>\n",
       "      <td>0</td>\n",
       "      <td>...</td>\n",
       "      <td>0</td>\n",
       "      <td>0</td>\n",
       "      <td>0</td>\n",
       "      <td>14</td>\n",
       "      <td>0.776479</td>\n",
       "      <td>2016</td>\n",
       "      <td>2021</td>\n",
       "      <td>30.272727</td>\n",
       "      <td>0</td>\n",
       "      <td>0</td>\n",
       "    </tr>\n",
       "  </tbody>\n",
       "</table>\n",
       "<p>33509 rows × 47 columns</p>\n",
       "</div>\n",
       "      <button class=\"colab-df-convert\" onclick=\"convertToInteractive('df-9cdfeed7-1eb2-47fb-933c-6a564cc69e04')\"\n",
       "              title=\"Convert this dataframe to an interactive table.\"\n",
       "              style=\"display:none;\">\n",
       "        \n",
       "  <svg xmlns=\"http://www.w3.org/2000/svg\" height=\"24px\"viewBox=\"0 0 24 24\"\n",
       "       width=\"24px\">\n",
       "    <path d=\"M0 0h24v24H0V0z\" fill=\"none\"/>\n",
       "    <path d=\"M18.56 5.44l.94 2.06.94-2.06 2.06-.94-2.06-.94-.94-2.06-.94 2.06-2.06.94zm-11 1L8.5 8.5l.94-2.06 2.06-.94-2.06-.94L8.5 2.5l-.94 2.06-2.06.94zm10 10l.94 2.06.94-2.06 2.06-.94-2.06-.94-.94-2.06-.94 2.06-2.06.94z\"/><path d=\"M17.41 7.96l-1.37-1.37c-.4-.4-.92-.59-1.43-.59-.52 0-1.04.2-1.43.59L10.3 9.45l-7.72 7.72c-.78.78-.78 2.05 0 2.83L4 21.41c.39.39.9.59 1.41.59.51 0 1.02-.2 1.41-.59l7.78-7.78 2.81-2.81c.8-.78.8-2.07 0-2.86zM5.41 20L4 18.59l7.72-7.72 1.47 1.35L5.41 20z\"/>\n",
       "  </svg>\n",
       "      </button>\n",
       "      \n",
       "  <style>\n",
       "    .colab-df-container {\n",
       "      display:flex;\n",
       "      flex-wrap:wrap;\n",
       "      gap: 12px;\n",
       "    }\n",
       "\n",
       "    .colab-df-convert {\n",
       "      background-color: #E8F0FE;\n",
       "      border: none;\n",
       "      border-radius: 50%;\n",
       "      cursor: pointer;\n",
       "      display: none;\n",
       "      fill: #1967D2;\n",
       "      height: 32px;\n",
       "      padding: 0 0 0 0;\n",
       "      width: 32px;\n",
       "    }\n",
       "\n",
       "    .colab-df-convert:hover {\n",
       "      background-color: #E2EBFA;\n",
       "      box-shadow: 0px 1px 2px rgba(60, 64, 67, 0.3), 0px 1px 3px 1px rgba(60, 64, 67, 0.15);\n",
       "      fill: #174EA6;\n",
       "    }\n",
       "\n",
       "    [theme=dark] .colab-df-convert {\n",
       "      background-color: #3B4455;\n",
       "      fill: #D2E3FC;\n",
       "    }\n",
       "\n",
       "    [theme=dark] .colab-df-convert:hover {\n",
       "      background-color: #434B5C;\n",
       "      box-shadow: 0px 1px 3px 1px rgba(0, 0, 0, 0.15);\n",
       "      filter: drop-shadow(0px 1px 2px rgba(0, 0, 0, 0.3));\n",
       "      fill: #FFFFFF;\n",
       "    }\n",
       "  </style>\n",
       "\n",
       "      <script>\n",
       "        const buttonEl =\n",
       "          document.querySelector('#df-9cdfeed7-1eb2-47fb-933c-6a564cc69e04 button.colab-df-convert');\n",
       "        buttonEl.style.display =\n",
       "          google.colab.kernel.accessAllowed ? 'block' : 'none';\n",
       "\n",
       "        async function convertToInteractive(key) {\n",
       "          const element = document.querySelector('#df-9cdfeed7-1eb2-47fb-933c-6a564cc69e04');\n",
       "          const dataTable =\n",
       "            await google.colab.kernel.invokeFunction('convertToInteractive',\n",
       "                                                     [key], {});\n",
       "          if (!dataTable) return;\n",
       "\n",
       "          const docLinkHtml = 'Like what you see? Visit the ' +\n",
       "            '<a target=\"_blank\" href=https://colab.research.google.com/notebooks/data_table.ipynb>data table notebook</a>'\n",
       "            + ' to learn more about interactive tables.';\n",
       "          element.innerHTML = '';\n",
       "          dataTable['output_type'] = 'display_data';\n",
       "          await google.colab.output.renderOutput(dataTable, element);\n",
       "          const docLink = document.createElement('div');\n",
       "          docLink.innerHTML = docLinkHtml;\n",
       "          element.appendChild(docLink);\n",
       "        }\n",
       "      </script>\n",
       "    </div>\n",
       "  </div>\n",
       "  "
      ],
      "text/plain": [
       "          stars  Alcohol  BikeParking  BusinessAcceptsBitcoin  \\\n",
       "0      positivo        0            1                       0   \n",
       "2      negativo        0            0                       0   \n",
       "3      positivo        0            0                       0   \n",
       "4        neutro        0            0                       0   \n",
       "5      positivo        1            0                       0   \n",
       "...         ...      ...          ...                     ...   \n",
       "34843  positivo        1            1                       0   \n",
       "34844    neutro        2            1                       0   \n",
       "34845  positivo        0            1                       0   \n",
       "34846  positivo        0            1                       0   \n",
       "34847  positivo        0            1                       0   \n",
       "\n",
       "       BusinessAcceptsCreditCards  BusinessParking  ByAppointmentOnly  Caters  \\\n",
       "0                               0                1                  0       1   \n",
       "2                               1                1                  0       0   \n",
       "3                               0                1                  0       0   \n",
       "4                               1                1                  0       0   \n",
       "5                               1                1                  0       0   \n",
       "...                           ...              ...                ...     ...   \n",
       "34843                           1                1                  0       0   \n",
       "34844                           1                1                  0       1   \n",
       "34845                           1                1                  0       0   \n",
       "34846                           1                1                  0       1   \n",
       "34847                           1                1                  0       1   \n",
       "\n",
       "       DogsAllowed  DriveThru  ...  dinner  brunch  breakfast  rew_count_2016  \\\n",
       "0                0          0  ...       0       0          0              45   \n",
       "2                0          1  ...       0       0          0               9   \n",
       "3                0          0  ...       0       0          0              11   \n",
       "4                0          0  ...       0       0          0              24   \n",
       "5                0          0  ...       1       0          0             250   \n",
       "...            ...        ...  ...     ...     ...        ...             ...   \n",
       "34843            0          1  ...       1       0          0             740   \n",
       "34844            0          0  ...       0       0          0               7   \n",
       "34845            0          0  ...       0       0          0              23   \n",
       "34846            0          0  ...       1       0          0              35   \n",
       "34847            0          0  ...       0       0          0              14   \n",
       "\n",
       "       vander_comp_mean  date_min  date_max  cat_value_mean  weekend_hours  \\\n",
       "0              0.671747      2016      2021       26.090909             28   \n",
       "2              0.355822      2016      2021        7.636364             22   \n",
       "3              0.743791      2018      2022       22.727273             10   \n",
       "4              0.101208      2016      2021       10.727273             32   \n",
       "5              0.803010      2017      2022       12.818182             18   \n",
       "...                 ...       ...       ...             ...            ...   \n",
       "34843          0.798336      2016      2022       22.272727             24   \n",
       "34844          0.370843      2016      2020        8.545455              0   \n",
       "34845          0.422991      2016      2021       12.272727              0   \n",
       "34846          0.869034      2017      2021        2.454545             30   \n",
       "34847          0.776479      2016      2021       30.272727              0   \n",
       "\n",
       "       lab_day_hours  \n",
       "0                 66  \n",
       "2                 50  \n",
       "3                 15  \n",
       "4                 80  \n",
       "5                 33  \n",
       "...              ...  \n",
       "34843             46  \n",
       "34844              0  \n",
       "34845             17  \n",
       "34846             48  \n",
       "34847              0  \n",
       "\n",
       "[33509 rows x 47 columns]"
      ]
     },
     "execution_count": 74,
     "metadata": {},
     "output_type": "execute_result"
    }
   ],
   "source": [
    "restaurants"
   ]
  },
  {
   "cell_type": "code",
   "execution_count": null,
   "metadata": {
    "id": "rcHi6G0Zc5d6"
   },
   "outputs": [],
   "source": [
    "X = restaurants.drop(['stars'],axis=1)\n",
    "y = restaurants['stars']"
   ]
  },
  {
   "cell_type": "code",
   "execution_count": null,
   "metadata": {
    "id": "5Hxq2asqc5g6"
   },
   "outputs": [],
   "source": [
    "X_train, X_test, y_train, y_test = train_test_split(X, y, test_size=0.20, random_state = 42, stratify = y)"
   ]
  },
  {
   "cell_type": "code",
   "execution_count": null,
   "metadata": {
    "colab": {
     "base_uri": "https://localhost:8080/"
    },
    "executionInfo": {
     "elapsed": 404,
     "status": "ok",
     "timestamp": 1672941778296,
     "user": {
      "displayName": "Pablo Soto López",
      "userId": "08112082177697405353"
     },
     "user_tz": -60
    },
    "id": "3ZS_NEBXj3xz",
    "outputId": "c779eba3-0941-4e09-b14f-e314a72290cf"
   },
   "outputs": [
    {
     "name": "stdout",
     "output_type": "stream",
     "text": [
      "<class 'pandas.core.frame.DataFrame'>\n",
      "Int64Index: 26807 entries, 16890 to 15835\n",
      "Data columns (total 46 columns):\n",
      " #   Column                      Non-Null Count  Dtype  \n",
      "---  ------                      --------------  -----  \n",
      " 0   Alcohol                     26807 non-null  int64  \n",
      " 1   BikeParking                 26807 non-null  int64  \n",
      " 2   BusinessAcceptsBitcoin      26807 non-null  int64  \n",
      " 3   BusinessAcceptsCreditCards  26807 non-null  int64  \n",
      " 4   BusinessParking             26807 non-null  int64  \n",
      " 5   ByAppointmentOnly           26807 non-null  int64  \n",
      " 6   Caters                      26807 non-null  int64  \n",
      " 7   DogsAllowed                 26807 non-null  int64  \n",
      " 8   DriveThru                   26807 non-null  int64  \n",
      " 9   GoodForKids                 26807 non-null  int64  \n",
      " 10  HappyHour                   26807 non-null  int64  \n",
      " 11  HasTV                       26807 non-null  int64  \n",
      " 12  Music                       26807 non-null  int64  \n",
      " 13  NoiseLevel                  26807 non-null  int64  \n",
      " 14  OutdoorSeating              26807 non-null  int64  \n",
      " 15  RestaurantsAttire           26807 non-null  int64  \n",
      " 16  RestaurantsDelivery         26807 non-null  int64  \n",
      " 17  RestaurantsGoodForGroups    26807 non-null  int64  \n",
      " 18  RestaurantsPriceRange2      26807 non-null  int64  \n",
      " 19  RestaurantsReservations     26807 non-null  int64  \n",
      " 20  RestaurantsTableService     26807 non-null  int64  \n",
      " 21  RestaurantsTakeOut          26807 non-null  int64  \n",
      " 22  WheelchairAccessible        26807 non-null  int64  \n",
      " 23  WiFi                        26807 non-null  int64  \n",
      " 24  romantic                    26807 non-null  int64  \n",
      " 25  intimate                    26807 non-null  int64  \n",
      " 26  touristy                    26807 non-null  int64  \n",
      " 27  hipster                     26807 non-null  int64  \n",
      " 28  divey                       26807 non-null  int64  \n",
      " 29  classy                      26807 non-null  int64  \n",
      " 30  trendy                      26807 non-null  int64  \n",
      " 31  upscale                     26807 non-null  int64  \n",
      " 32  casual                      26807 non-null  int64  \n",
      " 33  dessert                     26807 non-null  int64  \n",
      " 34  latenight                   26807 non-null  int64  \n",
      " 35  lunch                       26807 non-null  int64  \n",
      " 36  dinner                      26807 non-null  int64  \n",
      " 37  brunch                      26807 non-null  int64  \n",
      " 38  breakfast                   26807 non-null  int64  \n",
      " 39  rew_count_2016              26807 non-null  int64  \n",
      " 40  vander_comp_mean            26807 non-null  float64\n",
      " 41  date_min                    26807 non-null  int64  \n",
      " 42  date_max                    26807 non-null  int64  \n",
      " 43  cat_value_mean              26807 non-null  float64\n",
      " 44  weekend_hours               26807 non-null  int64  \n",
      " 45  lab_day_hours               26807 non-null  int64  \n",
      "dtypes: float64(2), int64(44)\n",
      "memory usage: 9.6 MB\n"
     ]
    }
   ],
   "source": [
    "X_train.info()"
   ]
  },
  {
   "cell_type": "code",
   "execution_count": null,
   "metadata": {
    "colab": {
     "base_uri": "https://localhost:8080/"
    },
    "executionInfo": {
     "elapsed": 5295,
     "status": "ok",
     "timestamp": 1672941799750,
     "user": {
      "displayName": "Pablo Soto López",
      "userId": "08112082177697405353"
     },
     "user_tz": -60
    },
    "id": "uvKYGaIZc5j7",
    "outputId": "e52194ee-73c3-4bc2-cec4-d8a2f2d023ce"
   },
   "outputs": [
    {
     "name": "stdout",
     "output_type": "stream",
     "text": [
      "Looking in indexes: https://pypi.org/simple, https://us-python.pkg.dev/colab-wheels/public/simple/\n",
      "Collecting category_encoders\n",
      "  Downloading category_encoders-2.5.1.post0-py2.py3-none-any.whl (72 kB)\n",
      "\u001b[2K     \u001b[90m━━━━━━━━━━━━━━━━━━━━━━━━━━━━━━━━━━━━━━━━\u001b[0m \u001b[32m72.4/72.4 KB\u001b[0m \u001b[31m1.9 MB/s\u001b[0m eta \u001b[36m0:00:00\u001b[0m\n",
      "\u001b[?25hRequirement already satisfied: numpy>=1.14.0 in /usr/local/lib/python3.8/dist-packages (from category_encoders) (1.21.6)\n",
      "Requirement already satisfied: scikit-learn>=0.20.0 in /usr/local/lib/python3.8/dist-packages (from category_encoders) (1.0.2)\n",
      "Requirement already satisfied: statsmodels>=0.9.0 in /usr/local/lib/python3.8/dist-packages (from category_encoders) (0.12.2)\n",
      "Requirement already satisfied: pandas>=1.0.5 in /usr/local/lib/python3.8/dist-packages (from category_encoders) (1.3.5)\n",
      "Requirement already satisfied: patsy>=0.5.1 in /usr/local/lib/python3.8/dist-packages (from category_encoders) (0.5.3)\n",
      "Requirement already satisfied: scipy>=1.0.0 in /usr/local/lib/python3.8/dist-packages (from category_encoders) (1.7.3)\n",
      "Requirement already satisfied: pytz>=2017.3 in /usr/local/lib/python3.8/dist-packages (from pandas>=1.0.5->category_encoders) (2022.7)\n",
      "Requirement already satisfied: python-dateutil>=2.7.3 in /usr/local/lib/python3.8/dist-packages (from pandas>=1.0.5->category_encoders) (2.8.2)\n",
      "Requirement already satisfied: six in /usr/local/lib/python3.8/dist-packages (from patsy>=0.5.1->category_encoders) (1.15.0)\n",
      "Requirement already satisfied: threadpoolctl>=2.0.0 in /usr/local/lib/python3.8/dist-packages (from scikit-learn>=0.20.0->category_encoders) (3.1.0)\n",
      "Requirement already satisfied: joblib>=0.11 in /usr/local/lib/python3.8/dist-packages (from scikit-learn>=0.20.0->category_encoders) (1.2.0)\n",
      "Installing collected packages: category_encoders\n",
      "Successfully installed category_encoders-2.5.1.post0\n"
     ]
    }
   ],
   "source": [
    "!pip install category_encoders\n",
    "import category_encoders as ce\n",
    "from sklearn.preprocessing import OneHotEncoder"
   ]
  },
  {
   "cell_type": "code",
   "execution_count": null,
   "metadata": {
    "id": "I3t3agNyc5m-"
   },
   "outputs": [],
   "source": [
    "\n",
    "\n",
    "list_columns_cat = [col for col in X_train.columns if col in categorical_vars ]\n",
    "list_other = list(set(X_train.columns)-set(list_columns_cat))\n",
    "one = ce.OneHotEncoder(cols=list_columns_cat)\n",
    "model = one.fit(X_train, y_train)"
   ]
  },
  {
   "cell_type": "code",
   "execution_count": null,
   "metadata": {
    "colab": {
     "base_uri": "https://localhost:8080/"
    },
    "executionInfo": {
     "elapsed": 499,
     "status": "ok",
     "timestamp": 1672941804673,
     "user": {
      "displayName": "Pablo Soto López",
      "userId": "08112082177697405353"
     },
     "user_tz": -60
    },
    "id": "GghXu282jY_a",
    "outputId": "0bfd6089-1d9b-482a-95b7-942822328daf"
   },
   "outputs": [
    {
     "data": {
      "text/plain": [
       "65"
      ]
     },
     "execution_count": 80,
     "metadata": {},
     "output_type": "execute_result"
    }
   ],
   "source": [
    "X_train_t = model.transform(X_train, y_train)\n",
    "X_test_t = model.transform(X_test, y_test)\n",
    "len(list(X_train_t.columns))"
   ]
  },
  {
   "cell_type": "code",
   "execution_count": null,
   "metadata": {
    "colab": {
     "base_uri": "https://localhost:8080/"
    },
    "executionInfo": {
     "elapsed": 387,
     "status": "ok",
     "timestamp": 1672941810672,
     "user": {
      "displayName": "Pablo Soto López",
      "userId": "08112082177697405353"
     },
     "user_tz": -60
    },
    "id": "oGwtnRhhjmpC",
    "outputId": "4f40d805-6495-42a2-b5f0-7c2c21d230f6"
   },
   "outputs": [
    {
     "data": {
      "text/plain": [
       "Index(['Alcohol_1', 'Alcohol_2', 'Alcohol_3', 'Alcohol_4', 'BikeParking',\n",
       "       'BusinessAcceptsBitcoin', 'BusinessAcceptsCreditCards',\n",
       "       'BusinessParking', 'ByAppointmentOnly', 'Caters', 'DogsAllowed',\n",
       "       'DriveThru', 'GoodForKids', 'HappyHour', 'HasTV', 'Music',\n",
       "       'NoiseLevel_1', 'NoiseLevel_2', 'NoiseLevel_3', 'NoiseLevel_4',\n",
       "       'NoiseLevel_5', 'NoiseLevel_6', 'OutdoorSeating', 'RestaurantsAttire_1',\n",
       "       'RestaurantsAttire_2', 'RestaurantsAttire_3', 'RestaurantsAttire_4',\n",
       "       'RestaurantsAttire_5', 'RestaurantsDelivery',\n",
       "       'RestaurantsGoodForGroups', 'RestaurantsPriceRange2_1',\n",
       "       'RestaurantsPriceRange2_2', 'RestaurantsPriceRange2_3',\n",
       "       'RestaurantsPriceRange2_4', 'RestaurantsPriceRange2_5',\n",
       "       'RestaurantsReservations', 'RestaurantsTableService',\n",
       "       'RestaurantsTakeOut', 'WheelchairAccessible', 'WiFi_1', 'WiFi_2',\n",
       "       'WiFi_3', 'WiFi_4', 'romantic', 'intimate', 'touristy', 'hipster',\n",
       "       'divey', 'classy', 'trendy', 'upscale', 'casual', 'dessert',\n",
       "       'latenight', 'lunch', 'dinner', 'brunch', 'breakfast', 'rew_count_2016',\n",
       "       'vander_comp_mean', 'date_min', 'date_max', 'cat_value_mean',\n",
       "       'weekend_hours', 'lab_day_hours'],\n",
       "      dtype='object')"
      ]
     },
     "execution_count": 81,
     "metadata": {},
     "output_type": "execute_result"
    }
   ],
   "source": [
    "X_train_t.columns"
   ]
  },
  {
   "cell_type": "code",
   "execution_count": null,
   "metadata": {
    "id": "FSn_3uPrjZDA"
   },
   "outputs": [],
   "source": [
    "# Estandarizamos todas las variables, media 0, desviacion estandar 1.\n",
    "\n",
    "scaler = StandardScaler()\n",
    "model_scaled = scaler.fit(X_train_t)\n",
    "X_train_scaled = pd.DataFrame(scaler.transform(X_train_t), columns = X_train_t.columns, index = X_train_t.index)\n",
    "X_test_scaled = pd.DataFrame(scaler.transform(X_test_t), columns = X_test_t.columns, index = X_test.index)"
   ]
  },
  {
   "cell_type": "markdown",
   "metadata": {
    "id": "rYWlMmRv1GRy"
   },
   "source": [
    "## Selection of characteristics.\n",
    "From the different methods of variable selection, we can see that we will not need a reduced number of variables to make our classification.\n",
    "We are going to make a selection based on the set of variables selected by logistic regression, random-forrest."
   ]
  },
  {
   "cell_type": "code",
   "execution_count": null,
   "metadata": {
    "colab": {
     "base_uri": "https://localhost:8080/"
    },
    "executionInfo": {
     "elapsed": 4335,
     "status": "ok",
     "timestamp": 1672941824523,
     "user": {
      "displayName": "Pablo Soto López",
      "userId": "08112082177697405353"
     },
     "user_tz": -60
    },
    "id": "Q-RE148klEdR",
    "outputId": "cb9a9d9a-fe6c-44d3-ea5a-c88af3230656"
   },
   "outputs": [
    {
     "name": "stdout",
     "output_type": "stream",
     "text": [
      "12 selected features\n"
     ]
    }
   ],
   "source": [
    "from sklearn.feature_selection import SelectFromModel\n",
    "from sklearn.linear_model import LogisticRegression\n",
    "\n",
    "embeded_lr_selector = SelectFromModel(LogisticRegression(penalty = \"l2\", solver = 'newton-cg'), max_features = 40)\n",
    "embeded_lr_selector.fit(X_train_scaled, y_train)\n",
    "\n",
    "embeded_lr_support = embeded_lr_selector.get_support()\n",
    "embeded_lr_feature = X_train_scaled.loc[:, embeded_lr_support].columns.tolist()\n",
    "print(str(len(embeded_lr_feature)), 'selected features')"
   ]
  },
  {
   "cell_type": "code",
   "execution_count": null,
   "metadata": {
    "colab": {
     "base_uri": "https://localhost:8080/"
    },
    "executionInfo": {
     "elapsed": 579,
     "status": "ok",
     "timestamp": 1672941829332,
     "user": {
      "displayName": "Pablo Soto López",
      "userId": "08112082177697405353"
     },
     "user_tz": -60
    },
    "id": "j5gcUOwXlEgs",
    "outputId": "c2f80067-9b8b-4111-cb2c-8a0968cafc28"
   },
   "outputs": [
    {
     "data": {
      "text/plain": [
       "['Alcohol_2',\n",
       " 'BikeParking',\n",
       " 'Caters',\n",
       " 'DriveThru',\n",
       " 'romantic',\n",
       " 'intimate',\n",
       " 'hipster',\n",
       " 'upscale',\n",
       " 'rew_count_2016',\n",
       " 'vander_comp_mean',\n",
       " 'date_max',\n",
       " 'cat_value_mean']"
      ]
     },
     "execution_count": 84,
     "metadata": {},
     "output_type": "execute_result"
    }
   ],
   "source": [
    "embeded_lr_feature"
   ]
  },
  {
   "cell_type": "code",
   "execution_count": null,
   "metadata": {
    "colab": {
     "base_uri": "https://localhost:8080/"
    },
    "executionInfo": {
     "elapsed": 1455,
     "status": "ok",
     "timestamp": 1672941838036,
     "user": {
      "displayName": "Pablo Soto López",
      "userId": "08112082177697405353"
     },
     "user_tz": -60
    },
    "id": "B6jhBZRCsaN-",
    "outputId": "24a995ab-fbe1-4821-bdd1-7e77c0e87cab"
   },
   "outputs": [
    {
     "name": "stdout",
     "output_type": "stream",
     "text": [
      "8 selected features\n"
     ]
    }
   ],
   "source": [
    "from sklearn.feature_selection import SelectFromModel\n",
    "from sklearn.ensemble import RandomForestClassifier\n",
    "\n",
    "embeded_rf_selector = SelectFromModel(RandomForestClassifier(n_estimators = 25), max_features = 40)\n",
    "embeded_rf_selector.fit(X_train_scaled , y_train)\n",
    "\n",
    "embeded_rf_support = embeded_rf_selector.get_support()\n",
    "embeded_rf_feature = X_train_scaled.loc[:, embeded_rf_support].columns.tolist()\n",
    "print(str(len(embeded_rf_feature)), 'selected features')"
   ]
  },
  {
   "cell_type": "code",
   "execution_count": null,
   "metadata": {
    "colab": {
     "base_uri": "https://localhost:8080/"
    },
    "executionInfo": {
     "elapsed": 3,
     "status": "ok",
     "timestamp": 1672941841327,
     "user": {
      "displayName": "Pablo Soto López",
      "userId": "08112082177697405353"
     },
     "user_tz": -60
    },
    "id": "SbnVPImDsaQ8",
    "outputId": "ef35e563-8f3e-4b2f-b8e6-9b7afa5291b5"
   },
   "outputs": [
    {
     "data": {
      "text/plain": [
       "['DriveThru',\n",
       " 'rew_count_2016',\n",
       " 'vander_comp_mean',\n",
       " 'date_min',\n",
       " 'date_max',\n",
       " 'cat_value_mean',\n",
       " 'weekend_hours',\n",
       " 'lab_day_hours']"
      ]
     },
     "execution_count": 86,
     "metadata": {},
     "output_type": "execute_result"
    }
   ],
   "source": [
    "embeded_rf_feature"
   ]
  },
  {
   "cell_type": "code",
   "execution_count": null,
   "metadata": {
    "colab": {
     "base_uri": "https://localhost:8080/"
    },
    "executionInfo": {
     "elapsed": 5512,
     "status": "ok",
     "timestamp": 1672941857226,
     "user": {
      "displayName": "Pablo Soto López",
      "userId": "08112082177697405353"
     },
     "user_tz": -60
    },
    "id": "44ZTytE0_KjR",
    "outputId": "2b0e4c59-d51e-42c5-9738-cfaad716348c"
   },
   "outputs": [
    {
     "name": "stdout",
     "output_type": "stream",
     "text": [
      "Looking in indexes: https://pypi.org/simple, https://us-python.pkg.dev/colab-wheels/public/simple/\n",
      "Collecting Boruta\n",
      "  Downloading Boruta-0.3-py3-none-any.whl (56 kB)\n",
      "\u001b[2K     \u001b[90m━━━━━━━━━━━━━━━━━━━━━━━━━━━━━━━━━━━━━━━━\u001b[0m \u001b[32m56.6/56.6 KB\u001b[0m \u001b[31m1.6 MB/s\u001b[0m eta \u001b[36m0:00:00\u001b[0m\n",
      "\u001b[?25hRequirement already satisfied: scikit-learn>=0.17.1 in /usr/local/lib/python3.8/dist-packages (from Boruta) (1.0.2)\n",
      "Requirement already satisfied: numpy>=1.10.4 in /usr/local/lib/python3.8/dist-packages (from Boruta) (1.21.6)\n",
      "Requirement already satisfied: scipy>=0.17.0 in /usr/local/lib/python3.8/dist-packages (from Boruta) (1.7.3)\n",
      "Requirement already satisfied: threadpoolctl>=2.0.0 in /usr/local/lib/python3.8/dist-packages (from scikit-learn>=0.17.1->Boruta) (3.1.0)\n",
      "Requirement already satisfied: joblib>=0.11 in /usr/local/lib/python3.8/dist-packages (from scikit-learn>=0.17.1->Boruta) (1.2.0)\n",
      "Installing collected packages: Boruta\n",
      "Successfully installed Boruta-0.3\n"
     ]
    }
   ],
   "source": [
    "!pip install Boruta"
   ]
  },
  {
   "cell_type": "code",
   "execution_count": null,
   "metadata": {
    "colab": {
     "base_uri": "https://localhost:8080/"
    },
    "executionInfo": {
     "elapsed": 16110,
     "status": "ok",
     "timestamp": 1672941877804,
     "user": {
      "displayName": "Pablo Soto López",
      "userId": "08112082177697405353"
     },
     "user_tz": -60
    },
    "id": "nG6pvSDY-7h1",
    "outputId": "7977d45b-53d8-404e-8108-6d5fcccb9a33"
   },
   "outputs": [
    {
     "name": "stdout",
     "output_type": "stream",
     "text": [
      "Iteration: \t1 / 40\n",
      "Confirmed: \t0\n",
      "Tentative: \t65\n",
      "Rejected: \t0\n",
      "Iteration: \t2 / 40\n",
      "Confirmed: \t0\n",
      "Tentative: \t65\n",
      "Rejected: \t0\n",
      "Iteration: \t3 / 40\n",
      "Confirmed: \t0\n",
      "Tentative: \t65\n",
      "Rejected: \t0\n",
      "Iteration: \t4 / 40\n",
      "Confirmed: \t0\n",
      "Tentative: \t65\n",
      "Rejected: \t0\n",
      "Iteration: \t5 / 40\n",
      "Confirmed: \t0\n",
      "Tentative: \t65\n",
      "Rejected: \t0\n",
      "Iteration: \t6 / 40\n",
      "Confirmed: \t0\n",
      "Tentative: \t65\n",
      "Rejected: \t0\n",
      "Iteration: \t7 / 40\n",
      "Confirmed: \t0\n",
      "Tentative: \t65\n",
      "Rejected: \t0\n",
      "Iteration: \t8 / 40\n",
      "Confirmed: \t9\n",
      "Tentative: \t10\n",
      "Rejected: \t46\n",
      "Iteration: \t9 / 40\n",
      "Confirmed: \t9\n",
      "Tentative: \t10\n",
      "Rejected: \t46\n",
      "Iteration: \t10 / 40\n",
      "Confirmed: \t9\n",
      "Tentative: \t10\n",
      "Rejected: \t46\n",
      "Iteration: \t11 / 40\n",
      "Confirmed: \t9\n",
      "Tentative: \t10\n",
      "Rejected: \t46\n",
      "Iteration: \t12 / 40\n",
      "Confirmed: \t9\n",
      "Tentative: \t6\n",
      "Rejected: \t50\n",
      "Iteration: \t13 / 40\n",
      "Confirmed: \t9\n",
      "Tentative: \t6\n",
      "Rejected: \t50\n",
      "Iteration: \t14 / 40\n",
      "Confirmed: \t9\n",
      "Tentative: \t6\n",
      "Rejected: \t50\n",
      "Iteration: \t15 / 40\n",
      "Confirmed: \t9\n",
      "Tentative: \t6\n",
      "Rejected: \t50\n",
      "Iteration: \t16 / 40\n",
      "Confirmed: \t9\n",
      "Tentative: \t5\n",
      "Rejected: \t51\n",
      "Iteration: \t17 / 40\n",
      "Confirmed: \t9\n",
      "Tentative: \t5\n",
      "Rejected: \t51\n",
      "Iteration: \t18 / 40\n",
      "Confirmed: \t9\n",
      "Tentative: \t5\n",
      "Rejected: \t51\n",
      "Iteration: \t19 / 40\n",
      "Confirmed: \t9\n",
      "Tentative: \t4\n",
      "Rejected: \t52\n",
      "Iteration: \t20 / 40\n",
      "Confirmed: \t9\n",
      "Tentative: \t4\n",
      "Rejected: \t52\n",
      "Iteration: \t21 / 40\n",
      "Confirmed: \t9\n",
      "Tentative: \t4\n",
      "Rejected: \t52\n",
      "Iteration: \t22 / 40\n",
      "Confirmed: \t9\n",
      "Tentative: \t4\n",
      "Rejected: \t52\n",
      "Iteration: \t23 / 40\n",
      "Confirmed: \t9\n",
      "Tentative: \t4\n",
      "Rejected: \t52\n",
      "Iteration: \t24 / 40\n",
      "Confirmed: \t9\n",
      "Tentative: \t4\n",
      "Rejected: \t52\n",
      "Iteration: \t25 / 40\n",
      "Confirmed: \t9\n",
      "Tentative: \t4\n",
      "Rejected: \t52\n",
      "Iteration: \t26 / 40\n",
      "Confirmed: \t9\n",
      "Tentative: \t4\n",
      "Rejected: \t52\n",
      "Iteration: \t27 / 40\n",
      "Confirmed: \t9\n",
      "Tentative: \t4\n",
      "Rejected: \t52\n",
      "Iteration: \t28 / 40\n",
      "Confirmed: \t9\n",
      "Tentative: \t4\n",
      "Rejected: \t52\n",
      "Iteration: \t29 / 40\n",
      "Confirmed: \t10\n",
      "Tentative: \t2\n",
      "Rejected: \t53\n",
      "Iteration: \t30 / 40\n",
      "Confirmed: \t10\n",
      "Tentative: \t2\n",
      "Rejected: \t53\n",
      "Iteration: \t31 / 40\n",
      "Confirmed: \t10\n",
      "Tentative: \t2\n",
      "Rejected: \t53\n",
      "Iteration: \t32 / 40\n",
      "Confirmed: \t10\n",
      "Tentative: \t2\n",
      "Rejected: \t53\n",
      "Iteration: \t33 / 40\n",
      "Confirmed: \t10\n",
      "Tentative: \t2\n",
      "Rejected: \t53\n",
      "Iteration: \t34 / 40\n",
      "Confirmed: \t10\n",
      "Tentative: \t2\n",
      "Rejected: \t53\n",
      "Iteration: \t35 / 40\n",
      "Confirmed: \t10\n",
      "Tentative: \t2\n",
      "Rejected: \t53\n",
      "Iteration: \t36 / 40\n",
      "Confirmed: \t10\n",
      "Tentative: \t2\n",
      "Rejected: \t53\n",
      "Iteration: \t37 / 40\n",
      "Confirmed: \t10\n",
      "Tentative: \t1\n",
      "Rejected: \t54\n",
      "Iteration: \t38 / 40\n",
      "Confirmed: \t10\n",
      "Tentative: \t1\n",
      "Rejected: \t54\n",
      "Iteration: \t39 / 40\n",
      "Confirmed: \t10\n",
      "Tentative: \t1\n",
      "Rejected: \t54\n",
      "\n",
      "\n",
      "BorutaPy finished running.\n",
      "\n",
      "Iteration: \t40 / 40\n",
      "Confirmed: \t10\n",
      "Tentative: \t0\n",
      "Rejected: \t54\n"
     ]
    },
    {
     "data": {
      "text/plain": [
       "array([31,  1, 22, 14, 15, 54, 29, 30, 50,  8, 10,  1, 13, 22,  6, 25, 18,\n",
       "       33, 32, 37, 37, 56, 21,  3,  8, 49, 55, 51,  1, 17, 12,  5,  1, 43,\n",
       "       51, 24,  7, 27,  2, 26, 28, 33, 47, 46, 45, 48, 35, 44, 19, 35, 53,\n",
       "       10, 42, 40, 16, 20, 40, 39,  1,  1,  1,  3,  1,  1,  1])"
      ]
     },
     "execution_count": 88,
     "metadata": {},
     "output_type": "execute_result"
    }
   ],
   "source": [
    "from boruta import BorutaPy\n",
    "# sampling in proportion to y labels\n",
    "rf = RandomForestClassifier(n_jobs=-1, max_depth=10) # cambiar los hiperparametros\n",
    "\n",
    "# define Boruta feature selection method\n",
    "feat_selector = BorutaPy(rf, n_estimators=15, max_iter=40,verbose=2, random_state=1)\n",
    "\n",
    "# find all relevant features \n",
    "feat_selector.fit(X_train_t.values, y_train.values) # Importante poner el .values al dataframe, sino dará error\n",
    "\n",
    "# check selected features - first 15 features are selected\n",
    "feat_selector.support_\n",
    "\n",
    "# check ranking of features\n",
    "feat_selector.ranking_"
   ]
  },
  {
   "cell_type": "code",
   "execution_count": null,
   "metadata": {
    "colab": {
     "base_uri": "https://localhost:8080/"
    },
    "executionInfo": {
     "elapsed": 419,
     "status": "ok",
     "timestamp": 1672942040990,
     "user": {
      "displayName": "Pablo Soto López",
      "userId": "08112082177697405353"
     },
     "user_tz": -60
    },
    "id": "u7z4_XOa-7ky",
    "outputId": "1d522849-9ef6-4183-a941-db60c43d3d0d"
   },
   "outputs": [
    {
     "name": "stdout",
     "output_type": "stream",
     "text": [
      "10 selected features\n"
     ]
    }
   ],
   "source": [
    "embeded_bor_support = feat_selector.support_\n",
    "embeded_bor_feature = X_train_t.loc[:, embeded_bor_support].columns.tolist()\n",
    "print(str(len(embeded_bor_feature)), 'selected features')"
   ]
  },
  {
   "cell_type": "code",
   "execution_count": null,
   "metadata": {
    "colab": {
     "base_uri": "https://localhost:8080/"
    },
    "executionInfo": {
     "elapsed": 475,
     "status": "ok",
     "timestamp": 1672942046817,
     "user": {
      "displayName": "Pablo Soto López",
      "userId": "08112082177697405353"
     },
     "user_tz": -60
    },
    "id": "bAmOchhR-7nu",
    "outputId": "2f3f59ee-3cdd-4bf6-911b-3981868807eb"
   },
   "outputs": [
    {
     "data": {
      "text/plain": [
       "['Alcohol_2',\n",
       " 'DriveThru',\n",
       " 'RestaurantsDelivery',\n",
       " 'RestaurantsPriceRange2_3',\n",
       " 'rew_count_2016',\n",
       " 'vander_comp_mean',\n",
       " 'date_min',\n",
       " 'cat_value_mean',\n",
       " 'weekend_hours',\n",
       " 'lab_day_hours']"
      ]
     },
     "execution_count": 91,
     "metadata": {},
     "output_type": "execute_result"
    }
   ],
   "source": [
    "embeded_bor_feature"
   ]
  },
  {
   "cell_type": "markdown",
   "metadata": {
    "id": "orC0hVNuADis"
   },
   "source": [
    "## Variable selection.\n",
    "Considering the variables selected with SelectModel and Boruta, we are going to stay for the models with ['Alcohol_2',\n",
    " 'DriveThru',\n",
    " 'RestaurantsDelivery',\n",
    " 'RestaurantsPriceRange2',\n",
    " 'rew_count_2016',\n",
    " 'vander_comp_mean',\n",
    " 'date_min',\n",
    " 'cat_value_mean',\n",
    " 'weekend_hours',\n",
    " 'lab_day_hours']. \n",
    " \n",
    " These will be the characteristics with which we will build our star prediction model."
   ]
  },
  {
   "cell_type": "code",
   "execution_count": null,
   "metadata": {
    "colab": {
     "base_uri": "https://localhost:8080/"
    },
    "executionInfo": {
     "elapsed": 234,
     "status": "ok",
     "timestamp": 1672767312764,
     "user": {
      "displayName": "Pablo Soto López",
      "userId": "08112082177697405353"
     },
     "user_tz": -60
    },
    "id": "kauK_Pjt-7qu",
    "outputId": "c3c9ac97-0736-4bc7-b04c-9ce31516c9d8"
   },
   "outputs": [
    {
     "data": {
      "text/plain": [
       "(33509, 47)"
      ]
     },
     "execution_count": 62,
     "metadata": {},
     "output_type": "execute_result"
    }
   ],
   "source": [
    "X.shape"
   ]
  },
  {
   "cell_type": "code",
   "execution_count": null,
   "metadata": {
    "colab": {
     "base_uri": "https://localhost:8080/"
    },
    "executionInfo": {
     "elapsed": 196,
     "status": "ok",
     "timestamp": 1672767314582,
     "user": {
      "displayName": "Pablo Soto López",
      "userId": "08112082177697405353"
     },
     "user_tz": -60
    },
    "id": "3Aj3qkEr-7t3",
    "outputId": "6c7eeb04-b2f5-468f-b078-4cf7c141377d"
   },
   "outputs": [
    {
     "data": {
      "text/plain": [
       "(33509, 10)"
      ]
     },
     "execution_count": 63,
     "metadata": {},
     "output_type": "execute_result"
    }
   ],
   "source": [
    "selected_rest_data.shape"
   ]
  },
  {
   "cell_type": "code",
   "execution_count": null,
   "metadata": {
    "id": "RL60QgnTLgDJ"
   },
   "outputs": [],
   "source": [
    "X_selected = X[['Alcohol', 'DriveThru', 'RestaurantsDelivery', 'RestaurantsPriceRange2','rew_count_2016','vander_comp_mean','date_min',\n",
    " 'cat_value_mean', 'weekend_hours', 'lab_day_hours']]"
   ]
  },
  {
   "cell_type": "code",
   "execution_count": null,
   "metadata": {
    "id": "sI-ATfBc-7xN"
   },
   "outputs": [],
   "source": [
    "restaurants_data_models=pd.concat([selected_rest_data,X_selected ],axis=1)"
   ]
  },
  {
   "cell_type": "code",
   "execution_count": null,
   "metadata": {
    "colab": {
     "base_uri": "https://localhost:8080/"
    },
    "executionInfo": {
     "elapsed": 4,
     "status": "ok",
     "timestamp": 1672942290938,
     "user": {
      "displayName": "Pablo Soto López",
      "userId": "08112082177697405353"
     },
     "user_tz": -60
    },
    "id": "zOeKpCtzGl68",
    "outputId": "3d7b4eb9-92f3-4c3d-f2f0-c330840bbde7"
   },
   "outputs": [
    {
     "data": {
      "text/plain": [
       "Index(['metro_area', 'business_id', 'stars', 'name', 'address', 'city',\n",
       "       'state', 'postal_code', 'latitude', 'longitude', 'Alcohol', 'DriveThru',\n",
       "       'RestaurantsDelivery', 'RestaurantsPriceRange2', 'rew_count_2016',\n",
       "       'vander_comp_mean', 'date_min', 'cat_value_mean', 'weekend_hours',\n",
       "       'lab_day_hours'],\n",
       "      dtype='object')"
      ]
     },
     "execution_count": 95,
     "metadata": {},
     "output_type": "execute_result"
    }
   ],
   "source": [
    "restaurants_data_models.columns"
   ]
  },
  {
   "cell_type": "code",
   "execution_count": null,
   "metadata": {
    "colab": {
     "base_uri": "https://localhost:8080/",
     "height": 748
    },
    "executionInfo": {
     "elapsed": 742,
     "status": "ok",
     "timestamp": 1672942297178,
     "user": {
      "displayName": "Pablo Soto López",
      "userId": "08112082177697405353"
     },
     "user_tz": -60
    },
    "id": "3wEfYf3BG0UG",
    "outputId": "3380f184-f98c-44f8-f82a-7b643c646979"
   },
   "outputs": [
    {
     "data": {
      "text/html": [
       "\n",
       "  <div id=\"df-f77d24c1-c23a-439f-9a06-45a276f54ed4\">\n",
       "    <div class=\"colab-df-container\">\n",
       "      <div>\n",
       "<style scoped>\n",
       "    .dataframe tbody tr th:only-of-type {\n",
       "        vertical-align: middle;\n",
       "    }\n",
       "\n",
       "    .dataframe tbody tr th {\n",
       "        vertical-align: top;\n",
       "    }\n",
       "\n",
       "    .dataframe thead th {\n",
       "        text-align: right;\n",
       "    }\n",
       "</style>\n",
       "<table border=\"1\" class=\"dataframe\">\n",
       "  <thead>\n",
       "    <tr style=\"text-align: right;\">\n",
       "      <th></th>\n",
       "      <th>metro_area</th>\n",
       "      <th>business_id</th>\n",
       "      <th>stars</th>\n",
       "      <th>name</th>\n",
       "      <th>address</th>\n",
       "      <th>city</th>\n",
       "      <th>state</th>\n",
       "      <th>postal_code</th>\n",
       "      <th>latitude</th>\n",
       "      <th>longitude</th>\n",
       "      <th>Alcohol</th>\n",
       "      <th>DriveThru</th>\n",
       "      <th>RestaurantsDelivery</th>\n",
       "      <th>RestaurantsPriceRange2</th>\n",
       "      <th>rew_count_2016</th>\n",
       "      <th>vander_comp_mean</th>\n",
       "      <th>date_min</th>\n",
       "      <th>cat_value_mean</th>\n",
       "      <th>weekend_hours</th>\n",
       "      <th>lab_day_hours</th>\n",
       "    </tr>\n",
       "  </thead>\n",
       "  <tbody>\n",
       "    <tr>\n",
       "      <th>0</th>\n",
       "      <td>Philadelphia</td>\n",
       "      <td>MTSW4McQd7CbVtyjqoe9mw</td>\n",
       "      <td>positivo</td>\n",
       "      <td>St Honore Pastries</td>\n",
       "      <td>935 Race St</td>\n",
       "      <td>Philadelphia</td>\n",
       "      <td>PA</td>\n",
       "      <td>19107</td>\n",
       "      <td>39.955505</td>\n",
       "      <td>-75.155564</td>\n",
       "      <td>0</td>\n",
       "      <td>0</td>\n",
       "      <td>0</td>\n",
       "      <td>0</td>\n",
       "      <td>45</td>\n",
       "      <td>0.671747</td>\n",
       "      <td>2016</td>\n",
       "      <td>26.090909</td>\n",
       "      <td>28</td>\n",
       "      <td>66</td>\n",
       "    </tr>\n",
       "    <tr>\n",
       "      <th>2</th>\n",
       "      <td>Nashville</td>\n",
       "      <td>bBDDEgkFA1Otx9Lfe7BZUQ</td>\n",
       "      <td>negativo</td>\n",
       "      <td>Sonic Drive-In</td>\n",
       "      <td>2312 Dickerson Pike</td>\n",
       "      <td>Nashville</td>\n",
       "      <td>TN</td>\n",
       "      <td>37207</td>\n",
       "      <td>36.208102</td>\n",
       "      <td>-86.768170</td>\n",
       "      <td>0</td>\n",
       "      <td>1</td>\n",
       "      <td>1</td>\n",
       "      <td>0</td>\n",
       "      <td>9</td>\n",
       "      <td>0.355822</td>\n",
       "      <td>2016</td>\n",
       "      <td>7.636364</td>\n",
       "      <td>22</td>\n",
       "      <td>50</td>\n",
       "    </tr>\n",
       "    <tr>\n",
       "      <th>3</th>\n",
       "      <td>Tampa</td>\n",
       "      <td>eEOYSgkmpB90uNA7lDOMRA</td>\n",
       "      <td>positivo</td>\n",
       "      <td>Vietnamese Food Truck</td>\n",
       "      <td></td>\n",
       "      <td>Tampa Bay</td>\n",
       "      <td>FL</td>\n",
       "      <td>33602</td>\n",
       "      <td>27.955269</td>\n",
       "      <td>-82.456320</td>\n",
       "      <td>0</td>\n",
       "      <td>0</td>\n",
       "      <td>0</td>\n",
       "      <td>1</td>\n",
       "      <td>11</td>\n",
       "      <td>0.743791</td>\n",
       "      <td>2018</td>\n",
       "      <td>22.727273</td>\n",
       "      <td>10</td>\n",
       "      <td>15</td>\n",
       "    </tr>\n",
       "    <tr>\n",
       "      <th>4</th>\n",
       "      <td>Indianapolis</td>\n",
       "      <td>il_Ro8jwPlHresjw9EGmBg</td>\n",
       "      <td>neutro</td>\n",
       "      <td>Denny's</td>\n",
       "      <td>8901 US 31 S</td>\n",
       "      <td>Indianapolis</td>\n",
       "      <td>IN</td>\n",
       "      <td>46227</td>\n",
       "      <td>39.637133</td>\n",
       "      <td>-86.127217</td>\n",
       "      <td>0</td>\n",
       "      <td>0</td>\n",
       "      <td>1</td>\n",
       "      <td>0</td>\n",
       "      <td>24</td>\n",
       "      <td>0.101208</td>\n",
       "      <td>2016</td>\n",
       "      <td>10.727273</td>\n",
       "      <td>32</td>\n",
       "      <td>80</td>\n",
       "    </tr>\n",
       "    <tr>\n",
       "      <th>5</th>\n",
       "      <td>Philadelphia</td>\n",
       "      <td>MUTTqe8uqyMdBl186RmNeA</td>\n",
       "      <td>positivo</td>\n",
       "      <td>Tuna Bar</td>\n",
       "      <td>205 Race St</td>\n",
       "      <td>Philadelphia</td>\n",
       "      <td>PA</td>\n",
       "      <td>19106</td>\n",
       "      <td>39.953949</td>\n",
       "      <td>-75.143226</td>\n",
       "      <td>1</td>\n",
       "      <td>0</td>\n",
       "      <td>1</td>\n",
       "      <td>2</td>\n",
       "      <td>250</td>\n",
       "      <td>0.803010</td>\n",
       "      <td>2017</td>\n",
       "      <td>12.818182</td>\n",
       "      <td>18</td>\n",
       "      <td>33</td>\n",
       "    </tr>\n",
       "    <tr>\n",
       "      <th>...</th>\n",
       "      <td>...</td>\n",
       "      <td>...</td>\n",
       "      <td>...</td>\n",
       "      <td>...</td>\n",
       "      <td>...</td>\n",
       "      <td>...</td>\n",
       "      <td>...</td>\n",
       "      <td>...</td>\n",
       "      <td>...</td>\n",
       "      <td>...</td>\n",
       "      <td>...</td>\n",
       "      <td>...</td>\n",
       "      <td>...</td>\n",
       "      <td>...</td>\n",
       "      <td>...</td>\n",
       "      <td>...</td>\n",
       "      <td>...</td>\n",
       "      <td>...</td>\n",
       "      <td>...</td>\n",
       "      <td>...</td>\n",
       "    </tr>\n",
       "    <tr>\n",
       "      <th>34843</th>\n",
       "      <td>Boise</td>\n",
       "      <td>w_4xUt-1AyY2ZwKtnjW0Xg</td>\n",
       "      <td>positivo</td>\n",
       "      <td>Bittercreek Alehouse</td>\n",
       "      <td>246 N 8th St</td>\n",
       "      <td>Boise</td>\n",
       "      <td>ID</td>\n",
       "      <td>83702</td>\n",
       "      <td>43.616590</td>\n",
       "      <td>-116.202383</td>\n",
       "      <td>1</td>\n",
       "      <td>1</td>\n",
       "      <td>0</td>\n",
       "      <td>2</td>\n",
       "      <td>740</td>\n",
       "      <td>0.798336</td>\n",
       "      <td>2016</td>\n",
       "      <td>22.272727</td>\n",
       "      <td>24</td>\n",
       "      <td>46</td>\n",
       "    </tr>\n",
       "    <tr>\n",
       "      <th>34844</th>\n",
       "      <td>Philadelphia</td>\n",
       "      <td>l9eLGG9ZKpLJzboZq-9LRQ</td>\n",
       "      <td>neutro</td>\n",
       "      <td>Wawa</td>\n",
       "      <td>19 N Bishop Ave</td>\n",
       "      <td>Clifton Heights</td>\n",
       "      <td>PA</td>\n",
       "      <td>19018</td>\n",
       "      <td>39.925656</td>\n",
       "      <td>-75.310344</td>\n",
       "      <td>2</td>\n",
       "      <td>0</td>\n",
       "      <td>1</td>\n",
       "      <td>0</td>\n",
       "      <td>7</td>\n",
       "      <td>0.370843</td>\n",
       "      <td>2016</td>\n",
       "      <td>8.545455</td>\n",
       "      <td>0</td>\n",
       "      <td>0</td>\n",
       "    </tr>\n",
       "    <tr>\n",
       "      <th>34845</th>\n",
       "      <td>Boise</td>\n",
       "      <td>cM6V90ExQD6KMSU3rRB5ZA</td>\n",
       "      <td>positivo</td>\n",
       "      <td>Dutch Bros Coffee</td>\n",
       "      <td>1181 N Milwaukee St</td>\n",
       "      <td>Boise</td>\n",
       "      <td>ID</td>\n",
       "      <td>83704</td>\n",
       "      <td>43.615401</td>\n",
       "      <td>-116.284689</td>\n",
       "      <td>0</td>\n",
       "      <td>0</td>\n",
       "      <td>0</td>\n",
       "      <td>0</td>\n",
       "      <td>23</td>\n",
       "      <td>0.422991</td>\n",
       "      <td>2016</td>\n",
       "      <td>12.272727</td>\n",
       "      <td>0</td>\n",
       "      <td>17</td>\n",
       "    </tr>\n",
       "    <tr>\n",
       "      <th>34846</th>\n",
       "      <td>Philadelphia</td>\n",
       "      <td>WnT9NIzQgLlILjPT0kEcsQ</td>\n",
       "      <td>positivo</td>\n",
       "      <td>Adelita Taqueria &amp; Restaurant</td>\n",
       "      <td>1108 S 9th St</td>\n",
       "      <td>Philadelphia</td>\n",
       "      <td>PA</td>\n",
       "      <td>19147</td>\n",
       "      <td>39.935982</td>\n",
       "      <td>-75.158665</td>\n",
       "      <td>0</td>\n",
       "      <td>0</td>\n",
       "      <td>1</td>\n",
       "      <td>2</td>\n",
       "      <td>35</td>\n",
       "      <td>0.869034</td>\n",
       "      <td>2017</td>\n",
       "      <td>2.454545</td>\n",
       "      <td>30</td>\n",
       "      <td>48</td>\n",
       "    </tr>\n",
       "    <tr>\n",
       "      <th>34847</th>\n",
       "      <td>Philadelphia</td>\n",
       "      <td>2O2K6SXPWv56amqxCECd4w</td>\n",
       "      <td>positivo</td>\n",
       "      <td>The Plum Pit</td>\n",
       "      <td>4405 Pennell Rd</td>\n",
       "      <td>Aston</td>\n",
       "      <td>DE</td>\n",
       "      <td>19014</td>\n",
       "      <td>39.856185</td>\n",
       "      <td>-75.427725</td>\n",
       "      <td>0</td>\n",
       "      <td>0</td>\n",
       "      <td>0</td>\n",
       "      <td>0</td>\n",
       "      <td>14</td>\n",
       "      <td>0.776479</td>\n",
       "      <td>2016</td>\n",
       "      <td>30.272727</td>\n",
       "      <td>0</td>\n",
       "      <td>0</td>\n",
       "    </tr>\n",
       "  </tbody>\n",
       "</table>\n",
       "<p>33509 rows × 20 columns</p>\n",
       "</div>\n",
       "      <button class=\"colab-df-convert\" onclick=\"convertToInteractive('df-f77d24c1-c23a-439f-9a06-45a276f54ed4')\"\n",
       "              title=\"Convert this dataframe to an interactive table.\"\n",
       "              style=\"display:none;\">\n",
       "        \n",
       "  <svg xmlns=\"http://www.w3.org/2000/svg\" height=\"24px\"viewBox=\"0 0 24 24\"\n",
       "       width=\"24px\">\n",
       "    <path d=\"M0 0h24v24H0V0z\" fill=\"none\"/>\n",
       "    <path d=\"M18.56 5.44l.94 2.06.94-2.06 2.06-.94-2.06-.94-.94-2.06-.94 2.06-2.06.94zm-11 1L8.5 8.5l.94-2.06 2.06-.94-2.06-.94L8.5 2.5l-.94 2.06-2.06.94zm10 10l.94 2.06.94-2.06 2.06-.94-2.06-.94-.94-2.06-.94 2.06-2.06.94z\"/><path d=\"M17.41 7.96l-1.37-1.37c-.4-.4-.92-.59-1.43-.59-.52 0-1.04.2-1.43.59L10.3 9.45l-7.72 7.72c-.78.78-.78 2.05 0 2.83L4 21.41c.39.39.9.59 1.41.59.51 0 1.02-.2 1.41-.59l7.78-7.78 2.81-2.81c.8-.78.8-2.07 0-2.86zM5.41 20L4 18.59l7.72-7.72 1.47 1.35L5.41 20z\"/>\n",
       "  </svg>\n",
       "      </button>\n",
       "      \n",
       "  <style>\n",
       "    .colab-df-container {\n",
       "      display:flex;\n",
       "      flex-wrap:wrap;\n",
       "      gap: 12px;\n",
       "    }\n",
       "\n",
       "    .colab-df-convert {\n",
       "      background-color: #E8F0FE;\n",
       "      border: none;\n",
       "      border-radius: 50%;\n",
       "      cursor: pointer;\n",
       "      display: none;\n",
       "      fill: #1967D2;\n",
       "      height: 32px;\n",
       "      padding: 0 0 0 0;\n",
       "      width: 32px;\n",
       "    }\n",
       "\n",
       "    .colab-df-convert:hover {\n",
       "      background-color: #E2EBFA;\n",
       "      box-shadow: 0px 1px 2px rgba(60, 64, 67, 0.3), 0px 1px 3px 1px rgba(60, 64, 67, 0.15);\n",
       "      fill: #174EA6;\n",
       "    }\n",
       "\n",
       "    [theme=dark] .colab-df-convert {\n",
       "      background-color: #3B4455;\n",
       "      fill: #D2E3FC;\n",
       "    }\n",
       "\n",
       "    [theme=dark] .colab-df-convert:hover {\n",
       "      background-color: #434B5C;\n",
       "      box-shadow: 0px 1px 3px 1px rgba(0, 0, 0, 0.15);\n",
       "      filter: drop-shadow(0px 1px 2px rgba(0, 0, 0, 0.3));\n",
       "      fill: #FFFFFF;\n",
       "    }\n",
       "  </style>\n",
       "\n",
       "      <script>\n",
       "        const buttonEl =\n",
       "          document.querySelector('#df-f77d24c1-c23a-439f-9a06-45a276f54ed4 button.colab-df-convert');\n",
       "        buttonEl.style.display =\n",
       "          google.colab.kernel.accessAllowed ? 'block' : 'none';\n",
       "\n",
       "        async function convertToInteractive(key) {\n",
       "          const element = document.querySelector('#df-f77d24c1-c23a-439f-9a06-45a276f54ed4');\n",
       "          const dataTable =\n",
       "            await google.colab.kernel.invokeFunction('convertToInteractive',\n",
       "                                                     [key], {});\n",
       "          if (!dataTable) return;\n",
       "\n",
       "          const docLinkHtml = 'Like what you see? Visit the ' +\n",
       "            '<a target=\"_blank\" href=https://colab.research.google.com/notebooks/data_table.ipynb>data table notebook</a>'\n",
       "            + ' to learn more about interactive tables.';\n",
       "          element.innerHTML = '';\n",
       "          dataTable['output_type'] = 'display_data';\n",
       "          await google.colab.output.renderOutput(dataTable, element);\n",
       "          const docLink = document.createElement('div');\n",
       "          docLink.innerHTML = docLinkHtml;\n",
       "          element.appendChild(docLink);\n",
       "        }\n",
       "      </script>\n",
       "    </div>\n",
       "  </div>\n",
       "  "
      ],
      "text/plain": [
       "         metro_area             business_id     stars  \\\n",
       "0      Philadelphia  MTSW4McQd7CbVtyjqoe9mw  positivo   \n",
       "2         Nashville  bBDDEgkFA1Otx9Lfe7BZUQ  negativo   \n",
       "3             Tampa  eEOYSgkmpB90uNA7lDOMRA  positivo   \n",
       "4      Indianapolis  il_Ro8jwPlHresjw9EGmBg    neutro   \n",
       "5      Philadelphia  MUTTqe8uqyMdBl186RmNeA  positivo   \n",
       "...             ...                     ...       ...   \n",
       "34843         Boise  w_4xUt-1AyY2ZwKtnjW0Xg  positivo   \n",
       "34844  Philadelphia  l9eLGG9ZKpLJzboZq-9LRQ    neutro   \n",
       "34845         Boise  cM6V90ExQD6KMSU3rRB5ZA  positivo   \n",
       "34846  Philadelphia  WnT9NIzQgLlILjPT0kEcsQ  positivo   \n",
       "34847  Philadelphia  2O2K6SXPWv56amqxCECd4w  positivo   \n",
       "\n",
       "                                name              address             city  \\\n",
       "0                 St Honore Pastries          935 Race St     Philadelphia   \n",
       "2                     Sonic Drive-In  2312 Dickerson Pike        Nashville   \n",
       "3              Vietnamese Food Truck                             Tampa Bay   \n",
       "4                            Denny's         8901 US 31 S     Indianapolis   \n",
       "5                           Tuna Bar          205 Race St     Philadelphia   \n",
       "...                              ...                  ...              ...   \n",
       "34843           Bittercreek Alehouse         246 N 8th St            Boise   \n",
       "34844                           Wawa      19 N Bishop Ave  Clifton Heights   \n",
       "34845              Dutch Bros Coffee  1181 N Milwaukee St            Boise   \n",
       "34846  Adelita Taqueria & Restaurant        1108 S 9th St     Philadelphia   \n",
       "34847                   The Plum Pit      4405 Pennell Rd            Aston   \n",
       "\n",
       "      state postal_code   latitude   longitude  Alcohol  DriveThru  \\\n",
       "0        PA       19107  39.955505  -75.155564        0          0   \n",
       "2        TN       37207  36.208102  -86.768170        0          1   \n",
       "3        FL       33602  27.955269  -82.456320        0          0   \n",
       "4        IN       46227  39.637133  -86.127217        0          0   \n",
       "5        PA       19106  39.953949  -75.143226        1          0   \n",
       "...     ...         ...        ...         ...      ...        ...   \n",
       "34843    ID       83702  43.616590 -116.202383        1          1   \n",
       "34844    PA       19018  39.925656  -75.310344        2          0   \n",
       "34845    ID       83704  43.615401 -116.284689        0          0   \n",
       "34846    PA       19147  39.935982  -75.158665        0          0   \n",
       "34847    DE       19014  39.856185  -75.427725        0          0   \n",
       "\n",
       "       RestaurantsDelivery  RestaurantsPriceRange2  rew_count_2016  \\\n",
       "0                        0                       0              45   \n",
       "2                        1                       0               9   \n",
       "3                        0                       1              11   \n",
       "4                        1                       0              24   \n",
       "5                        1                       2             250   \n",
       "...                    ...                     ...             ...   \n",
       "34843                    0                       2             740   \n",
       "34844                    1                       0               7   \n",
       "34845                    0                       0              23   \n",
       "34846                    1                       2              35   \n",
       "34847                    0                       0              14   \n",
       "\n",
       "       vander_comp_mean  date_min  cat_value_mean  weekend_hours  \\\n",
       "0              0.671747      2016       26.090909             28   \n",
       "2              0.355822      2016        7.636364             22   \n",
       "3              0.743791      2018       22.727273             10   \n",
       "4              0.101208      2016       10.727273             32   \n",
       "5              0.803010      2017       12.818182             18   \n",
       "...                 ...       ...             ...            ...   \n",
       "34843          0.798336      2016       22.272727             24   \n",
       "34844          0.370843      2016        8.545455              0   \n",
       "34845          0.422991      2016       12.272727              0   \n",
       "34846          0.869034      2017        2.454545             30   \n",
       "34847          0.776479      2016       30.272727              0   \n",
       "\n",
       "       lab_day_hours  \n",
       "0                 66  \n",
       "2                 50  \n",
       "3                 15  \n",
       "4                 80  \n",
       "5                 33  \n",
       "...              ...  \n",
       "34843             46  \n",
       "34844              0  \n",
       "34845             17  \n",
       "34846             48  \n",
       "34847              0  \n",
       "\n",
       "[33509 rows x 20 columns]"
      ]
     },
     "execution_count": 96,
     "metadata": {},
     "output_type": "execute_result"
    }
   ],
   "source": [
    "restaurants_data_models"
   ]
  },
  {
   "cell_type": "code",
   "execution_count": null,
   "metadata": {
    "id": "64HygDCRFTLt"
   },
   "outputs": [],
   "source": [
    "restaurants_data_models.to_parquet(\"../data/restaurants/restaurants_data_models.parquet\",\n",
    "              compression='gzip')"
   ]
  },
  {
   "cell_type": "code",
   "execution_count": null,
   "metadata": {
    "colab": {
     "base_uri": "https://localhost:8080/",
     "height": 426
    },
    "executionInfo": {
     "elapsed": 426,
     "status": "ok",
     "timestamp": 1672942321464,
     "user": {
      "displayName": "Pablo Soto López",
      "userId": "08112082177697405353"
     },
     "user_tz": -60
    },
    "id": "HorH-oMsCh17",
    "outputId": "97616df9-17f7-492e-c003-d795105d5823"
   },
   "outputs": [
    {
     "data": {
      "text/html": [
       "\n",
       "  <div id=\"df-1e323b9d-07b3-417f-8434-fcbeee35cbbd\">\n",
       "    <div class=\"colab-df-container\">\n",
       "      <div>\n",
       "<style scoped>\n",
       "    .dataframe tbody tr th:only-of-type {\n",
       "        vertical-align: middle;\n",
       "    }\n",
       "\n",
       "    .dataframe tbody tr th {\n",
       "        vertical-align: top;\n",
       "    }\n",
       "\n",
       "    .dataframe thead th {\n",
       "        text-align: right;\n",
       "    }\n",
       "</style>\n",
       "<table border=\"1\" class=\"dataframe\">\n",
       "  <thead>\n",
       "    <tr style=\"text-align: right;\">\n",
       "      <th></th>\n",
       "      <th>count</th>\n",
       "      <th>mean</th>\n",
       "      <th>std</th>\n",
       "      <th>min</th>\n",
       "      <th>25%</th>\n",
       "      <th>50%</th>\n",
       "      <th>75%</th>\n",
       "      <th>max</th>\n",
       "    </tr>\n",
       "  </thead>\n",
       "  <tbody>\n",
       "    <tr>\n",
       "      <th>latitude</th>\n",
       "      <td>33509.0</td>\n",
       "      <td>36.932035</td>\n",
       "      <td>6.011475</td>\n",
       "      <td>27.564457</td>\n",
       "      <td>32.183003</td>\n",
       "      <td>39.456435</td>\n",
       "      <td>39.959169</td>\n",
       "      <td>53.649743</td>\n",
       "    </tr>\n",
       "    <tr>\n",
       "      <th>longitude</th>\n",
       "      <td>33509.0</td>\n",
       "      <td>-87.829183</td>\n",
       "      <td>13.713526</td>\n",
       "      <td>-120.083748</td>\n",
       "      <td>-90.224017</td>\n",
       "      <td>-86.027664</td>\n",
       "      <td>-75.379921</td>\n",
       "      <td>-74.680250</td>\n",
       "    </tr>\n",
       "    <tr>\n",
       "      <th>Alcohol</th>\n",
       "      <td>33509.0</td>\n",
       "      <td>1.074249</td>\n",
       "      <td>1.033105</td>\n",
       "      <td>0.000000</td>\n",
       "      <td>0.000000</td>\n",
       "      <td>1.000000</td>\n",
       "      <td>2.000000</td>\n",
       "      <td>3.000000</td>\n",
       "    </tr>\n",
       "    <tr>\n",
       "      <th>DriveThru</th>\n",
       "      <td>33509.0</td>\n",
       "      <td>0.095049</td>\n",
       "      <td>0.293287</td>\n",
       "      <td>0.000000</td>\n",
       "      <td>0.000000</td>\n",
       "      <td>0.000000</td>\n",
       "      <td>0.000000</td>\n",
       "      <td>1.000000</td>\n",
       "    </tr>\n",
       "    <tr>\n",
       "      <th>RestaurantsDelivery</th>\n",
       "      <td>33509.0</td>\n",
       "      <td>0.641589</td>\n",
       "      <td>0.479541</td>\n",
       "      <td>0.000000</td>\n",
       "      <td>0.000000</td>\n",
       "      <td>1.000000</td>\n",
       "      <td>1.000000</td>\n",
       "      <td>1.000000</td>\n",
       "    </tr>\n",
       "    <tr>\n",
       "      <th>RestaurantsPriceRange2</th>\n",
       "      <td>33509.0</td>\n",
       "      <td>1.092035</td>\n",
       "      <td>0.956218</td>\n",
       "      <td>0.000000</td>\n",
       "      <td>0.000000</td>\n",
       "      <td>1.000000</td>\n",
       "      <td>2.000000</td>\n",
       "      <td>4.000000</td>\n",
       "    </tr>\n",
       "    <tr>\n",
       "      <th>rew_count_2016</th>\n",
       "      <td>33509.0</td>\n",
       "      <td>78.623504</td>\n",
       "      <td>153.634748</td>\n",
       "      <td>5.000000</td>\n",
       "      <td>14.000000</td>\n",
       "      <td>33.000000</td>\n",
       "      <td>84.000000</td>\n",
       "      <td>5939.000000</td>\n",
       "    </tr>\n",
       "    <tr>\n",
       "      <th>vander_comp_mean</th>\n",
       "      <td>33509.0</td>\n",
       "      <td>0.530695</td>\n",
       "      <td>0.313018</td>\n",
       "      <td>-0.784640</td>\n",
       "      <td>0.370547</td>\n",
       "      <td>0.624169</td>\n",
       "      <td>0.764386</td>\n",
       "      <td>0.993762</td>\n",
       "    </tr>\n",
       "    <tr>\n",
       "      <th>date_min</th>\n",
       "      <td>33509.0</td>\n",
       "      <td>2016.794861</td>\n",
       "      <td>1.482659</td>\n",
       "      <td>2015.000000</td>\n",
       "      <td>2016.000000</td>\n",
       "      <td>2016.000000</td>\n",
       "      <td>2017.000000</td>\n",
       "      <td>2022.000000</td>\n",
       "    </tr>\n",
       "    <tr>\n",
       "      <th>cat_value_mean</th>\n",
       "      <td>33509.0</td>\n",
       "      <td>26.130000</td>\n",
       "      <td>32.752890</td>\n",
       "      <td>0.000000</td>\n",
       "      <td>4.909091</td>\n",
       "      <td>14.454545</td>\n",
       "      <td>32.636364</td>\n",
       "      <td>605.727273</td>\n",
       "    </tr>\n",
       "    <tr>\n",
       "      <th>weekend_hours</th>\n",
       "      <td>33509.0</td>\n",
       "      <td>18.398520</td>\n",
       "      <td>9.847073</td>\n",
       "      <td>0.000000</td>\n",
       "      <td>14.000000</td>\n",
       "      <td>20.000000</td>\n",
       "      <td>24.000000</td>\n",
       "      <td>46.000000</td>\n",
       "    </tr>\n",
       "    <tr>\n",
       "      <th>lab_day_hours</th>\n",
       "      <td>33509.0</td>\n",
       "      <td>41.953535</td>\n",
       "      <td>23.259449</td>\n",
       "      <td>0.000000</td>\n",
       "      <td>28.000000</td>\n",
       "      <td>45.000000</td>\n",
       "      <td>56.000000</td>\n",
       "      <td>115.000000</td>\n",
       "    </tr>\n",
       "  </tbody>\n",
       "</table>\n",
       "</div>\n",
       "      <button class=\"colab-df-convert\" onclick=\"convertToInteractive('df-1e323b9d-07b3-417f-8434-fcbeee35cbbd')\"\n",
       "              title=\"Convert this dataframe to an interactive table.\"\n",
       "              style=\"display:none;\">\n",
       "        \n",
       "  <svg xmlns=\"http://www.w3.org/2000/svg\" height=\"24px\"viewBox=\"0 0 24 24\"\n",
       "       width=\"24px\">\n",
       "    <path d=\"M0 0h24v24H0V0z\" fill=\"none\"/>\n",
       "    <path d=\"M18.56 5.44l.94 2.06.94-2.06 2.06-.94-2.06-.94-.94-2.06-.94 2.06-2.06.94zm-11 1L8.5 8.5l.94-2.06 2.06-.94-2.06-.94L8.5 2.5l-.94 2.06-2.06.94zm10 10l.94 2.06.94-2.06 2.06-.94-2.06-.94-.94-2.06-.94 2.06-2.06.94z\"/><path d=\"M17.41 7.96l-1.37-1.37c-.4-.4-.92-.59-1.43-.59-.52 0-1.04.2-1.43.59L10.3 9.45l-7.72 7.72c-.78.78-.78 2.05 0 2.83L4 21.41c.39.39.9.59 1.41.59.51 0 1.02-.2 1.41-.59l7.78-7.78 2.81-2.81c.8-.78.8-2.07 0-2.86zM5.41 20L4 18.59l7.72-7.72 1.47 1.35L5.41 20z\"/>\n",
       "  </svg>\n",
       "      </button>\n",
       "      \n",
       "  <style>\n",
       "    .colab-df-container {\n",
       "      display:flex;\n",
       "      flex-wrap:wrap;\n",
       "      gap: 12px;\n",
       "    }\n",
       "\n",
       "    .colab-df-convert {\n",
       "      background-color: #E8F0FE;\n",
       "      border: none;\n",
       "      border-radius: 50%;\n",
       "      cursor: pointer;\n",
       "      display: none;\n",
       "      fill: #1967D2;\n",
       "      height: 32px;\n",
       "      padding: 0 0 0 0;\n",
       "      width: 32px;\n",
       "    }\n",
       "\n",
       "    .colab-df-convert:hover {\n",
       "      background-color: #E2EBFA;\n",
       "      box-shadow: 0px 1px 2px rgba(60, 64, 67, 0.3), 0px 1px 3px 1px rgba(60, 64, 67, 0.15);\n",
       "      fill: #174EA6;\n",
       "    }\n",
       "\n",
       "    [theme=dark] .colab-df-convert {\n",
       "      background-color: #3B4455;\n",
       "      fill: #D2E3FC;\n",
       "    }\n",
       "\n",
       "    [theme=dark] .colab-df-convert:hover {\n",
       "      background-color: #434B5C;\n",
       "      box-shadow: 0px 1px 3px 1px rgba(0, 0, 0, 0.15);\n",
       "      filter: drop-shadow(0px 1px 2px rgba(0, 0, 0, 0.3));\n",
       "      fill: #FFFFFF;\n",
       "    }\n",
       "  </style>\n",
       "\n",
       "      <script>\n",
       "        const buttonEl =\n",
       "          document.querySelector('#df-1e323b9d-07b3-417f-8434-fcbeee35cbbd button.colab-df-convert');\n",
       "        buttonEl.style.display =\n",
       "          google.colab.kernel.accessAllowed ? 'block' : 'none';\n",
       "\n",
       "        async function convertToInteractive(key) {\n",
       "          const element = document.querySelector('#df-1e323b9d-07b3-417f-8434-fcbeee35cbbd');\n",
       "          const dataTable =\n",
       "            await google.colab.kernel.invokeFunction('convertToInteractive',\n",
       "                                                     [key], {});\n",
       "          if (!dataTable) return;\n",
       "\n",
       "          const docLinkHtml = 'Like what you see? Visit the ' +\n",
       "            '<a target=\"_blank\" href=https://colab.research.google.com/notebooks/data_table.ipynb>data table notebook</a>'\n",
       "            + ' to learn more about interactive tables.';\n",
       "          element.innerHTML = '';\n",
       "          dataTable['output_type'] = 'display_data';\n",
       "          await google.colab.output.renderOutput(dataTable, element);\n",
       "          const docLink = document.createElement('div');\n",
       "          docLink.innerHTML = docLinkHtml;\n",
       "          element.appendChild(docLink);\n",
       "        }\n",
       "      </script>\n",
       "    </div>\n",
       "  </div>\n",
       "  "
      ],
      "text/plain": [
       "                          count         mean         std          min  \\\n",
       "latitude                33509.0    36.932035    6.011475    27.564457   \n",
       "longitude               33509.0   -87.829183   13.713526  -120.083748   \n",
       "Alcohol                 33509.0     1.074249    1.033105     0.000000   \n",
       "DriveThru               33509.0     0.095049    0.293287     0.000000   \n",
       "RestaurantsDelivery     33509.0     0.641589    0.479541     0.000000   \n",
       "RestaurantsPriceRange2  33509.0     1.092035    0.956218     0.000000   \n",
       "rew_count_2016          33509.0    78.623504  153.634748     5.000000   \n",
       "vander_comp_mean        33509.0     0.530695    0.313018    -0.784640   \n",
       "date_min                33509.0  2016.794861    1.482659  2015.000000   \n",
       "cat_value_mean          33509.0    26.130000   32.752890     0.000000   \n",
       "weekend_hours           33509.0    18.398520    9.847073     0.000000   \n",
       "lab_day_hours           33509.0    41.953535   23.259449     0.000000   \n",
       "\n",
       "                                25%          50%          75%          max  \n",
       "latitude                  32.183003    39.456435    39.959169    53.649743  \n",
       "longitude                -90.224017   -86.027664   -75.379921   -74.680250  \n",
       "Alcohol                    0.000000     1.000000     2.000000     3.000000  \n",
       "DriveThru                  0.000000     0.000000     0.000000     1.000000  \n",
       "RestaurantsDelivery        0.000000     1.000000     1.000000     1.000000  \n",
       "RestaurantsPriceRange2     0.000000     1.000000     2.000000     4.000000  \n",
       "rew_count_2016            14.000000    33.000000    84.000000  5939.000000  \n",
       "vander_comp_mean           0.370547     0.624169     0.764386     0.993762  \n",
       "date_min                2016.000000  2016.000000  2017.000000  2022.000000  \n",
       "cat_value_mean             4.909091    14.454545    32.636364   605.727273  \n",
       "weekend_hours             14.000000    20.000000    24.000000    46.000000  \n",
       "lab_day_hours             28.000000    45.000000    56.000000   115.000000  "
      ]
     },
     "execution_count": 99,
     "metadata": {},
     "output_type": "execute_result"
    }
   ],
   "source": [
    "restaurants_data_models.describe().T"
   ]
  },
  {
   "cell_type": "code",
   "execution_count": null,
   "metadata": {
    "id": "y7TB_mDO4NPO"
   },
   "outputs": [],
   "source": [
    "selected = ['Alcohol', 'DriveThru', 'RestaurantsDelivery', 'RestaurantsPriceRange2','rew_count_2016','vander_comp_mean','date_min',\n",
    " 'cat_value_mean', 'weekend_hours', 'lab_day_hours']"
   ]
  },
  {
   "cell_type": "code",
   "execution_count": null,
   "metadata": {
    "id": "bExGEaVOsaUN"
   },
   "outputs": [],
   "source": [
    "X_train_selected = X_train[selected]\n",
    "X_test_selected = X_test[selected]"
   ]
  },
  {
   "cell_type": "code",
   "execution_count": null,
   "metadata": {
    "id": "3j8BIkSFs-2B"
   },
   "outputs": [],
   "source": [
    "list_columns_cat = [col for col in X_train_selected.columns if col in categorical_vars ]\n",
    "list_other = list(set(X_train_selected.columns) - set(list_columns_cat))\n",
    "one = ce.OneHotEncoder(cols=list_columns_cat)\n",
    "model = one.fit(X_train_selected, y_train)"
   ]
  },
  {
   "cell_type": "code",
   "execution_count": null,
   "metadata": {
    "colab": {
     "base_uri": "https://localhost:8080/"
    },
    "executionInfo": {
     "elapsed": 836,
     "status": "ok",
     "timestamp": 1672942374098,
     "user": {
      "displayName": "Pablo Soto López",
      "userId": "08112082177697405353"
     },
     "user_tz": -60
    },
    "id": "HETy0iLEtCEd",
    "outputId": "c90d6fae-a3b2-423e-c983-cca0cdea8320"
   },
   "outputs": [
    {
     "data": {
      "text/plain": [
       "17"
      ]
     },
     "execution_count": 103,
     "metadata": {},
     "output_type": "execute_result"
    }
   ],
   "source": [
    "X_train_selected_t = model.transform(X_train_selected, y_train)\n",
    "X_test_selected_t = model.transform(X_test_selected, y_test)\n",
    "len(list(X_train_selected_t.columns))"
   ]
  },
  {
   "cell_type": "code",
   "execution_count": null,
   "metadata": {
    "colab": {
     "base_uri": "https://localhost:8080/"
    },
    "executionInfo": {
     "elapsed": 605,
     "status": "ok",
     "timestamp": 1672942380221,
     "user": {
      "displayName": "Pablo Soto López",
      "userId": "08112082177697405353"
     },
     "user_tz": -60
    },
    "id": "Vz_QhgsCtEWc",
    "outputId": "34f14ac5-c400-45c3-acf1-a8ad19e8603a"
   },
   "outputs": [
    {
     "data": {
      "text/plain": [
       "Index(['Alcohol_1', 'Alcohol_2', 'Alcohol_3', 'Alcohol_4', 'DriveThru',\n",
       "       'RestaurantsDelivery', 'RestaurantsPriceRange2_1',\n",
       "       'RestaurantsPriceRange2_2', 'RestaurantsPriceRange2_3',\n",
       "       'RestaurantsPriceRange2_4', 'RestaurantsPriceRange2_5',\n",
       "       'rew_count_2016', 'vander_comp_mean', 'date_min', 'cat_value_mean',\n",
       "       'weekend_hours', 'lab_day_hours'],\n",
       "      dtype='object')"
      ]
     },
     "execution_count": 104,
     "metadata": {},
     "output_type": "execute_result"
    }
   ],
   "source": [
    "X_train_selected_t.columns"
   ]
  },
  {
   "cell_type": "code",
   "execution_count": null,
   "metadata": {
    "colab": {
     "base_uri": "https://localhost:8080/"
    },
    "executionInfo": {
     "elapsed": 3683,
     "status": "ok",
     "timestamp": 1672942386262,
     "user": {
      "displayName": "Pablo Soto López",
      "userId": "08112082177697405353"
     },
     "user_tz": -60
    },
    "id": "XNCbCSGRtEZj",
    "outputId": "e2ebc7da-39e0-492e-b297-43ed980d0ed4"
   },
   "outputs": [
    {
     "data": {
      "text/plain": [
       "RandomForestClassifier(criterion='entropy', max_depth=50, max_features='sqrt',\n",
       "                       n_estimators=50)"
      ]
     },
     "execution_count": 105,
     "metadata": {},
     "output_type": "execute_result"
    }
   ],
   "source": [
    "\n",
    "RF = RandomForestClassifier(n_estimators = 50, max_features= 'sqrt', max_depth = 50, criterion='entropy')\n",
    "\n",
    "# the model is trained with the training dataset\n",
    "RF.fit(X_train_selected_t, y_train)\n",
    "\n"
   ]
  },
  {
   "cell_type": "code",
   "execution_count": null,
   "metadata": {
    "colab": {
     "base_uri": "https://localhost:8080/"
    },
    "executionInfo": {
     "elapsed": 2977,
     "status": "ok",
     "timestamp": 1672942391951,
     "user": {
      "displayName": "Pablo Soto López",
      "userId": "08112082177697405353"
     },
     "user_tz": -60
    },
    "id": "GqHieijrvde1",
    "outputId": "c545858b-998d-45b9-e518-3032716bc48b"
   },
   "outputs": [
    {
     "data": {
      "text/plain": [
       "RandomForestClassifier(criterion='entropy', max_depth=50, max_features='sqrt',\n",
       "                       n_estimators=50)"
      ]
     },
     "execution_count": 106,
     "metadata": {},
     "output_type": "execute_result"
    }
   ],
   "source": [
    "RF.fit(X_train_selected_t, y_train)\n"
   ]
  },
  {
   "cell_type": "code",
   "execution_count": null,
   "metadata": {
    "colab": {
     "base_uri": "https://localhost:8080/"
    },
    "executionInfo": {
     "elapsed": 551,
     "status": "ok",
     "timestamp": 1672942395533,
     "user": {
      "displayName": "Pablo Soto López",
      "userId": "08112082177697405353"
     },
     "user_tz": -60
    },
    "id": "v-uwMSSdtEcs",
    "outputId": "3fab96b9-2bbc-4d72-c388-f958b92aa7cc"
   },
   "outputs": [
    {
     "name": "stdout",
     "output_type": "stream",
     "text": [
      "82.43807818561623\n",
      "[[ 490  171    2]\n",
      " [ 132 2262  459]\n",
      " [   0  413 2773]]\n",
      "              precision    recall  f1-score   support\n",
      "\n",
      "    negativo       0.79      0.74      0.76       663\n",
      "      neutro       0.79      0.79      0.79      2853\n",
      "    positivo       0.86      0.87      0.86      3186\n",
      "\n",
      "    accuracy                           0.82      6702\n",
      "   macro avg       0.81      0.80      0.81      6702\n",
      "weighted avg       0.82      0.82      0.82      6702\n",
      "\n"
     ]
    }
   ],
   "source": [
    "from sklearn.metrics import classification_report, confusion_matrix\n",
    "# predicts the class of test\n",
    "predictions = RF.predict(X_test_selected_t )\n",
    "\n",
    "# Evaluate predictions\n",
    "print(RF.score(X_test_selected_t, y_test) * 100)\n",
    "print(confusion_matrix(y_test, predictions))\n",
    "print(classification_report(y_test, RF.predict(X_test_selected_t)))"
   ]
  },
  {
   "cell_type": "code",
   "execution_count": null,
   "metadata": {
    "colab": {
     "base_uri": "https://localhost:8080/",
     "height": 627
    },
    "executionInfo": {
     "elapsed": 1003,
     "status": "ok",
     "timestamp": 1672942410843,
     "user": {
      "displayName": "Pablo Soto López",
      "userId": "08112082177697405353"
     },
     "user_tz": -60
    },
    "id": "uFOsDTe0tEij",
    "outputId": "cbc04abb-f8fb-43eb-d542-9fed93b86cf4"
   },
   "outputs": [
    {
     "data": {
      "image/png": "[encoded data removed]",
      "text/plain": [
       "<Figure size 1080x720 with 1 Axes>"
      ]
     },
     "metadata": {},
     "output_type": "display_data"
    }
   ],
   "source": [
    "feature_importance = RF.feature_importances_\n",
    "# make importances relative to max importance\n",
    "feature_importance = 100.0 * (feature_importance / feature_importance.max())\n",
    "sorted_idx = np.argsort(feature_importance)\n",
    "pos = np.arange(sorted_idx.shape[0]) + .5\n",
    "# plt.subplot(1, 2, 2)\n",
    "plt.figure(figsize=(15, 10))\n",
    "plt.barh(pos, feature_importance[sorted_idx], align='center')\n",
    "plt.yticks(pos, X_train_selected_t.keys()[sorted_idx])\n",
    "plt.xlabel('Relative Importance')\n",
    "plt.title('Variable Importance')\n",
    "plt.show()"
   ]
  }
 ],
 "metadata": {
  "colab": {
   "authorship_tag": "ABX9TyOgR4wW04TYfV40f1lOK1sj",
   "machine_shape": "hm",
   "provenance": []
  },
  "gpuClass": "standard",
  "kernelspec": {
   "display_name": "Python 3 (ipykernel)",
   "language": "python",
   "name": "python3"
  },
  "language_info": {
   "codemirror_mode": {
    "name": "ipython",
    "version": 3
   },
   "file_extension": ".py",
   "mimetype": "text/x-python",
   "name": "python",
   "nbconvert_exporter": "python",
   "pygments_lexer": "ipython3",
   "version": "3.8.12"
  }
 },
 "nbformat": 4,
 "nbformat_minor": 4
}
